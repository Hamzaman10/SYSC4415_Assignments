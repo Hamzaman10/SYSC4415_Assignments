{
  "nbformat": 4,
  "nbformat_minor": 0,
  "metadata": {
    "colab": {
      "provenance": [],
      "mount_file_id": "1XMpc-Kfh43GFq2CQ3tiABLuutML-meQx",
      "authorship_tag": "ABX9TyP9KJJhr4vnUkcXDPlP1Xx1",
      "include_colab_link": true
    },
    "kernelspec": {
      "name": "python3",
      "display_name": "Python 3"
    },
    "language_info": {
      "name": "python"
    },
    "gpuClass": "standard"
  },
  "cells": [
    {
      "cell_type": "markdown",
      "metadata": {
        "id": "view-in-github",
        "colab_type": "text"
      },
      "source": [
        "<a href=\"https://colab.research.google.com/github/Hamzaman10/SYSC4906_Assignments/blob/main/SYSC4415W23_A3_Hamza_Zafar_101119026.ipynb\" target=\"_parent\"><img src=\"https://colab.research.google.com/assets/colab-badge.svg\" alt=\"Open In Colab\"/></a>"
      ]
    },
    {
      "cell_type": "markdown",
      "source": [
        "## SYSC 4415 Assignment 3\n",
        "# Hamza Zafar\n",
        "# 101119026\n",
        "\n",
        "if running on your own machine you will need to change the file paths for the csv files"
      ],
      "metadata": {
        "id": "-WrnxwWaqLUb"
      }
    },
    {
      "cell_type": "code",
      "execution_count": null,
      "metadata": {
        "id": "pmZ7Gky81eXC"
      },
      "outputs": [],
      "source": [
        "\n",
        "import pandas as pd\n",
        "import numpy as np\n",
        "from sklearn.ensemble import RandomForestClassifier\n",
        "from sklearn.svm import SVC\n",
        "from xgboost import XGBClassifier\n",
        "from sklearn.model_selection import train_test_split\n",
        "from sklearn.metrics import accuracy_score\n",
        "from sklearn.preprocessing import StandardScaler\n",
        "from sklearn.feature_selection import SelectKBest, f_classif\n",
        "from sklearn.impute import SimpleImputer\n",
        "from sklearn.ensemble import VotingClassifier\n",
        "from sklearn.model_selection import cross_val_score\n",
        "import random\n",
        "from sklearn.feature_selection import VarianceThreshold\n",
        "import matplotlib.pyplot as plt\n",
        "from sklearn.metrics import confusion_matrix, precision_recall_curve, average_precision_score, classification_report"
      ]
    },
    {
      "cell_type": "code",
      "source": [
        "\n",
        "# Load extracted features and labels\n",
        "features = pd.read_csv('/content/drive/MyDrive/Colab Notebooks/SYSC4415W23_A3_dataset/SYSC4415W23_A3_dataset/train/extracted_features.csv')\n",
        "labels = pd.read_csv('/content/drive/MyDrive/Colab Notebooks/SYSC4415W23_A3_dataset/SYSC4415W23_A3_dataset/train/labels.csv')\n",
        "\n",
        "# get rid of features with missing values as that causes problems\n",
        "features = features.dropna(axis=1)\n",
        "\n",
        "# Sort features dataframe by sample_id to make things easier\n",
        "features = features.sort_values(by='sample_id')\n",
        "\n",
        "# Reset the index after sorting also to make things easier\n",
        "features = features.reset_index(drop=True)\n",
        "\n",
        "# Sort labels dataframe by sample_id\n",
        "labels = labels.sort_values(by='sample_id')\n",
        "\n",
        "# Reset the index after sorting\n",
        "labels = labels.reset_index(drop=True)"
      ],
      "metadata": {
        "id": "uc2RY8A53Jf5"
      },
      "execution_count": null,
      "outputs": []
    },
    {
      "cell_type": "code",
      "source": [
        "# Select the top 2000 features using selectKBest\n",
        "\n",
        "selector = SelectKBest(score_func=f_classif, k=2000)\n",
        "X_selected = selector.fit_transform(features.drop(columns='sample_id'), labels['label'])\n",
        "\n",
        "#get an array of the selected features\n",
        "selected_features_indices = selector.get_support(indices=True)\n",
        "\n",
        "\n",
        "# Split the data into training and validation sets 80/20\n",
        "X_train, X_val, y_train, y_val = train_test_split(X_selected, labels['label'], test_size=0.2, random_state=42)\n"
      ],
      "metadata": {
        "id": "GVJRMMbB8h3X"
      },
      "execution_count": null,
      "outputs": []
    },
    {
      "cell_type": "code",
      "source": [
        "from sklearn.linear_model import LogisticRegression\n",
        "\n",
        "# Logistic Regression\n",
        "#higher max_iter needed as Liblinear failed to converge with default 100\n",
        "lr = LogisticRegression(solver='liblinear',max_iter=1000, random_state=42)\n",
        "lr.fit(X_train, y_train)\n",
        "\n",
        "y_pred = lr.predict(X_val)\n",
        "accuracy = accuracy_score(y_val, y_pred)\n",
        "print('Logistic Regression accuracy:', accuracy)\n"
      ],
      "metadata": {
        "colab": {
          "base_uri": "https://localhost:8080/"
        },
        "id": "QlR6c4Va8re0",
        "outputId": "745ab79a-56d6-43c0-b1b3-324d9d728142"
      },
      "execution_count": null,
      "outputs": [
        {
          "output_type": "stream",
          "name": "stdout",
          "text": [
            "Logistic Regression accuracy: 0.7230769230769231\n"
          ]
        }
      ]
    },
    {
      "cell_type": "code",
      "source": [
        "# Random Forest\n",
        "#n_estimator found using trial and error\n",
        "rf = RandomForestClassifier(n_estimators=500, random_state=42)\n",
        "rf.fit(X_train, y_train)\n",
        "\n",
        "# Evaluate on validation set\n",
        "y_pred = rf.predict(X_val)\n",
        "accuracy = accuracy_score(y_val, y_pred)\n",
        "print('Random Forest accuracy:', accuracy)"
      ],
      "metadata": {
        "colab": {
          "base_uri": "https://localhost:8080/"
        },
        "id": "uFqCrqaJ8zFT",
        "outputId": "850a6448-040e-4944-dc7e-9440aa956c59"
      },
      "execution_count": null,
      "outputs": [
        {
          "output_type": "stream",
          "name": "stdout",
          "text": [
            "Random Forest accuracy: 0.7692307692307693\n"
          ]
        }
      ]
    },
    {
      "cell_type": "code",
      "source": [
        "# XGBoost\n",
        "#n_estimator found using trial and error\n",
        "xgb = XGBClassifier(n_estimators=100, random_state=42)\n",
        "xgb.fit(X_train, y_train)\n",
        "\n",
        "# Evaluate on validation set\n",
        "y_pred = xgb.predict(X_val)\n",
        "accuracy = accuracy_score(y_val, y_pred)\n",
        "print('XGBOOST accuracy:', accuracy)\n"
      ],
      "metadata": {
        "colab": {
          "base_uri": "https://localhost:8080/"
        },
        "id": "h3GlBVI583ma",
        "outputId": "0dc979e5-55ec-4eed-ca42-b56f665f332a"
      },
      "execution_count": null,
      "outputs": [
        {
          "output_type": "stream",
          "name": "stdout",
          "text": [
            "XGBOOST accuracy: 0.7661538461538462\n"
          ]
        }
      ]
    },
    {
      "cell_type": "code",
      "source": [
        "# SVM\n",
        "#linear kernel gave best results by far, found using trial and error\n",
        "svm = SVC(kernel='linear', random_state=42)\n",
        "svm.fit(X_train, y_train)\n",
        "\n",
        "# Evaluate on validation set\n",
        "y_pred = svm.predict(X_val)\n",
        "accuracy = accuracy_score(y_val, y_pred)\n",
        "print('svm accuracy:', accuracy)"
      ],
      "metadata": {
        "colab": {
          "base_uri": "https://localhost:8080/"
        },
        "id": "cBeJepwi86v8",
        "outputId": "546b45e6-df3a-40a9-9ab2-661082317a86"
      },
      "execution_count": null,
      "outputs": [
        {
          "output_type": "stream",
          "name": "stdout",
          "text": [
            "svm accuracy: 0.7138461538461538\n"
          ]
        }
      ]
    },
    {
      "cell_type": "code",
      "source": [
        "# Implement majority voting for the model combination\n",
        "def majority_voting(models, X):\n",
        "    # Get predictions from each model\n",
        "    preds = [model.predict(X) for model in models]\n",
        "\n",
        "    # Initialize an empty list to store the majority votes\n",
        "    majority_votes = []\n",
        "\n",
        "    # Iterate over the range of the number of samples (rows) in the predictions\n",
        "    for i in range(len(X)):\n",
        "\n",
        "        #get the predictions from each model\n",
        "        current_predictions = [pred[i] for pred in preds]\n",
        "\n",
        "        #count the number of times a class was choses\n",
        "        class_counts = np.bincount(current_predictions)\n",
        "\n",
        "        #get the argmax of classes to find which one got the most votes\n",
        "        #argmax handles ties by placing the class that appears first in the array\n",
        "        #get higher accuracy when I do this so I'll leave it like that\n",
        "        majority_vote = np.argmax(class_counts)\n",
        "\n",
        "        #append the majority votes to the list\n",
        "        majority_votes.append(majority_vote)\n",
        "\n",
        "    return np.array(majority_votes)\n",
        "\n"
      ],
      "metadata": {
        "id": "3kZDn6W49BBp"
      },
      "execution_count": null,
      "outputs": []
    },
    {
      "cell_type": "code",
      "source": [
        "# Evaluate the performance of the combined model and show results\n",
        "models = [rf, xgb, svm, lr]\n",
        "y_pred = majority_voting(models, X_val)\n",
        "accuracy = accuracy_score(y_val, y_pred)\n",
        "print(f\"\\nCombined model accuracy: {accuracy:}\")\n",
        "\n",
        "# Compute the confusion matrix\n",
        "cm = confusion_matrix(y_val, y_pred)\n",
        "\n",
        "# Plot the confusion matrix\n",
        "fig, ax = plt.subplots(figsize=(8, 8))\n",
        "# Display the confusion matrix as an image with a blue colormap to make things easier to make out\n",
        "im = ax.imshow(cm, cmap=plt.cm.Blues)\n",
        "# Set the axis ticks, labels, and title\n",
        "ax.set(xticks=np.arange(cm.shape[1]),\n",
        "       yticks=np.arange(cm.shape[0]),\n",
        "       xlabel='Predicted',\n",
        "       ylabel='Actual',\n",
        "       title='Confusion Matrix for Majority Vote Model')\n",
        "\n",
        "# Loop over data dimensions and create text annotations.\n",
        "for i in range(cm.shape[0]):\n",
        "    for j in range(cm.shape[1]):\n",
        "        ax.text(j, i, cm[i, j], color=\"black\")\n",
        "plt.show()\n",
        "\n",
        "\n",
        "\n",
        "\n",
        "\n",
        "\n"
      ],
      "metadata": {
        "colab": {
          "base_uri": "https://localhost:8080/",
          "height": 753
        },
        "id": "fR_offzE9DDp",
        "outputId": "336dfced-7078-48a6-b980-ff77eda65eb1"
      },
      "execution_count": null,
      "outputs": [
        {
          "output_type": "stream",
          "name": "stdout",
          "text": [
            "\n",
            "Combined model accuracy: 0.796923076923077\n"
          ]
        },
        {
          "output_type": "display_data",
          "data": {
            "text/plain": [
              "<Figure size 800x800 with 1 Axes>"
            ],
            "image/png": "[encoded data removed]"
          },
          "metadata": {}
        }
      ]
    },
    {
      "cell_type": "code",
      "source": [
        "# Predict the labels for the test data\n",
        "# Load test features\n",
        "test_features = pd.read_csv('/content/drive/MyDrive/Colab Notebooks/SYSC4415W23_A3_dataset/SYSC4415W23_A3_dataset/test/extracted_features.csv')\n",
        "test_features = test_features.dropna(axis=1)\n",
        "#print(\"Original test features shape:\", test_features.shape)\n",
        "\n",
        "#make sure the test set features match with the ones used in the model because of the feature selection\n",
        "selected_columns = selector.get_support(indices=True)\n",
        "test_features_selected = test_features.iloc[:, selected_columns]\n",
        "X_test = test_features_selected\n",
        "\n",
        "#print(\"Selected test features shape:\", X_test.shape)\n"
      ],
      "metadata": {
        "id": "nU08x0R09HUs"
      },
      "execution_count": null,
      "outputs": []
    },
    {
      "cell_type": "code",
      "source": [
        "#make predictions\n",
        "y_test_pred = majority_voting(models, X_test.values)"
      ],
      "metadata": {
        "id": "yUKzjXEL9MgI"
      },
      "execution_count": null,
      "outputs": []
    },
    {
      "cell_type": "code",
      "source": [
        "# fill dataframe with sample_id's and predicted labels\n",
        "test_labels = pd.DataFrame({'sample_id': test_features['sample_id'], 'label': y_test_pred})\n"
      ],
      "metadata": {
        "id": "uXIlZlXn9PgH"
      },
      "execution_count": null,
      "outputs": []
    },
    {
      "cell_type": "code",
      "source": [
        "#export to a csv file\n",
        "test_labels.to_csv('/content/drive/MyDrive/Colab Notebooks/group2_predictions.csv', index=False)"
      ],
      "metadata": {
        "id": "kWMLQ_jK9S6r"
      },
      "execution_count": null,
      "outputs": []
    },
    {
      "cell_type": "code",
      "source": [
        "# 5-fold cross-validation on the combined model\n",
        "combined_model = VotingClassifier(estimators=[\n",
        "    ('random_forest', RandomForestClassifier(n_estimators=100, random_state=42)),\n",
        "    ('xgboost', XGBClassifier(n_estimators=100, random_state=42)),\n",
        "    ('svm', SVC(kernel='rbf', random_state=42, probability=True)),\n",
        "    ('logistic_regression', LogisticRegression(solver='liblinear', max_iter=1000, random_state=42))\n",
        "], voting='soft')\n",
        "\n"
      ],
      "metadata": {
        "id": "ua4B4DJU9Vz6"
      },
      "execution_count": null,
      "outputs": []
    },
    {
      "cell_type": "code",
      "source": [
        "#run cross-validation\n",
        "#X_selected is the feature matrix with selected features, labels['label'] contains the target variable\n",
        "cv_scores = cross_val_score(combined_model, X_selected, labels['label'], cv=5)"
      ],
      "metadata": {
        "id": "0vsObilX9fZv"
      },
      "execution_count": null,
      "outputs": []
    },
    {
      "cell_type": "code",
      "source": [
        "\n",
        "#get predicted performance and add to csv file\n",
        "predicted_performance = pd.DataFrame({\n",
        "    'predicted_accuracy': [cv_scores.mean()],\n",
        "    'predicted_accuracy_std': [cv_scores.std()]\n",
        "})\n",
        "\n",
        "print(cv_scores.mean())\n",
        "print(cv_scores.std())\n",
        "\n",
        "predicted_performance.to_csv('/content/drive/MyDrive/Colab Notebooks/group2_predicted_performance.csv', index=False)"
      ],
      "metadata": {
        "colab": {
          "base_uri": "https://localhost:8080/"
        },
        "id": "yRmNd7ue9jt8",
        "outputId": "1680d90e-9bbf-4513-e759-3e53d0839810"
      },
      "execution_count": null,
      "outputs": [
        {
          "output_type": "stream",
          "name": "stdout",
          "text": [
            "0.792091168091168\n",
            "0.026175701722294664\n"
          ]
        }
      ]
    }
  ]
}