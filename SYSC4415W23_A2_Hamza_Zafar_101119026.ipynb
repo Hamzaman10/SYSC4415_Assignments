{
  "nbformat": 4,
  "nbformat_minor": 0,
  "metadata": {
    "colab": {
      "provenance": [],
      "include_colab_link": true
    },
    "kernelspec": {
      "name": "python3",
      "display_name": "Python 3"
    },
    "language_info": {
      "name": "python"
    },
    "gpuClass": "standard",
    "accelerator": "GPU"
  },
  "cells": [
    {
      "cell_type": "markdown",
      "metadata": {
        "id": "view-in-github",
        "colab_type": "text"
      },
      "source": [
        "<a href=\"https://colab.research.google.com/github/Hamzaman10/SYSC4906_Assignments/blob/main/SYSC4415W23_A2_Hamza_Zafar_101119026.ipynb\" target=\"_parent\"><img src=\"https://colab.research.google.com/assets/colab-badge.svg\" alt=\"Open In Colab\"/></a>"
      ]
    },
    {
      "cell_type": "markdown",
      "source": [
        "# SYSC4415 - Assignment 2\n",
        "\n",
        "**TA: François Charih \\<francois@charih.ca\\>**\n",
        "\n",
        "**Deadline: March 19th, 2023 @ 11:59PM**\n",
        "\n",
        "## Learning objectives\n",
        "\n",
        "1. Fine-tune pre-trained CNN architectures for a custom image classification challenge.\n",
        "\n",
        "2. Evaluate the performance of machine learning models using different metrics (precision-recall curve, confusion matrices, *etc.*).\n",
        "\n",
        "3. Get hands-on experience with modern machine learning and plotting libraries.\n",
        "\n",
        "## Instructions\n",
        "\n",
        "1. Give yourself plenty of time to complete the assignment (it could take you up to 8-10 hours if you are unfamiliar with Python and machine learning libraries). The models should not take more than 1h to fine-tune (my full notebook runs from start to end in a little under 40 minutes. Coding will be the most time-consuming. ⚠️**Do not wait to the last minute.** ⚠️\n",
        "\n",
        "2. You must use the prescribed methods/functions/libraries mentioned, whenever specified. The functions you need are already imported for you in the appropriate sections. You can reorganize the imports and import the full packages instead of specific functions if you so desire. I imported the necessary function for you so that they are ready to be invoked without have to specify the full path to the functions with the dot operator (i.e. so that you invoke `function()` instead of `package.module.function()`).\n",
        "\n",
        "3. Make sure to include comments for non-trivial code. It is okay to add some code cells, if you think it will give your code better readability/structure.\n",
        "\n",
        "4. If you are unsure about something, clearly state your assumptions and complete the question based off these assumptions.\n",
        "\n",
        "5. Be careful as you complete the assignment. There are several text-based questions to be answered in Markdown (text) cells. The questions are accompanied by the ❓ emoji. Your answers should be entered in the markdown cells with the 📝 emoji.\n",
        "\n",
        "6. Submit your Notebook as both a `.ipynb` file that adopts this naming convention: *SYSC4415W23_A2_\\<First Name\\>_\\<Last Name\\>_\\<StudentID\\>.ipynb* on Brightspace. I should be able to run your code without errors.\n",
        "\n",
        "7. Make sure you enable a GPU accelerator (in Runtime > Change runtime type) starting at Part 4 and that your training code uses it. GPU resources are limited, so it is recommended not to use the accelerator for prior steps.\n",
        "\n",
        "8. All plots should be made with matplotlib and labeled properly (ie. include axis labels and legends).\n",
        "\n",
        "## Context\n",
        "\n",
        "It is 2030, and a new RNA virus named SARS-CoV-3 is wreaking havoc across the globe. Its death rate is estimated at 95%, making it one of the deadliest  respiratory viruses known to mankind. Fortunately, an Ottawa-based biotech company developed a nasally-delivered vaccine *Greenraza*™️ that can neutralize the virus in living patients. However, administrating the vaccine increases the risk of lung cancer by a whooping 60%. It is therefore vital that the drug be administered to infected patients only, not to patients infected with another respiratory virus such as the common cold or influenza. The virus cannot be detected through blood or breath analyses. It can only be detected by means of x-ray imaging.\n",
        "\n",
        "Having heard of your newly developed expertise in deep learning, you have been tasked by the Ottawa Hospital with the design of a machine learning model capable of distinguishing patients infected with SARS-CoV-3 from patients that have pneumonia and non-infected patients. Healthy patients can be discharged, while patients with pneumonia must be isolated, but without being given *Greenraza*™️."
      ],
      "metadata": {
        "id": "PGuAmMpysXXJ"
      }
    },
    {
      "cell_type": "markdown",
      "source": [
        "## Project initialization\n",
        "\n",
        "Run the cells below to set-up the notebook (ie. download the dataset) and install the required external libraries."
      ],
      "metadata": {
        "id": "c33I6cJzIn0O"
      }
    },
    {
      "cell_type": "code",
      "source": [
        "# RUN THIS (downloads the dataset)\n",
        "! rm -rf SYSC4415W23_A2_dataset SYSC4415W23_A2_dataset.zip\n",
        "! wget https://github.com/jrgreen7/SYSC4906/releases/download/Assignment2/SYSC4415W23_A2_dataset.zip && unzip SYSC4415W23_A2_dataset.zip"
      ],
      "metadata": {
        "id": "TEbQzpX8j7bQ"
      },
      "execution_count": null,
      "outputs": []
    },
    {
      "cell_type": "code",
      "source": [
        "# RUN THIS (installs external libraries)\n",
        "!pip install timm\n",
        "!pip install git+https://github.com/nottombrown/imagenet_stubs\n",
        "!pip install torchstat"
      ],
      "metadata": {
        "id": "NanqafBgkZFO"
      },
      "execution_count": null,
      "outputs": []
    },
    {
      "cell_type": "markdown",
      "source": [],
      "metadata": {
        "id": "TJdiBb1oSLiQ"
      }
    },
    {
      "cell_type": "markdown",
      "source": [
        "## Part 1: Preparing the dataset\n",
        "\n",
        "The Ottawa Hospital has provided you with a dataset to develop your model. The dataset is available here. The dataset contains a folder containing a spreadsheet with metadata for each image in the dataset and a subfolder containing the 200x200 images (with random filenames)."
      ],
      "metadata": {
        "id": "q1XKrzDrs11o"
      }
    },
    {
      "cell_type": "code",
      "source": [
        "from pandas import read_csv\n",
        "from matplotlib.pyplot import bar, xlabel, ylabel, title"
      ],
      "metadata": {
        "id": "cLf1gprJKQ1v"
      },
      "execution_count": null,
      "outputs": []
    },
    {
      "cell_type": "markdown",
      "source": [
        "**Step 1:** Using pandas' `read_csv` function, load the dataframe containing the image metadata (`dataset_metadata.csv`)."
      ],
      "metadata": {
        "id": "QHTpQfihKSsY"
      }
    },
    {
      "cell_type": "code",
      "source": [
        "# Loads the image metadata into a pandas dataframe\n",
        "\n",
        "# YOUR CODE HERE\n",
        "\n",
        "metadata = read_csv(\"/content/SYSC4415W23_A2_dataset/dataset_metadata.csv\")"
      ],
      "metadata": {
        "id": "1qhfruYusvHF"
      },
      "execution_count": null,
      "outputs": []
    },
    {
      "cell_type": "markdown",
      "source": [
        "**Step 2:** Use the `head` method to print the top five rows of the dataframe."
      ],
      "metadata": {
        "id": "btf3Q-VK_o1S"
      }
    },
    {
      "cell_type": "code",
      "source": [
        "# Prints the top five rows in the dataset\n",
        "\n",
        "# YOUR CODE HERE\n",
        "\n",
        "print(metadata.head())"
      ],
      "metadata": {
        "id": "SkWvyTpjn8pE",
        "colab": {
          "base_uri": "https://localhost:8080/"
        },
        "outputId": "fe18869b-42a7-49e2-92db-9b28994e08d9"
      },
      "execution_count": null,
      "outputs": [
        {
          "output_type": "stream",
          "name": "stdout",
          "text": [
            "          filename     split            xray_date  height  width   label\n",
            "0   272_normal.jpg  training  2030-11-18 06:50:42     200    200  normal\n",
            "1   788_normal.jpg  training  2030-06-20 21:32:45     200    200  normal\n",
            "2   622_normal.jpg  training  2030-07-12 06:56:19     200    200  normal\n",
            "3  1138_normal.jpg  training  2030-03-15 13:52:16     200    200  normal\n",
            "4  1568_normal.jpg  training  2030-12-22 22:09:18     200    200  normal\n"
          ]
        }
      ]
    },
    {
      "cell_type": "markdown",
      "source": [
        "**Step 3:** Using pandas' [query method](https://pandas.pydata.org/docs/user_guide/indexing.html#the-query-method) and the `len` methods on the selections, print the number of images in the training, validation and test sets."
      ],
      "metadata": {
        "id": "n-ZA-MdI_zzN"
      }
    },
    {
      "cell_type": "code",
      "source": [
        "# Prints the dimensions of the dataframe\n",
        "\n",
        "# YOUR CODE HERE\n",
        "\n",
        "print(\"the number of images in the training set is:\", len(metadata.query('split == \"training\"')))\n",
        "print(\"the number of images in the test set is:\", len(metadata.query('split == \"test\"')))\n",
        "print(\"the number of images in the validation set is:\", len(metadata.query('split == \"validation\"')))"
      ],
      "metadata": {
        "id": "ewWdw9Zvx5x6",
        "colab": {
          "base_uri": "https://localhost:8080/"
        },
        "outputId": "d18c1e21-54b3-4c27-d805-3fb1a20318b1"
      },
      "execution_count": null,
      "outputs": [
        {
          "output_type": "stream",
          "name": "stdout",
          "text": [
            "the number of images in the training set is: 2222\n",
            "the number of images in the test set is: 505\n",
            "the number of images in the validation set is: 645\n"
          ]
        }
      ]
    },
    {
      "cell_type": "markdown",
      "source": [
        "**Step 4:** Using the `value_counts` method on the “label” column, provide the composition of the dataset in terms of the number of SARS-CoV-3 cases, pneumonia cases and healthy x-rays. In another cell, prepare a bar chart from that data using matplotlib's `bar` method. Note that the result of the `value_counts` methods is a series object whose property `index` is the label."
      ],
      "metadata": {
        "id": "D_cEMcdnwzpo"
      }
    },
    {
      "cell_type": "code",
      "source": [
        "# Generates a breakdown of the images' classes\n",
        "\n",
        "# YOUR CODE HERE\n",
        "#sarscov3 pneumonia\n",
        "\n",
        "print(metadata['label'].value_counts())"
      ],
      "metadata": {
        "id": "XnNdC4_XxOV1",
        "colab": {
          "base_uri": "https://localhost:8080/"
        },
        "outputId": "f762ab94-ee17-45a8-ea06-3b86f8633b37"
      },
      "execution_count": null,
      "outputs": [
        {
          "output_type": "stream",
          "name": "stdout",
          "text": [
            "normal       1500\n",
            "pneumonia    1300\n",
            "sarscov3      572\n",
            "Name: label, dtype: int64\n"
          ]
        }
      ]
    },
    {
      "cell_type": "code",
      "source": [
        "# Plots a bar chart\n",
        "\n",
        "# YOUR CODE HERE\n",
        "\n",
        "\n",
        "query = (metadata['label'].value_counts())\n",
        "bar(range(len(query)), query)\n",
        "x = xlabel(\"virus\")\n",
        "y = ylabel(\"number of cases\")\n",
        "title = (\"Test\")\n",
        "\n",
        "\n"
      ],
      "metadata": {
        "id": "DgEUaXfujlR3",
        "colab": {
          "base_uri": "https://localhost:8080/",
          "height": 279
        },
        "outputId": "3b352026-9db5-4764-9fee-08f1acbdf83a"
      },
      "execution_count": null,
      "outputs": [
        {
          "output_type": "display_data",
          "data": {
            "text/plain": [
              "<Figure size 432x288 with 1 Axes>"
            ],
            "image/png": "[encoded data removed]"
          },
          "metadata": {
            "needs_background": "light"
          }
        }
      ]
    },
    {
      "cell_type": "markdown",
      "source": [
        "❓ ***Question: Is the data balanced or not? If not, specify why class imbalance makes classification more difficult, and suggest one method you could use to deal with the imbalanced data.***\n",
        "\n",
        "Yes this dataset is imbalanced, as we can see there's significantly more normal and pneumonia cases than saars-cov. This makes classification more difficult because it can cause the model to be biased towards normal and pneumonia. One method to deal with this is oversampling. With oversampling yo ucan duplicate the data in the minority class to increase the number of it's examples"
      ],
      "metadata": {
        "id": "7actPHfExeYB"
      }
    },
    {
      "cell_type": "markdown",
      "source": [
        "📝 YOUR ANSWER GOES HERE\n",
        "\n"
      ],
      "metadata": {
        "id": "6QR5HTn_m9P6"
      }
    },
    {
      "cell_type": "markdown",
      "source": [
        "## Part 2: Applying pre-trained CNN models to the data\n",
        "\n",
        "Researchers make pre-trained neural networks available to the community at large. There are many, many pre-trained CNNs available in online repositories that researchers can leverage for their own applications."
      ],
      "metadata": {
        "id": "2gGFYwdHBWvZ"
      }
    },
    {
      "cell_type": "code",
      "source": [
        "from torchvision.io import read_image\n",
        "from timm import create_model\n",
        "from matplotlib.pyplot import imread, imshow\n",
        "from imagenet_stubs.imagenet_2012_labels import label_to_name\n",
        "import torch"
      ],
      "metadata": {
        "id": "vNx-cQJlKCi6"
      },
      "execution_count": null,
      "outputs": []
    },
    {
      "cell_type": "markdown",
      "source": [
        "**Step 1:** Display the image `SYSC4415W23_A2_dataset/training/sarscov3/100_sarscov3.jpg` from the test set. The matplotlib methods `imread` and `imshow` are useful. 😉"
      ],
      "metadata": {
        "id": "fxQ7F3K6KCvM"
      }
    },
    {
      "cell_type": "code",
      "source": [
        "# Display the image with matplotlib's imread/imshow\n",
        "\n",
        "# YOUR CODE HERE\n",
        "display = imread('SYSC4415W23_A2_dataset/training/sarscov3/100_sarscov3.jpg')\n",
        "imshow(display)"
      ],
      "metadata": {
        "id": "ckGQkYL6k41-",
        "colab": {
          "base_uri": "https://localhost:8080/",
          "height": 286
        },
        "outputId": "eb5e3e4c-ac82-4f5d-9b6c-c618f59784d0"
      },
      "execution_count": null,
      "outputs": [
        {
          "output_type": "execute_result",
          "data": {
            "text/plain": [
              "<matplotlib.image.AxesImage at 0x7ff901004550>"
            ]
          },
          "metadata": {},
          "execution_count": 10
        },
        {
          "output_type": "display_data",
          "data": {
            "text/plain": [
              "<Figure size 432x288 with 1 Axes>"
            ],
            "image/png": "[encoded data removed]"
          },
          "metadata": {
            "needs_background": "light"
          }
        }
      ]
    },
    {
      "cell_type": "markdown",
      "source": [
        "**Step 2:** Load the ImageNet-pretrained InceptionV3 (`inception_v3`) and ResNet50 (`resnet50`) models with `timm` (this was done in Anthony's CIFAR100 tutorial with PyTorch). Use them to predict the class of the image along with the probability (not the logit). The probability is the result of applying the softmax function to the logits.\n",
        "\n",
        "Of course, because the models were pretrained on ImageNet, it will not predict any of the classes that interest us.\n",
        "\n",
        "***Notes:**\n",
        "1. The `read_image` function can convert an image on disk to a tensor.\n",
        "\n",
        "2. The function `label_to_name` that I imported for you converts the index of an ImageNet class to its English name."
      ],
      "metadata": {
        "id": "42hsfWsyBDPr"
      }
    },
    {
      "cell_type": "code",
      "source": [
        "# Loads the image in a Tensor (the method read_image can load the image in a tensor), calls unsqueeze(0) on the tensor to add a dimension and convert its entries to floats using the .float() method\n",
        "\n",
        "# YOUR CODE HERE\n",
        "\n",
        "#read image\n",
        "img = read_image('SYSC4415W23_A2_dataset/training/sarscov3/100_sarscov3.jpg')\n",
        "img = img.unsqueeze(0)\n",
        "img = img.float()\n",
        "print(img)"
      ],
      "metadata": {
        "id": "yJ49xCUJl_ao",
        "colab": {
          "base_uri": "https://localhost:8080/"
        },
        "outputId": "bda8d47c-fd36-42b0-e661-b516b53d6ab3"
      },
      "execution_count": null,
      "outputs": [
        {
          "output_type": "stream",
          "name": "stdout",
          "text": [
            "tensor([[[[ 10.,  10.,  10.,  ...,   7.,   7.,   7.],\n",
            "          [ 10.,  10.,  10.,  ...,   8.,   8.,   7.],\n",
            "          [ 10.,  10.,  10.,  ...,   6.,   7.,   7.],\n",
            "          ...,\n",
            "          [  9.,   8.,   6.,  ..., 121., 115., 109.],\n",
            "          [  4.,   8.,   8.,  ..., 121., 115., 109.],\n",
            "          [  8.,   7.,   3.,  ..., 119., 112., 105.]],\n",
            "\n",
            "         [[ 10.,  10.,  10.,  ...,   7.,   7.,   7.],\n",
            "          [ 10.,  10.,  10.,  ...,   8.,   8.,   7.],\n",
            "          [ 10.,  10.,  10.,  ...,   6.,   7.,   7.],\n",
            "          ...,\n",
            "          [  9.,   8.,   6.,  ..., 121., 115., 109.],\n",
            "          [  4.,   8.,   8.,  ..., 121., 115., 109.],\n",
            "          [  8.,   7.,   3.,  ..., 119., 112., 105.]],\n",
            "\n",
            "         [[ 10.,  10.,  10.,  ...,   7.,   7.,   7.],\n",
            "          [ 10.,  10.,  10.,  ...,   8.,   8.,   7.],\n",
            "          [ 10.,  10.,  10.,  ...,   6.,   7.,   7.],\n",
            "          ...,\n",
            "          [  9.,   8.,   6.,  ..., 121., 115., 109.],\n",
            "          [  4.,   8.,   8.,  ..., 121., 115., 109.],\n",
            "          [  8.,   7.,   3.,  ..., 119., 112., 105.]]]])\n"
          ]
        }
      ]
    },
    {
      "cell_type": "code",
      "source": [
        "# Loads the InceptionV3 model predicted class along with its probability\n",
        "\n",
        "# YOUR CODE HERE\n",
        "inceptionV3Model = create_model('inception_v3', pretrained=True)\n",
        "output = inceptionV3Model(img)\n",
        "softmax = output.softmax(1)\n",
        "print(softmax)"
      ],
      "metadata": {
        "id": "Qy3maVQ9CJag",
        "colab": {
          "base_uri": "https://localhost:8080/"
        },
        "outputId": "92d01d59-4fcb-4bdc-ed4a-349c22f3c68a"
      },
      "execution_count": null,
      "outputs": [
        {
          "output_type": "stream",
          "name": "stdout",
          "text": [
            "tensor([[0.0009, 0.0010, 0.0009, 0.0008, 0.0012, 0.0009, 0.0008, 0.0010, 0.0009,\n",
            "         0.0009, 0.0009, 0.0009, 0.0008, 0.0009, 0.0008, 0.0010, 0.0009, 0.0009,\n",
            "         0.0011, 0.0008, 0.0011, 0.0010, 0.0008, 0.0011, 0.0009, 0.0010, 0.0012,\n",
            "         0.0009, 0.0009, 0.0009, 0.0009, 0.0009, 0.0011, 0.0009, 0.0009, 0.0008,\n",
            "         0.0010, 0.0009, 0.0011, 0.0009, 0.0009, 0.0008, 0.0010, 0.0009, 0.0009,\n",
            "         0.0010, 0.0009, 0.0009, 0.0009, 0.0010, 0.0010, 0.0012, 0.0010, 0.0009,\n",
            "         0.0011, 0.0010, 0.0009, 0.0009, 0.0008, 0.0010, 0.0010, 0.0010, 0.0010,\n",
            "         0.0009, 0.0008, 0.0009, 0.0010, 0.0010, 0.0008, 0.0009, 0.0008, 0.0009,\n",
            "         0.0008, 0.0008, 0.0009, 0.0008, 0.0010, 0.0009, 0.0009, 0.0010, 0.0010,\n",
            "         0.0010, 0.0011, 0.0009, 0.0009, 0.0009, 0.0011, 0.0009, 0.0010, 0.0009,\n",
            "         0.0009, 0.0009, 0.0009, 0.0011, 0.0009, 0.0009, 0.0010, 0.0009, 0.0010,\n",
            "         0.0010, 0.0008, 0.0009, 0.0009, 0.0011, 0.0011, 0.0009, 0.0010, 0.0007,\n",
            "         0.0009, 0.0009, 0.0008, 0.0010, 0.0011, 0.0010, 0.0011, 0.0007, 0.0012,\n",
            "         0.0010, 0.0008, 0.0010, 0.0008, 0.0010, 0.0011, 0.0009, 0.0010, 0.0010,\n",
            "         0.0009, 0.0009, 0.0008, 0.0008, 0.0007, 0.0008, 0.0009, 0.0009, 0.0011,\n",
            "         0.0008, 0.0008, 0.0008, 0.0010, 0.0008, 0.0008, 0.0008, 0.0008, 0.0010,\n",
            "         0.0012, 0.0010, 0.0009, 0.0008, 0.0008, 0.0009, 0.0010, 0.0013, 0.0009,\n",
            "         0.0009, 0.0010, 0.0009, 0.0009, 0.0010, 0.0010, 0.0010, 0.0009, 0.0009,\n",
            "         0.0010, 0.0011, 0.0011, 0.0008, 0.0009, 0.0008, 0.0010, 0.0009, 0.0009,\n",
            "         0.0010, 0.0010, 0.0010, 0.0009, 0.0009, 0.0011, 0.0008, 0.0009, 0.0010,\n",
            "         0.0010, 0.0008, 0.0011, 0.0010, 0.0011, 0.0009, 0.0010, 0.0009, 0.0010,\n",
            "         0.0012, 0.0010, 0.0010, 0.0010, 0.0008, 0.0010, 0.0011, 0.0010, 0.0010,\n",
            "         0.0010, 0.0010, 0.0009, 0.0008, 0.0010, 0.0009, 0.0010, 0.0007, 0.0009,\n",
            "         0.0010, 0.0009, 0.0009, 0.0008, 0.0010, 0.0010, 0.0009, 0.0009, 0.0009,\n",
            "         0.0008, 0.0009, 0.0009, 0.0011, 0.0010, 0.0009, 0.0009, 0.0011, 0.0008,\n",
            "         0.0010, 0.0011, 0.0012, 0.0009, 0.0011, 0.0010, 0.0011, 0.0010, 0.0012,\n",
            "         0.0009, 0.0009, 0.0010, 0.0011, 0.0010, 0.0011, 0.0012, 0.0009, 0.0011,\n",
            "         0.0009, 0.0011, 0.0011, 0.0010, 0.0010, 0.0010, 0.0010, 0.0009, 0.0013,\n",
            "         0.0009, 0.0013, 0.0010, 0.0008, 0.0010, 0.0009, 0.0010, 0.0011, 0.0010,\n",
            "         0.0009, 0.0010, 0.0009, 0.0010, 0.0013, 0.0010, 0.0012, 0.0010, 0.0008,\n",
            "         0.0008, 0.0008, 0.0010, 0.0012, 0.0009, 0.0009, 0.0010, 0.0010, 0.0007,\n",
            "         0.0008, 0.0010, 0.0009, 0.0011, 0.0009, 0.0009, 0.0011, 0.0009, 0.0009,\n",
            "         0.0009, 0.0009, 0.0011, 0.0011, 0.0010, 0.0009, 0.0010, 0.0010, 0.0009,\n",
            "         0.0009, 0.0009, 0.0010, 0.0008, 0.0009, 0.0009, 0.0010, 0.0010, 0.0009,\n",
            "         0.0011, 0.0010, 0.0011, 0.0009, 0.0010, 0.0010, 0.0010, 0.0010, 0.0011,\n",
            "         0.0009, 0.0009, 0.0011, 0.0009, 0.0010, 0.0009, 0.0009, 0.0010, 0.0008,\n",
            "         0.0009, 0.0008, 0.0009, 0.0011, 0.0010, 0.0010, 0.0010, 0.0010, 0.0010,\n",
            "         0.0009, 0.0010, 0.0009, 0.0011, 0.0009, 0.0011, 0.0008, 0.0009, 0.0012,\n",
            "         0.0010, 0.0009, 0.0009, 0.0013, 0.0009, 0.0010, 0.0011, 0.0010, 0.0010,\n",
            "         0.0008, 0.0009, 0.0010, 0.0009, 0.0012, 0.0011, 0.0008, 0.0010, 0.0008,\n",
            "         0.0008, 0.0011, 0.0010, 0.0012, 0.0009, 0.0009, 0.0009, 0.0009, 0.0009,\n",
            "         0.0008, 0.0009, 0.0009, 0.0009, 0.0009, 0.0009, 0.0009, 0.0008, 0.0008,\n",
            "         0.0008, 0.0008, 0.0008, 0.0008, 0.0008, 0.0009, 0.0008, 0.0010, 0.0009,\n",
            "         0.0009, 0.0010, 0.0010, 0.0009, 0.0011, 0.0008, 0.0008, 0.0009, 0.0011,\n",
            "         0.0009, 0.0011, 0.0011, 0.0008, 0.0009, 0.0012, 0.0009, 0.0009, 0.0009,\n",
            "         0.0009, 0.0008, 0.0012, 0.0011, 0.0013, 0.0008, 0.0010, 0.0012, 0.0010,\n",
            "         0.0009, 0.0012, 0.0008, 0.0012, 0.0012, 0.0014, 0.0014, 0.0012, 0.0011,\n",
            "         0.0012, 0.0011, 0.0008, 0.0011, 0.0010, 0.0014, 0.0011, 0.0008, 0.0009,\n",
            "         0.0013, 0.0009, 0.0012, 0.0011, 0.0009, 0.0010, 0.0010, 0.0011, 0.0013,\n",
            "         0.0011, 0.0010, 0.0012, 0.0010, 0.0011, 0.0011, 0.0012, 0.0011, 0.0010,\n",
            "         0.0009, 0.0011, 0.0009, 0.0010, 0.0012, 0.0013, 0.0010, 0.0013, 0.0007,\n",
            "         0.0010, 0.0009, 0.0011, 0.0011, 0.0015, 0.0009, 0.0009, 0.0009, 0.0010,\n",
            "         0.0010, 0.0011, 0.0013, 0.0011, 0.0010, 0.0011, 0.0010, 0.0010, 0.0011,\n",
            "         0.0011, 0.0011, 0.0010, 0.0010, 0.0007, 0.0010, 0.0010, 0.0009, 0.0010,\n",
            "         0.0010, 0.0011, 0.0011, 0.0009, 0.0012, 0.0011, 0.0011, 0.0008, 0.0010,\n",
            "         0.0008, 0.0011, 0.0011, 0.0011, 0.0012, 0.0008, 0.0010, 0.0010, 0.0010,\n",
            "         0.0013, 0.0011, 0.0009, 0.0011, 0.0010, 0.0009, 0.0009, 0.0009, 0.0011,\n",
            "         0.0010, 0.0011, 0.0014, 0.0009, 0.0010, 0.0008, 0.0008, 0.0008, 0.0011,\n",
            "         0.0009, 0.0014, 0.0011, 0.0009, 0.0010, 0.0012, 0.0013, 0.0011, 0.0013,\n",
            "         0.0011, 0.0009, 0.0009, 0.0008, 0.0007, 0.0009, 0.0009, 0.0009, 0.0010,\n",
            "         0.0009, 0.0015, 0.0012, 0.0009, 0.0010, 0.0015, 0.0010, 0.0008, 0.0008,\n",
            "         0.0009, 0.0010, 0.0010, 0.0013, 0.0009, 0.0011, 0.0010, 0.0009, 0.0012,\n",
            "         0.0010, 0.0013, 0.0010, 0.0009, 0.0012, 0.0010, 0.0009, 0.0010, 0.0010,\n",
            "         0.0011, 0.0011, 0.0008, 0.0013, 0.0010, 0.0011, 0.0010, 0.0010, 0.0011,\n",
            "         0.0009, 0.0013, 0.0008, 0.0010, 0.0009, 0.0009, 0.0010, 0.0011, 0.0009,\n",
            "         0.0012, 0.0008, 0.0012, 0.0010, 0.0011, 0.0008, 0.0010, 0.0010, 0.0010,\n",
            "         0.0013, 0.0009, 0.0012, 0.0008, 0.0008, 0.0009, 0.0014, 0.0010, 0.0008,\n",
            "         0.0011, 0.0015, 0.0011, 0.0012, 0.0011, 0.0009, 0.0010, 0.0010, 0.0012,\n",
            "         0.0010, 0.0013, 0.0010, 0.0008, 0.0010, 0.0012, 0.0013, 0.0011, 0.0012,\n",
            "         0.0010, 0.0011, 0.0009, 0.0011, 0.0010, 0.0017, 0.0010, 0.0009, 0.0012,\n",
            "         0.0008, 0.0010, 0.0011, 0.0011, 0.0008, 0.0012, 0.0009, 0.0011, 0.0010,\n",
            "         0.0010, 0.0008, 0.0014, 0.0011, 0.0012, 0.0011, 0.0011, 0.0011, 0.0010,\n",
            "         0.0010, 0.0010, 0.0013, 0.0009, 0.0011, 0.0011, 0.0012, 0.0010, 0.0011,\n",
            "         0.0011, 0.0011, 0.0010, 0.0010, 0.0011, 0.0009, 0.0009, 0.0010, 0.0010,\n",
            "         0.0013, 0.0010, 0.0009, 0.0009, 0.0009, 0.0008, 0.0011, 0.0011, 0.0010,\n",
            "         0.0009, 0.0011, 0.0009, 0.0012, 0.0011, 0.0012, 0.0011, 0.0010, 0.0012,\n",
            "         0.0010, 0.0008, 0.0009, 0.0009, 0.0012, 0.0008, 0.0010, 0.0010, 0.0011,\n",
            "         0.0010, 0.0011, 0.0010, 0.0013, 0.0010, 0.0009, 0.0012, 0.0013, 0.0010,\n",
            "         0.0009, 0.0009, 0.0010, 0.0012, 0.0009, 0.0010, 0.0011, 0.0012, 0.0011,\n",
            "         0.0011, 0.0010, 0.0010, 0.0010, 0.0008, 0.0011, 0.0009, 0.0010, 0.0011,\n",
            "         0.0013, 0.0010, 0.0010, 0.0010, 0.0009, 0.0011, 0.0008, 0.0009, 0.0011,\n",
            "         0.0009, 0.0008, 0.0016, 0.0011, 0.0012, 0.0010, 0.0010, 0.0011, 0.0011,\n",
            "         0.0011, 0.0010, 0.0010, 0.0008, 0.0010, 0.0007, 0.0013, 0.0010, 0.0009,\n",
            "         0.0013, 0.0011, 0.0015, 0.0008, 0.0010, 0.0011, 0.0010, 0.0011, 0.0010,\n",
            "         0.0008, 0.0011, 0.0011, 0.0009, 0.0010, 0.0014, 0.0011, 0.0010, 0.0013,\n",
            "         0.0011, 0.0010, 0.0009, 0.0008, 0.0015, 0.0009, 0.0009, 0.0013, 0.0012,\n",
            "         0.0009, 0.0011, 0.0010, 0.0009, 0.0012, 0.0010, 0.0009, 0.0010, 0.0010,\n",
            "         0.0010, 0.0013, 0.0012, 0.0013, 0.0011, 0.0009, 0.0010, 0.0010, 0.0010,\n",
            "         0.0013, 0.0011, 0.0007, 0.0010, 0.0012, 0.0011, 0.0011, 0.0010, 0.0011,\n",
            "         0.0011, 0.0007, 0.0008, 0.0010, 0.0011, 0.0010, 0.0012, 0.0013, 0.0011,\n",
            "         0.0008, 0.0009, 0.0009, 0.0014, 0.0009, 0.0009, 0.0009, 0.0008, 0.0012,\n",
            "         0.0010, 0.0009, 0.0010, 0.0013, 0.0014, 0.0010, 0.0008, 0.0009, 0.0012,\n",
            "         0.0014, 0.0009, 0.0011, 0.0011, 0.0012, 0.0010, 0.0010, 0.0011, 0.0012,\n",
            "         0.0014, 0.0011, 0.0010, 0.0013, 0.0010, 0.0010, 0.0011, 0.0010, 0.0012,\n",
            "         0.0011, 0.0009, 0.0009, 0.0011, 0.0013, 0.0014, 0.0014, 0.0008, 0.0010,\n",
            "         0.0012, 0.0009, 0.0009, 0.0008, 0.0013, 0.0010, 0.0012, 0.0010, 0.0013,\n",
            "         0.0010, 0.0010, 0.0011, 0.0008, 0.0011, 0.0010, 0.0011, 0.0010, 0.0012,\n",
            "         0.0009, 0.0008, 0.0012, 0.0011, 0.0010, 0.0009, 0.0014, 0.0012, 0.0009,\n",
            "         0.0011, 0.0010, 0.0009, 0.0008, 0.0008, 0.0009, 0.0009, 0.0011, 0.0008,\n",
            "         0.0009, 0.0010, 0.0008, 0.0010, 0.0010, 0.0011, 0.0010, 0.0014, 0.0012,\n",
            "         0.0010, 0.0009, 0.0014, 0.0012, 0.0010, 0.0008, 0.0009, 0.0012, 0.0009,\n",
            "         0.0008, 0.0014, 0.0010, 0.0008, 0.0010, 0.0007, 0.0011, 0.0008, 0.0009,\n",
            "         0.0012, 0.0010, 0.0011, 0.0009, 0.0008, 0.0011, 0.0009, 0.0010, 0.0008,\n",
            "         0.0009, 0.0011, 0.0013, 0.0009, 0.0010, 0.0012, 0.0009, 0.0013, 0.0010,\n",
            "         0.0009, 0.0011, 0.0008, 0.0009, 0.0009, 0.0009, 0.0009, 0.0012, 0.0008,\n",
            "         0.0009, 0.0010, 0.0010, 0.0011, 0.0011, 0.0009, 0.0008, 0.0009, 0.0011,\n",
            "         0.0012, 0.0011, 0.0010, 0.0010, 0.0010, 0.0010, 0.0009, 0.0009, 0.0008,\n",
            "         0.0010, 0.0010, 0.0011, 0.0011, 0.0010, 0.0009, 0.0010, 0.0009, 0.0013,\n",
            "         0.0010, 0.0009, 0.0009, 0.0009, 0.0010, 0.0010, 0.0008, 0.0008, 0.0009,\n",
            "         0.0008, 0.0008, 0.0008, 0.0009, 0.0008, 0.0008, 0.0014, 0.0011, 0.0009,\n",
            "         0.0010, 0.0009, 0.0009, 0.0008, 0.0009, 0.0010, 0.0010, 0.0009, 0.0011,\n",
            "         0.0010]], grad_fn=<SoftmaxBackward0>)\n"
          ]
        }
      ]
    },
    {
      "cell_type": "code",
      "source": [
        "# Loads the ResNet50 model predicted class along with its probability\n",
        "\n",
        "# YOUR CODE HERE\n",
        "ResNet50Model = create_model('resnet50d', pretrained=True)\n",
        "output = ResNet50Model(img)\n",
        "softmax = output.softmax(1)\n",
        "print(softmax)"
      ],
      "metadata": {
        "id": "BP_or0WhEhyH",
        "colab": {
          "base_uri": "https://localhost:8080/"
        },
        "outputId": "b59e1c92-95ad-4732-b82f-0bfc9b562265"
      },
      "execution_count": null,
      "outputs": [
        {
          "output_type": "stream",
          "name": "stdout",
          "text": [
            "tensor([[0.0011, 0.0009, 0.0011, 0.0012, 0.0013, 0.0013, 0.0010, 0.0009, 0.0008,\n",
            "         0.0009, 0.0011, 0.0011, 0.0010, 0.0011, 0.0010, 0.0010, 0.0012, 0.0010,\n",
            "         0.0011, 0.0009, 0.0010, 0.0010, 0.0010, 0.0009, 0.0009, 0.0009, 0.0011,\n",
            "         0.0011, 0.0009, 0.0013, 0.0008, 0.0012, 0.0009, 0.0009, 0.0010, 0.0008,\n",
            "         0.0010, 0.0010, 0.0011, 0.0012, 0.0011, 0.0010, 0.0009, 0.0010, 0.0011,\n",
            "         0.0010, 0.0010, 0.0011, 0.0009, 0.0009, 0.0009, 0.0009, 0.0014, 0.0011,\n",
            "         0.0009, 0.0011, 0.0009, 0.0010, 0.0011, 0.0013, 0.0011, 0.0012, 0.0010,\n",
            "         0.0014, 0.0012, 0.0013, 0.0012, 0.0011, 0.0010, 0.0012, 0.0009, 0.0010,\n",
            "         0.0010, 0.0010, 0.0008, 0.0011, 0.0009, 0.0008, 0.0011, 0.0009, 0.0009,\n",
            "         0.0008, 0.0009, 0.0008, 0.0010, 0.0008, 0.0010, 0.0012, 0.0008, 0.0010,\n",
            "         0.0008, 0.0009, 0.0010, 0.0010, 0.0009, 0.0011, 0.0010, 0.0008, 0.0009,\n",
            "         0.0010, 0.0009, 0.0011, 0.0008, 0.0016, 0.0011, 0.0010, 0.0010, 0.0010,\n",
            "         0.0008, 0.0010, 0.0009, 0.0013, 0.0013, 0.0012, 0.0009, 0.0008, 0.0008,\n",
            "         0.0009, 0.0010, 0.0009, 0.0010, 0.0010, 0.0008, 0.0008, 0.0008, 0.0009,\n",
            "         0.0011, 0.0008, 0.0010, 0.0010, 0.0010, 0.0010, 0.0011, 0.0011, 0.0008,\n",
            "         0.0007, 0.0008, 0.0009, 0.0009, 0.0009, 0.0008, 0.0010, 0.0010, 0.0008,\n",
            "         0.0008, 0.0009, 0.0012, 0.0011, 0.0009, 0.0012, 0.0009, 0.0013, 0.0011,\n",
            "         0.0011, 0.0011, 0.0011, 0.0010, 0.0014, 0.0013, 0.0012, 0.0010, 0.0009,\n",
            "         0.0010, 0.0011, 0.0011, 0.0010, 0.0011, 0.0008, 0.0012, 0.0012, 0.0009,\n",
            "         0.0017, 0.0016, 0.0011, 0.0012, 0.0008, 0.0012, 0.0010, 0.0014, 0.0011,\n",
            "         0.0011, 0.0011, 0.0009, 0.0010, 0.0009, 0.0011, 0.0010, 0.0011, 0.0010,\n",
            "         0.0009, 0.0011, 0.0008, 0.0010, 0.0010, 0.0011, 0.0012, 0.0012, 0.0009,\n",
            "         0.0009, 0.0010, 0.0010, 0.0010, 0.0010, 0.0012, 0.0010, 0.0009, 0.0009,\n",
            "         0.0010, 0.0011, 0.0010, 0.0010, 0.0010, 0.0011, 0.0009, 0.0011, 0.0011,\n",
            "         0.0012, 0.0009, 0.0010, 0.0009, 0.0013, 0.0008, 0.0014, 0.0011, 0.0011,\n",
            "         0.0011, 0.0010, 0.0011, 0.0011, 0.0012, 0.0012, 0.0011, 0.0012, 0.0010,\n",
            "         0.0012, 0.0011, 0.0014, 0.0013, 0.0010, 0.0009, 0.0011, 0.0011, 0.0012,\n",
            "         0.0010, 0.0008, 0.0010, 0.0011, 0.0011, 0.0012, 0.0011, 0.0011, 0.0010,\n",
            "         0.0009, 0.0012, 0.0011, 0.0008, 0.0010, 0.0011, 0.0011, 0.0011, 0.0008,\n",
            "         0.0011, 0.0009, 0.0010, 0.0010, 0.0009, 0.0008, 0.0009, 0.0009, 0.0011,\n",
            "         0.0013, 0.0010, 0.0012, 0.0011, 0.0009, 0.0009, 0.0009, 0.0011, 0.0012,\n",
            "         0.0014, 0.0011, 0.0011, 0.0009, 0.0008, 0.0011, 0.0011, 0.0010, 0.0009,\n",
            "         0.0010, 0.0008, 0.0009, 0.0008, 0.0009, 0.0010, 0.0012, 0.0011, 0.0011,\n",
            "         0.0011, 0.0011, 0.0013, 0.0008, 0.0011, 0.0008, 0.0009, 0.0008, 0.0008,\n",
            "         0.0011, 0.0010, 0.0008, 0.0009, 0.0010, 0.0008, 0.0009, 0.0011, 0.0010,\n",
            "         0.0009, 0.0009, 0.0009, 0.0011, 0.0008, 0.0010, 0.0011, 0.0009, 0.0009,\n",
            "         0.0011, 0.0009, 0.0009, 0.0008, 0.0010, 0.0009, 0.0011, 0.0010, 0.0011,\n",
            "         0.0009, 0.0008, 0.0011, 0.0009, 0.0012, 0.0008, 0.0010, 0.0010, 0.0009,\n",
            "         0.0008, 0.0009, 0.0012, 0.0010, 0.0011, 0.0009, 0.0011, 0.0008, 0.0010,\n",
            "         0.0010, 0.0010, 0.0012, 0.0011, 0.0008, 0.0016, 0.0011, 0.0013, 0.0012,\n",
            "         0.0011, 0.0010, 0.0010, 0.0011, 0.0011, 0.0012, 0.0008, 0.0014, 0.0009,\n",
            "         0.0010, 0.0011, 0.0012, 0.0009, 0.0014, 0.0011, 0.0011, 0.0009, 0.0010,\n",
            "         0.0009, 0.0009, 0.0012, 0.0010, 0.0013, 0.0015, 0.0012, 0.0011, 0.0012,\n",
            "         0.0010, 0.0009, 0.0012, 0.0013, 0.0011, 0.0010, 0.0009, 0.0012, 0.0014,\n",
            "         0.0009, 0.0010, 0.0009, 0.0011, 0.0012, 0.0010, 0.0009, 0.0013, 0.0013,\n",
            "         0.0013, 0.0008, 0.0009, 0.0008, 0.0010, 0.0009, 0.0010, 0.0009, 0.0011,\n",
            "         0.0013, 0.0007, 0.0010, 0.0009, 0.0011, 0.0009, 0.0011, 0.0010, 0.0009,\n",
            "         0.0009, 0.0010, 0.0008, 0.0008, 0.0011, 0.0011, 0.0010, 0.0008, 0.0012,\n",
            "         0.0014, 0.0009, 0.0015, 0.0010, 0.0006, 0.0010, 0.0012, 0.0009, 0.0009,\n",
            "         0.0010, 0.0009, 0.0011, 0.0009, 0.0009, 0.0009, 0.0014, 0.0010, 0.0010,\n",
            "         0.0008, 0.0015, 0.0010, 0.0008, 0.0011, 0.0008, 0.0013, 0.0014, 0.0010,\n",
            "         0.0011, 0.0013, 0.0012, 0.0012, 0.0013, 0.0013, 0.0014, 0.0010, 0.0006,\n",
            "         0.0010, 0.0011, 0.0016, 0.0011, 0.0007, 0.0012, 0.0011, 0.0010, 0.0007,\n",
            "         0.0011, 0.0010, 0.0007, 0.0009, 0.0008, 0.0009, 0.0011, 0.0007, 0.0009,\n",
            "         0.0009, 0.0009, 0.0019, 0.0009, 0.0010, 0.0009, 0.0008, 0.0007, 0.0008,\n",
            "         0.0007, 0.0007, 0.0008, 0.0010, 0.0010, 0.0009, 0.0012, 0.0010, 0.0010,\n",
            "         0.0009, 0.0011, 0.0013, 0.0009, 0.0011, 0.0008, 0.0011, 0.0007, 0.0010,\n",
            "         0.0012, 0.0010, 0.0014, 0.0008, 0.0011, 0.0009, 0.0007, 0.0011, 0.0007,\n",
            "         0.0011, 0.0010, 0.0011, 0.0011, 0.0007, 0.0007, 0.0009, 0.0013, 0.0010,\n",
            "         0.0007, 0.0008, 0.0010, 0.0010, 0.0010, 0.0009, 0.0010, 0.0008, 0.0008,\n",
            "         0.0011, 0.0009, 0.0010, 0.0010, 0.0007, 0.0010, 0.0010, 0.0010, 0.0009,\n",
            "         0.0008, 0.0011, 0.0007, 0.0009, 0.0010, 0.0011, 0.0008, 0.0010, 0.0011,\n",
            "         0.0012, 0.0010, 0.0008, 0.0010, 0.0012, 0.0010, 0.0009, 0.0007, 0.0008,\n",
            "         0.0008, 0.0010, 0.0007, 0.0012, 0.0009, 0.0013, 0.0008, 0.0012, 0.0008,\n",
            "         0.0009, 0.0009, 0.0011, 0.0010, 0.0009, 0.0010, 0.0007, 0.0009, 0.0014,\n",
            "         0.0008, 0.0009, 0.0012, 0.0009, 0.0009, 0.0006, 0.0009, 0.0011, 0.0010,\n",
            "         0.0010, 0.0009, 0.0010, 0.0011, 0.0009, 0.0010, 0.0025, 0.0009, 0.0015,\n",
            "         0.0011, 0.0013, 0.0008, 0.0013, 0.0010, 0.0010, 0.0008, 0.0013, 0.0006,\n",
            "         0.0009, 0.0011, 0.0008, 0.0010, 0.0013, 0.0011, 0.0010, 0.0011, 0.0008,\n",
            "         0.0008, 0.0010, 0.0010, 0.0009, 0.0009, 0.0011, 0.0007, 0.0008, 0.0011,\n",
            "         0.0009, 0.0008, 0.0008, 0.0010, 0.0007, 0.0008, 0.0012, 0.0009, 0.0012,\n",
            "         0.0009, 0.0008, 0.0010, 0.0008, 0.0009, 0.0010, 0.0007, 0.0012, 0.0011,\n",
            "         0.0011, 0.0011, 0.0011, 0.0009, 0.0009, 0.0011, 0.0009, 0.0010, 0.0008,\n",
            "         0.0009, 0.0007, 0.0009, 0.0010, 0.0007, 0.0009, 0.0009, 0.0009, 0.0009,\n",
            "         0.0012, 0.0010, 0.0008, 0.0011, 0.0007, 0.0009, 0.0010, 0.0009, 0.0010,\n",
            "         0.0007, 0.0013, 0.0012, 0.0011, 0.0010, 0.0010, 0.0009, 0.0010, 0.0014,\n",
            "         0.0010, 0.0010, 0.0007, 0.0009, 0.0010, 0.0007, 0.0009, 0.0013, 0.0010,\n",
            "         0.0008, 0.0009, 0.0011, 0.0009, 0.0011, 0.0010, 0.0010, 0.0017, 0.0012,\n",
            "         0.0012, 0.0008, 0.0008, 0.0009, 0.0007, 0.0010, 0.0010, 0.0009, 0.0010,\n",
            "         0.0010, 0.0008, 0.0009, 0.0008, 0.0012, 0.0012, 0.0007, 0.0011, 0.0012,\n",
            "         0.0008, 0.0006, 0.0010, 0.0008, 0.0009, 0.0013, 0.0012, 0.0008, 0.0014,\n",
            "         0.0007, 0.0008, 0.0010, 0.0009, 0.0012, 0.0008, 0.0011, 0.0006, 0.0007,\n",
            "         0.0007, 0.0010, 0.0012, 0.0007, 0.0009, 0.0012, 0.0011, 0.0010, 0.0007,\n",
            "         0.0010, 0.0011, 0.0014, 0.0009, 0.0009, 0.0008, 0.0013, 0.0008, 0.0012,\n",
            "         0.0011, 0.0009, 0.0010, 0.0009, 0.0011, 0.0009, 0.0009, 0.0014, 0.0011,\n",
            "         0.0008, 0.0009, 0.0012, 0.0008, 0.0010, 0.0009, 0.0010, 0.0010, 0.0009,\n",
            "         0.0008, 0.0010, 0.0013, 0.0011, 0.0015, 0.0008, 0.0008, 0.0008, 0.0008,\n",
            "         0.0011, 0.0012, 0.0013, 0.0010, 0.0009, 0.0008, 0.0009, 0.0012, 0.0008,\n",
            "         0.0013, 0.0014, 0.0013, 0.0008, 0.0012, 0.0009, 0.0010, 0.0011, 0.0006,\n",
            "         0.0012, 0.0007, 0.0007, 0.0012, 0.0012, 0.0007, 0.0011, 0.0012, 0.0007,\n",
            "         0.0009, 0.0009, 0.0009, 0.0010, 0.0009, 0.0011, 0.0009, 0.0007, 0.0011,\n",
            "         0.0010, 0.0010, 0.0009, 0.0011, 0.0010, 0.0008, 0.0010, 0.0011, 0.0010,\n",
            "         0.0015, 0.0009, 0.0010, 0.0008, 0.0009, 0.0010, 0.0011, 0.0011, 0.0012,\n",
            "         0.0012, 0.0010, 0.0011, 0.0015, 0.0012, 0.0012, 0.0011, 0.0013, 0.0011,\n",
            "         0.0011, 0.0012, 0.0009, 0.0010, 0.0010, 0.0007, 0.0014, 0.0010, 0.0011,\n",
            "         0.0008, 0.0010, 0.0008, 0.0009, 0.0007, 0.0009, 0.0008, 0.0009, 0.0010,\n",
            "         0.0006, 0.0007, 0.0007, 0.0008, 0.0011, 0.0008, 0.0010, 0.0007, 0.0012,\n",
            "         0.0009, 0.0007, 0.0010, 0.0011, 0.0008, 0.0009, 0.0013, 0.0011, 0.0008,\n",
            "         0.0009, 0.0013, 0.0009, 0.0008, 0.0007, 0.0010, 0.0009, 0.0011, 0.0008,\n",
            "         0.0007, 0.0009, 0.0008, 0.0011, 0.0009, 0.0013, 0.0010, 0.0014, 0.0017,\n",
            "         0.0011, 0.0014, 0.0013, 0.0010, 0.0009, 0.0009, 0.0011, 0.0010, 0.0010,\n",
            "         0.0007, 0.0009, 0.0008, 0.0009, 0.0009, 0.0007, 0.0007, 0.0007, 0.0006,\n",
            "         0.0010, 0.0013, 0.0012, 0.0006, 0.0011, 0.0008, 0.0009, 0.0011, 0.0007,\n",
            "         0.0008, 0.0008, 0.0009, 0.0010, 0.0010, 0.0010, 0.0008, 0.0011, 0.0008,\n",
            "         0.0011, 0.0010, 0.0011, 0.0011, 0.0008, 0.0008, 0.0010, 0.0009, 0.0010,\n",
            "         0.0010, 0.0008, 0.0012, 0.0009, 0.0011, 0.0011, 0.0013, 0.0011, 0.0008,\n",
            "         0.0012, 0.0008, 0.0012, 0.0012, 0.0010, 0.0011, 0.0009, 0.0011, 0.0007,\n",
            "         0.0008, 0.0008, 0.0008, 0.0013, 0.0013, 0.0011, 0.0010, 0.0009, 0.0010,\n",
            "         0.0009, 0.0010, 0.0012, 0.0008, 0.0010, 0.0011, 0.0012, 0.0009, 0.0012,\n",
            "         0.0008, 0.0007, 0.0010, 0.0011, 0.0010, 0.0010, 0.0013, 0.0011, 0.0010,\n",
            "         0.0009, 0.0009, 0.0009, 0.0007, 0.0007, 0.0011, 0.0011, 0.0008, 0.0009,\n",
            "         0.0014]], grad_fn=<SoftmaxBackward0>)\n"
          ]
        }
      ]
    },
    {
      "cell_type": "markdown",
      "source": [
        "❓ ***Question: What classes are predicted for the two models? Are the models confident? Is it a good thing?***"
      ],
      "metadata": {
        "id": "IBxaFdfdwnpU"
      }
    },
    {
      "cell_type": "markdown",
      "source": [
        "📝 YOUR ANSWERS GO HERE"
      ],
      "metadata": {
        "id": "hjw-R-FdxlFh"
      }
    },
    {
      "cell_type": "markdown",
      "source": [
        "## Part 3: Instantiating the dataloaders to perform fine tuning\n",
        "When working with large image datasets with PyTorch, people often implement a DataLoader to help manage how images are loaded during training. The dataloader can be combined with methods that implement data augmentation by modifying the images with transforms (eg. scaling, rotation, reflection, cropping, etc.). For the most common applications, there are existing data loaders that are perfectly suitable and that users can use instead of defining their own.\n"
      ],
      "metadata": {
        "id": "soeLJWebR8Oy"
      }
    },
    {
      "cell_type": "code",
      "source": [
        "from torch.utils.data import DataLoader\n",
        "from torchvision.datasets import ImageFolder\n",
        "from torchvision import datasets, transforms"
      ],
      "metadata": {
        "id": "NZROCPrvJ8sb"
      },
      "execution_count": null,
      "outputs": []
    },
    {
      "cell_type": "markdown",
      "source": [
        "**Step 1:** Using the `ImageFolder` strategy to build a dataloader with a batch size of 128 for training. ([This tutorial](https://pytorch.org/tutorials/beginner/data_loading_tutorial.html#afterword-torchvision) is most helpful.)\n",
        "\n",
        "You will also want your dataloader for your training set to apply the following data augmentation transforms (documentation available [here](https://pytorch.org/vision/stable/transforms.html)):\n",
        "\n",
        "1. Random rotation between -10 and 10\n",
        "2. Random horizontal flip with 40% probability"
      ],
      "metadata": {
        "id": "U0yxnCVsKiIL"
      }
    },
    {
      "cell_type": "code",
      "source": [
        "# Creates the dataset and dataloader that will be used for training\n",
        "\n",
        "# YOUR CODE HERE\n",
        "\n",
        "batch_size = 128\n",
        "\n",
        "data_transform = transforms.Compose([\n",
        "        transforms.RandomRotation(10),\n",
        "        transforms.RandomHorizontalFlip(p=0.4),\n",
        "        transforms.ToTensor()\n",
        "    ])\n",
        "\n",
        "\n",
        "training_dataset = ImageFolder(root='/content/SYSC4415W23_A2_dataset/training',\n",
        "                               transform=data_transform)\n",
        "training_loader = DataLoader(training_dataset, batch_size =batch_size, shuffle =True)"
      ],
      "metadata": {
        "id": "Acm52Rn_ayUP"
      },
      "execution_count": null,
      "outputs": []
    },
    {
      "cell_type": "markdown",
      "source": [
        "**Step 2**: Create the dataloaders you will be using for validation and testing. The transform should only convert the images to a tensor. You should not specify a batch size for the test set dataloader."
      ],
      "metadata": {
        "id": "fj5c1hYV8Oxi"
      }
    },
    {
      "cell_type": "code",
      "source": [
        "# Creates the dataloader that will be used for validation\n",
        "\n",
        "# YOUR CODE HERE\n",
        "\n",
        "\n",
        "validation_dataset = ImageFolder(root='/content/SYSC4415W23_A2_dataset/validation',\n",
        "                               transform=data_transform)\n",
        "validation_loader = DataLoader(training_dataset, batch_size =batch_size, shuffle =True)"
      ],
      "metadata": {
        "id": "DmGqrtFN6p7e"
      },
      "execution_count": null,
      "outputs": []
    },
    {
      "cell_type": "code",
      "source": [
        "# Creates the dataloader that will be used testing\n",
        "\n",
        "# YOUR CODE HERE\n",
        "\n",
        "\n",
        "test_dataset = ImageFolder(root='/content/SYSC4415W23_A2_dataset/test',\n",
        "                               transform=data_transform)\n",
        "test_loader = DataLoader(training_dataset,\n",
        "                         batch_size=batch_size, shuffle=True)"
      ],
      "metadata": {
        "id": "XX-Gkx8iK7XX"
      },
      "execution_count": null,
      "outputs": []
    },
    {
      "cell_type": "markdown",
      "source": [
        "## Part 4: Fine-tuning existing CNN architectures\n",
        "\n",
        "The Inception V3 and ResNet50 models you loaded above were trained on ImageNet which is not a medical dataset. In order to leverage these models for our purposes, we need to modify the architecture so that the final classification layer contains an appropriate number of classes and retune the model weights so that the models become suitable for the classification of our x-rays.\n"
      ],
      "metadata": {
        "id": "Xt5LRQ1B8i39"
      }
    },
    {
      "cell_type": "code",
      "source": [
        "from timm import create_model\n",
        "import time\n",
        "import matplotlib.pyplot as plt\n",
        "from torch.optim import AdamW\n",
        "from torch.nn import CrossEntropyLoss\n",
        "from torch import no_grad, Tensor\n",
        "from torch import cuda"
      ],
      "metadata": {
        "id": "LN6ZeKE8Lp-p"
      },
      "execution_count": null,
      "outputs": []
    },
    {
      "cell_type": "markdown",
      "source": [
        "**Step 1:** Using `create_model` from the `timm` package, Load the InceptionV3 and ResNet50 models, replacing the final layer with one appropriate for our purpose (recall that we want to classify x-rays of healthy, pneumonia and SARS-CoV-3 patients). Note that the timm library can assist in replacing the final layer (see [Anthony's tutorial](https://github.com/jrgreen7/SYSC4906/blob/master/W2023/Tutorials/CIFAR100_tutorial_WIP.ipynb)). These are your modified models."
      ],
      "metadata": {
        "id": "iTGT-CC5Los5"
      }
    },
    {
      "cell_type": "code",
      "source": [
        "# Loads the InceptionV3 model and replaces the final classification layer with a new dense layer\n",
        "\n",
        "# YOUR CODE HERE\n",
        "inceptionV3Model = create_model('inception_v3', num_classes=3, pretrained=True)"
      ],
      "metadata": {
        "id": "FyUSzYSk89Hk"
      },
      "execution_count": null,
      "outputs": []
    },
    {
      "cell_type": "code",
      "source": [
        "# Loads the ResNet50 model and replaces the final classification layer with a new dense layer\n",
        "\n",
        "# YOUR CODE HERE\n",
        "ResNet50Model = create_model('resnet50d', num_classes=3, pretrained=True)"
      ],
      "metadata": {
        "id": "X0nCkWigU0dN"
      },
      "execution_count": null,
      "outputs": []
    },
    {
      "cell_type": "markdown",
      "source": [
        "**Step 2:** In a tutorial with Anthony, you have seen that you can convert a base learning rate to an effective learning rate based on the batch size you have selected using the following heuristic:\n",
        "\n",
        "$$\\eta_{eff} = \\frac{B\\eta_{base}}{256}$$\n",
        "\n",
        "where $\\eta$ is the learning rate and $B$ is the batch size.\n",
        "\n",
        "Train the final layer modified InceptionV3 and ResNet50 models on your training set. Use the **base** learning rate $\\eta_{base}$ of 0.0005.\n",
        "\n",
        "Use the following settings:\n",
        "\n",
        "**Epochs:** 25\n",
        "\n",
        "**Optimizer:** AdamW\n",
        "\n",
        "**Loss function:** Cross-entropy (it is not required here, but note that using the weight parameter here could help deal with class imbalance)\n",
        "\n",
        "Implement the training loop yourself. Do not use a package that automates the process. Anthony has demonstrated how to do this and much can be taken from [his example](https://github.com/jrgreen7/SYSC4906/blob/master/W2023/Tutorials/CIFAR100_tutorial_WIP.ipynb).\n",
        "\n",
        "❗**Important: Make sure you are using a colab gpu and to store the mean training and validation performance/loss at each epoch as you will be plotting them in the next steps.**"
      ],
      "metadata": {
        "id": "fnPggZay-S_R"
      }
    },
    {
      "cell_type": "code",
      "source": [
        "# Moves the modified inceptionV3 model to GPU\n",
        "\n",
        "# YOUR CODE HERE\n",
        "inceptionV3Model.cuda()\n",
        "\n"
      ],
      "metadata": {
        "id": "Xpt117nYLyPe",
        "colab": {
          "base_uri": "https://localhost:8080/"
        },
        "outputId": "04da747d-7b1c-4abb-dfb8-60be1abd2e8b"
      },
      "execution_count": null,
      "outputs": [
        {
          "output_type": "execute_result",
          "data": {
            "text/plain": [
              "InceptionV3(\n",
              "  (Conv2d_1a_3x3): BasicConv2d(\n",
              "    (conv): Conv2d(3, 32, kernel_size=(3, 3), stride=(2, 2), bias=False)\n",
              "    (bn): BatchNorm2d(32, eps=0.001, momentum=0.1, affine=True, track_running_stats=True)\n",
              "  )\n",
              "  (Conv2d_2a_3x3): BasicConv2d(\n",
              "    (conv): Conv2d(32, 32, kernel_size=(3, 3), stride=(1, 1), bias=False)\n",
              "    (bn): BatchNorm2d(32, eps=0.001, momentum=0.1, affine=True, track_running_stats=True)\n",
              "  )\n",
              "  (Conv2d_2b_3x3): BasicConv2d(\n",
              "    (conv): Conv2d(32, 64, kernel_size=(3, 3), stride=(1, 1), padding=(1, 1), bias=False)\n",
              "    (bn): BatchNorm2d(64, eps=0.001, momentum=0.1, affine=True, track_running_stats=True)\n",
              "  )\n",
              "  (Pool1): MaxPool2d(kernel_size=3, stride=2, padding=0, dilation=1, ceil_mode=False)\n",
              "  (Conv2d_3b_1x1): BasicConv2d(\n",
              "    (conv): Conv2d(64, 80, kernel_size=(1, 1), stride=(1, 1), bias=False)\n",
              "    (bn): BatchNorm2d(80, eps=0.001, momentum=0.1, affine=True, track_running_stats=True)\n",
              "  )\n",
              "  (Conv2d_4a_3x3): BasicConv2d(\n",
              "    (conv): Conv2d(80, 192, kernel_size=(3, 3), stride=(1, 1), bias=False)\n",
              "    (bn): BatchNorm2d(192, eps=0.001, momentum=0.1, affine=True, track_running_stats=True)\n",
              "  )\n",
              "  (Pool2): MaxPool2d(kernel_size=3, stride=2, padding=0, dilation=1, ceil_mode=False)\n",
              "  (Mixed_5b): InceptionA(\n",
              "    (branch1x1): BasicConv2d(\n",
              "      (conv): Conv2d(192, 64, kernel_size=(1, 1), stride=(1, 1), bias=False)\n",
              "      (bn): BatchNorm2d(64, eps=0.001, momentum=0.1, affine=True, track_running_stats=True)\n",
              "    )\n",
              "    (branch5x5_1): BasicConv2d(\n",
              "      (conv): Conv2d(192, 48, kernel_size=(1, 1), stride=(1, 1), bias=False)\n",
              "      (bn): BatchNorm2d(48, eps=0.001, momentum=0.1, affine=True, track_running_stats=True)\n",
              "    )\n",
              "    (branch5x5_2): BasicConv2d(\n",
              "      (conv): Conv2d(48, 64, kernel_size=(5, 5), stride=(1, 1), padding=(2, 2), bias=False)\n",
              "      (bn): BatchNorm2d(64, eps=0.001, momentum=0.1, affine=True, track_running_stats=True)\n",
              "    )\n",
              "    (branch3x3dbl_1): BasicConv2d(\n",
              "      (conv): Conv2d(192, 64, kernel_size=(1, 1), stride=(1, 1), bias=False)\n",
              "      (bn): BatchNorm2d(64, eps=0.001, momentum=0.1, affine=True, track_running_stats=True)\n",
              "    )\n",
              "    (branch3x3dbl_2): BasicConv2d(\n",
              "      (conv): Conv2d(64, 96, kernel_size=(3, 3), stride=(1, 1), padding=(1, 1), bias=False)\n",
              "      (bn): BatchNorm2d(96, eps=0.001, momentum=0.1, affine=True, track_running_stats=True)\n",
              "    )\n",
              "    (branch3x3dbl_3): BasicConv2d(\n",
              "      (conv): Conv2d(96, 96, kernel_size=(3, 3), stride=(1, 1), padding=(1, 1), bias=False)\n",
              "      (bn): BatchNorm2d(96, eps=0.001, momentum=0.1, affine=True, track_running_stats=True)\n",
              "    )\n",
              "    (branch_pool): BasicConv2d(\n",
              "      (conv): Conv2d(192, 32, kernel_size=(1, 1), stride=(1, 1), bias=False)\n",
              "      (bn): BatchNorm2d(32, eps=0.001, momentum=0.1, affine=True, track_running_stats=True)\n",
              "    )\n",
              "  )\n",
              "  (Mixed_5c): InceptionA(\n",
              "    (branch1x1): BasicConv2d(\n",
              "      (conv): Conv2d(256, 64, kernel_size=(1, 1), stride=(1, 1), bias=False)\n",
              "      (bn): BatchNorm2d(64, eps=0.001, momentum=0.1, affine=True, track_running_stats=True)\n",
              "    )\n",
              "    (branch5x5_1): BasicConv2d(\n",
              "      (conv): Conv2d(256, 48, kernel_size=(1, 1), stride=(1, 1), bias=False)\n",
              "      (bn): BatchNorm2d(48, eps=0.001, momentum=0.1, affine=True, track_running_stats=True)\n",
              "    )\n",
              "    (branch5x5_2): BasicConv2d(\n",
              "      (conv): Conv2d(48, 64, kernel_size=(5, 5), stride=(1, 1), padding=(2, 2), bias=False)\n",
              "      (bn): BatchNorm2d(64, eps=0.001, momentum=0.1, affine=True, track_running_stats=True)\n",
              "    )\n",
              "    (branch3x3dbl_1): BasicConv2d(\n",
              "      (conv): Conv2d(256, 64, kernel_size=(1, 1), stride=(1, 1), bias=False)\n",
              "      (bn): BatchNorm2d(64, eps=0.001, momentum=0.1, affine=True, track_running_stats=True)\n",
              "    )\n",
              "    (branch3x3dbl_2): BasicConv2d(\n",
              "      (conv): Conv2d(64, 96, kernel_size=(3, 3), stride=(1, 1), padding=(1, 1), bias=False)\n",
              "      (bn): BatchNorm2d(96, eps=0.001, momentum=0.1, affine=True, track_running_stats=True)\n",
              "    )\n",
              "    (branch3x3dbl_3): BasicConv2d(\n",
              "      (conv): Conv2d(96, 96, kernel_size=(3, 3), stride=(1, 1), padding=(1, 1), bias=False)\n",
              "      (bn): BatchNorm2d(96, eps=0.001, momentum=0.1, affine=True, track_running_stats=True)\n",
              "    )\n",
              "    (branch_pool): BasicConv2d(\n",
              "      (conv): Conv2d(256, 64, kernel_size=(1, 1), stride=(1, 1), bias=False)\n",
              "      (bn): BatchNorm2d(64, eps=0.001, momentum=0.1, affine=True, track_running_stats=True)\n",
              "    )\n",
              "  )\n",
              "  (Mixed_5d): InceptionA(\n",
              "    (branch1x1): BasicConv2d(\n",
              "      (conv): Conv2d(288, 64, kernel_size=(1, 1), stride=(1, 1), bias=False)\n",
              "      (bn): BatchNorm2d(64, eps=0.001, momentum=0.1, affine=True, track_running_stats=True)\n",
              "    )\n",
              "    (branch5x5_1): BasicConv2d(\n",
              "      (conv): Conv2d(288, 48, kernel_size=(1, 1), stride=(1, 1), bias=False)\n",
              "      (bn): BatchNorm2d(48, eps=0.001, momentum=0.1, affine=True, track_running_stats=True)\n",
              "    )\n",
              "    (branch5x5_2): BasicConv2d(\n",
              "      (conv): Conv2d(48, 64, kernel_size=(5, 5), stride=(1, 1), padding=(2, 2), bias=False)\n",
              "      (bn): BatchNorm2d(64, eps=0.001, momentum=0.1, affine=True, track_running_stats=True)\n",
              "    )\n",
              "    (branch3x3dbl_1): BasicConv2d(\n",
              "      (conv): Conv2d(288, 64, kernel_size=(1, 1), stride=(1, 1), bias=False)\n",
              "      (bn): BatchNorm2d(64, eps=0.001, momentum=0.1, affine=True, track_running_stats=True)\n",
              "    )\n",
              "    (branch3x3dbl_2): BasicConv2d(\n",
              "      (conv): Conv2d(64, 96, kernel_size=(3, 3), stride=(1, 1), padding=(1, 1), bias=False)\n",
              "      (bn): BatchNorm2d(96, eps=0.001, momentum=0.1, affine=True, track_running_stats=True)\n",
              "    )\n",
              "    (branch3x3dbl_3): BasicConv2d(\n",
              "      (conv): Conv2d(96, 96, kernel_size=(3, 3), stride=(1, 1), padding=(1, 1), bias=False)\n",
              "      (bn): BatchNorm2d(96, eps=0.001, momentum=0.1, affine=True, track_running_stats=True)\n",
              "    )\n",
              "    (branch_pool): BasicConv2d(\n",
              "      (conv): Conv2d(288, 64, kernel_size=(1, 1), stride=(1, 1), bias=False)\n",
              "      (bn): BatchNorm2d(64, eps=0.001, momentum=0.1, affine=True, track_running_stats=True)\n",
              "    )\n",
              "  )\n",
              "  (Mixed_6a): InceptionB(\n",
              "    (branch3x3): BasicConv2d(\n",
              "      (conv): Conv2d(288, 384, kernel_size=(3, 3), stride=(2, 2), bias=False)\n",
              "      (bn): BatchNorm2d(384, eps=0.001, momentum=0.1, affine=True, track_running_stats=True)\n",
              "    )\n",
              "    (branch3x3dbl_1): BasicConv2d(\n",
              "      (conv): Conv2d(288, 64, kernel_size=(1, 1), stride=(1, 1), bias=False)\n",
              "      (bn): BatchNorm2d(64, eps=0.001, momentum=0.1, affine=True, track_running_stats=True)\n",
              "    )\n",
              "    (branch3x3dbl_2): BasicConv2d(\n",
              "      (conv): Conv2d(64, 96, kernel_size=(3, 3), stride=(1, 1), padding=(1, 1), bias=False)\n",
              "      (bn): BatchNorm2d(96, eps=0.001, momentum=0.1, affine=True, track_running_stats=True)\n",
              "    )\n",
              "    (branch3x3dbl_3): BasicConv2d(\n",
              "      (conv): Conv2d(96, 96, kernel_size=(3, 3), stride=(2, 2), bias=False)\n",
              "      (bn): BatchNorm2d(96, eps=0.001, momentum=0.1, affine=True, track_running_stats=True)\n",
              "    )\n",
              "  )\n",
              "  (Mixed_6b): InceptionC(\n",
              "    (branch1x1): BasicConv2d(\n",
              "      (conv): Conv2d(768, 192, kernel_size=(1, 1), stride=(1, 1), bias=False)\n",
              "      (bn): BatchNorm2d(192, eps=0.001, momentum=0.1, affine=True, track_running_stats=True)\n",
              "    )\n",
              "    (branch7x7_1): BasicConv2d(\n",
              "      (conv): Conv2d(768, 128, kernel_size=(1, 1), stride=(1, 1), bias=False)\n",
              "      (bn): BatchNorm2d(128, eps=0.001, momentum=0.1, affine=True, track_running_stats=True)\n",
              "    )\n",
              "    (branch7x7_2): BasicConv2d(\n",
              "      (conv): Conv2d(128, 128, kernel_size=(1, 7), stride=(1, 1), padding=(0, 3), bias=False)\n",
              "      (bn): BatchNorm2d(128, eps=0.001, momentum=0.1, affine=True, track_running_stats=True)\n",
              "    )\n",
              "    (branch7x7_3): BasicConv2d(\n",
              "      (conv): Conv2d(128, 192, kernel_size=(7, 1), stride=(1, 1), padding=(3, 0), bias=False)\n",
              "      (bn): BatchNorm2d(192, eps=0.001, momentum=0.1, affine=True, track_running_stats=True)\n",
              "    )\n",
              "    (branch7x7dbl_1): BasicConv2d(\n",
              "      (conv): Conv2d(768, 128, kernel_size=(1, 1), stride=(1, 1), bias=False)\n",
              "      (bn): BatchNorm2d(128, eps=0.001, momentum=0.1, affine=True, track_running_stats=True)\n",
              "    )\n",
              "    (branch7x7dbl_2): BasicConv2d(\n",
              "      (conv): Conv2d(128, 128, kernel_size=(7, 1), stride=(1, 1), padding=(3, 0), bias=False)\n",
              "      (bn): BatchNorm2d(128, eps=0.001, momentum=0.1, affine=True, track_running_stats=True)\n",
              "    )\n",
              "    (branch7x7dbl_3): BasicConv2d(\n",
              "      (conv): Conv2d(128, 128, kernel_size=(1, 7), stride=(1, 1), padding=(0, 3), bias=False)\n",
              "      (bn): BatchNorm2d(128, eps=0.001, momentum=0.1, affine=True, track_running_stats=True)\n",
              "    )\n",
              "    (branch7x7dbl_4): BasicConv2d(\n",
              "      (conv): Conv2d(128, 128, kernel_size=(7, 1), stride=(1, 1), padding=(3, 0), bias=False)\n",
              "      (bn): BatchNorm2d(128, eps=0.001, momentum=0.1, affine=True, track_running_stats=True)\n",
              "    )\n",
              "    (branch7x7dbl_5): BasicConv2d(\n",
              "      (conv): Conv2d(128, 192, kernel_size=(1, 7), stride=(1, 1), padding=(0, 3), bias=False)\n",
              "      (bn): BatchNorm2d(192, eps=0.001, momentum=0.1, affine=True, track_running_stats=True)\n",
              "    )\n",
              "    (branch_pool): BasicConv2d(\n",
              "      (conv): Conv2d(768, 192, kernel_size=(1, 1), stride=(1, 1), bias=False)\n",
              "      (bn): BatchNorm2d(192, eps=0.001, momentum=0.1, affine=True, track_running_stats=True)\n",
              "    )\n",
              "  )\n",
              "  (Mixed_6c): InceptionC(\n",
              "    (branch1x1): BasicConv2d(\n",
              "      (conv): Conv2d(768, 192, kernel_size=(1, 1), stride=(1, 1), bias=False)\n",
              "      (bn): BatchNorm2d(192, eps=0.001, momentum=0.1, affine=True, track_running_stats=True)\n",
              "    )\n",
              "    (branch7x7_1): BasicConv2d(\n",
              "      (conv): Conv2d(768, 160, kernel_size=(1, 1), stride=(1, 1), bias=False)\n",
              "      (bn): BatchNorm2d(160, eps=0.001, momentum=0.1, affine=True, track_running_stats=True)\n",
              "    )\n",
              "    (branch7x7_2): BasicConv2d(\n",
              "      (conv): Conv2d(160, 160, kernel_size=(1, 7), stride=(1, 1), padding=(0, 3), bias=False)\n",
              "      (bn): BatchNorm2d(160, eps=0.001, momentum=0.1, affine=True, track_running_stats=True)\n",
              "    )\n",
              "    (branch7x7_3): BasicConv2d(\n",
              "      (conv): Conv2d(160, 192, kernel_size=(7, 1), stride=(1, 1), padding=(3, 0), bias=False)\n",
              "      (bn): BatchNorm2d(192, eps=0.001, momentum=0.1, affine=True, track_running_stats=True)\n",
              "    )\n",
              "    (branch7x7dbl_1): BasicConv2d(\n",
              "      (conv): Conv2d(768, 160, kernel_size=(1, 1), stride=(1, 1), bias=False)\n",
              "      (bn): BatchNorm2d(160, eps=0.001, momentum=0.1, affine=True, track_running_stats=True)\n",
              "    )\n",
              "    (branch7x7dbl_2): BasicConv2d(\n",
              "      (conv): Conv2d(160, 160, kernel_size=(7, 1), stride=(1, 1), padding=(3, 0), bias=False)\n",
              "      (bn): BatchNorm2d(160, eps=0.001, momentum=0.1, affine=True, track_running_stats=True)\n",
              "    )\n",
              "    (branch7x7dbl_3): BasicConv2d(\n",
              "      (conv): Conv2d(160, 160, kernel_size=(1, 7), stride=(1, 1), padding=(0, 3), bias=False)\n",
              "      (bn): BatchNorm2d(160, eps=0.001, momentum=0.1, affine=True, track_running_stats=True)\n",
              "    )\n",
              "    (branch7x7dbl_4): BasicConv2d(\n",
              "      (conv): Conv2d(160, 160, kernel_size=(7, 1), stride=(1, 1), padding=(3, 0), bias=False)\n",
              "      (bn): BatchNorm2d(160, eps=0.001, momentum=0.1, affine=True, track_running_stats=True)\n",
              "    )\n",
              "    (branch7x7dbl_5): BasicConv2d(\n",
              "      (conv): Conv2d(160, 192, kernel_size=(1, 7), stride=(1, 1), padding=(0, 3), bias=False)\n",
              "      (bn): BatchNorm2d(192, eps=0.001, momentum=0.1, affine=True, track_running_stats=True)\n",
              "    )\n",
              "    (branch_pool): BasicConv2d(\n",
              "      (conv): Conv2d(768, 192, kernel_size=(1, 1), stride=(1, 1), bias=False)\n",
              "      (bn): BatchNorm2d(192, eps=0.001, momentum=0.1, affine=True, track_running_stats=True)\n",
              "    )\n",
              "  )\n",
              "  (Mixed_6d): InceptionC(\n",
              "    (branch1x1): BasicConv2d(\n",
              "      (conv): Conv2d(768, 192, kernel_size=(1, 1), stride=(1, 1), bias=False)\n",
              "      (bn): BatchNorm2d(192, eps=0.001, momentum=0.1, affine=True, track_running_stats=True)\n",
              "    )\n",
              "    (branch7x7_1): BasicConv2d(\n",
              "      (conv): Conv2d(768, 160, kernel_size=(1, 1), stride=(1, 1), bias=False)\n",
              "      (bn): BatchNorm2d(160, eps=0.001, momentum=0.1, affine=True, track_running_stats=True)\n",
              "    )\n",
              "    (branch7x7_2): BasicConv2d(\n",
              "      (conv): Conv2d(160, 160, kernel_size=(1, 7), stride=(1, 1), padding=(0, 3), bias=False)\n",
              "      (bn): BatchNorm2d(160, eps=0.001, momentum=0.1, affine=True, track_running_stats=True)\n",
              "    )\n",
              "    (branch7x7_3): BasicConv2d(\n",
              "      (conv): Conv2d(160, 192, kernel_size=(7, 1), stride=(1, 1), padding=(3, 0), bias=False)\n",
              "      (bn): BatchNorm2d(192, eps=0.001, momentum=0.1, affine=True, track_running_stats=True)\n",
              "    )\n",
              "    (branch7x7dbl_1): BasicConv2d(\n",
              "      (conv): Conv2d(768, 160, kernel_size=(1, 1), stride=(1, 1), bias=False)\n",
              "      (bn): BatchNorm2d(160, eps=0.001, momentum=0.1, affine=True, track_running_stats=True)\n",
              "    )\n",
              "    (branch7x7dbl_2): BasicConv2d(\n",
              "      (conv): Conv2d(160, 160, kernel_size=(7, 1), stride=(1, 1), padding=(3, 0), bias=False)\n",
              "      (bn): BatchNorm2d(160, eps=0.001, momentum=0.1, affine=True, track_running_stats=True)\n",
              "    )\n",
              "    (branch7x7dbl_3): BasicConv2d(\n",
              "      (conv): Conv2d(160, 160, kernel_size=(1, 7), stride=(1, 1), padding=(0, 3), bias=False)\n",
              "      (bn): BatchNorm2d(160, eps=0.001, momentum=0.1, affine=True, track_running_stats=True)\n",
              "    )\n",
              "    (branch7x7dbl_4): BasicConv2d(\n",
              "      (conv): Conv2d(160, 160, kernel_size=(7, 1), stride=(1, 1), padding=(3, 0), bias=False)\n",
              "      (bn): BatchNorm2d(160, eps=0.001, momentum=0.1, affine=True, track_running_stats=True)\n",
              "    )\n",
              "    (branch7x7dbl_5): BasicConv2d(\n",
              "      (conv): Conv2d(160, 192, kernel_size=(1, 7), stride=(1, 1), padding=(0, 3), bias=False)\n",
              "      (bn): BatchNorm2d(192, eps=0.001, momentum=0.1, affine=True, track_running_stats=True)\n",
              "    )\n",
              "    (branch_pool): BasicConv2d(\n",
              "      (conv): Conv2d(768, 192, kernel_size=(1, 1), stride=(1, 1), bias=False)\n",
              "      (bn): BatchNorm2d(192, eps=0.001, momentum=0.1, affine=True, track_running_stats=True)\n",
              "    )\n",
              "  )\n",
              "  (Mixed_6e): InceptionC(\n",
              "    (branch1x1): BasicConv2d(\n",
              "      (conv): Conv2d(768, 192, kernel_size=(1, 1), stride=(1, 1), bias=False)\n",
              "      (bn): BatchNorm2d(192, eps=0.001, momentum=0.1, affine=True, track_running_stats=True)\n",
              "    )\n",
              "    (branch7x7_1): BasicConv2d(\n",
              "      (conv): Conv2d(768, 192, kernel_size=(1, 1), stride=(1, 1), bias=False)\n",
              "      (bn): BatchNorm2d(192, eps=0.001, momentum=0.1, affine=True, track_running_stats=True)\n",
              "    )\n",
              "    (branch7x7_2): BasicConv2d(\n",
              "      (conv): Conv2d(192, 192, kernel_size=(1, 7), stride=(1, 1), padding=(0, 3), bias=False)\n",
              "      (bn): BatchNorm2d(192, eps=0.001, momentum=0.1, affine=True, track_running_stats=True)\n",
              "    )\n",
              "    (branch7x7_3): BasicConv2d(\n",
              "      (conv): Conv2d(192, 192, kernel_size=(7, 1), stride=(1, 1), padding=(3, 0), bias=False)\n",
              "      (bn): BatchNorm2d(192, eps=0.001, momentum=0.1, affine=True, track_running_stats=True)\n",
              "    )\n",
              "    (branch7x7dbl_1): BasicConv2d(\n",
              "      (conv): Conv2d(768, 192, kernel_size=(1, 1), stride=(1, 1), bias=False)\n",
              "      (bn): BatchNorm2d(192, eps=0.001, momentum=0.1, affine=True, track_running_stats=True)\n",
              "    )\n",
              "    (branch7x7dbl_2): BasicConv2d(\n",
              "      (conv): Conv2d(192, 192, kernel_size=(7, 1), stride=(1, 1), padding=(3, 0), bias=False)\n",
              "      (bn): BatchNorm2d(192, eps=0.001, momentum=0.1, affine=True, track_running_stats=True)\n",
              "    )\n",
              "    (branch7x7dbl_3): BasicConv2d(\n",
              "      (conv): Conv2d(192, 192, kernel_size=(1, 7), stride=(1, 1), padding=(0, 3), bias=False)\n",
              "      (bn): BatchNorm2d(192, eps=0.001, momentum=0.1, affine=True, track_running_stats=True)\n",
              "    )\n",
              "    (branch7x7dbl_4): BasicConv2d(\n",
              "      (conv): Conv2d(192, 192, kernel_size=(7, 1), stride=(1, 1), padding=(3, 0), bias=False)\n",
              "      (bn): BatchNorm2d(192, eps=0.001, momentum=0.1, affine=True, track_running_stats=True)\n",
              "    )\n",
              "    (branch7x7dbl_5): BasicConv2d(\n",
              "      (conv): Conv2d(192, 192, kernel_size=(1, 7), stride=(1, 1), padding=(0, 3), bias=False)\n",
              "      (bn): BatchNorm2d(192, eps=0.001, momentum=0.1, affine=True, track_running_stats=True)\n",
              "    )\n",
              "    (branch_pool): BasicConv2d(\n",
              "      (conv): Conv2d(768, 192, kernel_size=(1, 1), stride=(1, 1), bias=False)\n",
              "      (bn): BatchNorm2d(192, eps=0.001, momentum=0.1, affine=True, track_running_stats=True)\n",
              "    )\n",
              "  )\n",
              "  (Mixed_7a): InceptionD(\n",
              "    (branch3x3_1): BasicConv2d(\n",
              "      (conv): Conv2d(768, 192, kernel_size=(1, 1), stride=(1, 1), bias=False)\n",
              "      (bn): BatchNorm2d(192, eps=0.001, momentum=0.1, affine=True, track_running_stats=True)\n",
              "    )\n",
              "    (branch3x3_2): BasicConv2d(\n",
              "      (conv): Conv2d(192, 320, kernel_size=(3, 3), stride=(2, 2), bias=False)\n",
              "      (bn): BatchNorm2d(320, eps=0.001, momentum=0.1, affine=True, track_running_stats=True)\n",
              "    )\n",
              "    (branch7x7x3_1): BasicConv2d(\n",
              "      (conv): Conv2d(768, 192, kernel_size=(1, 1), stride=(1, 1), bias=False)\n",
              "      (bn): BatchNorm2d(192, eps=0.001, momentum=0.1, affine=True, track_running_stats=True)\n",
              "    )\n",
              "    (branch7x7x3_2): BasicConv2d(\n",
              "      (conv): Conv2d(192, 192, kernel_size=(1, 7), stride=(1, 1), padding=(0, 3), bias=False)\n",
              "      (bn): BatchNorm2d(192, eps=0.001, momentum=0.1, affine=True, track_running_stats=True)\n",
              "    )\n",
              "    (branch7x7x3_3): BasicConv2d(\n",
              "      (conv): Conv2d(192, 192, kernel_size=(7, 1), stride=(1, 1), padding=(3, 0), bias=False)\n",
              "      (bn): BatchNorm2d(192, eps=0.001, momentum=0.1, affine=True, track_running_stats=True)\n",
              "    )\n",
              "    (branch7x7x3_4): BasicConv2d(\n",
              "      (conv): Conv2d(192, 192, kernel_size=(3, 3), stride=(2, 2), bias=False)\n",
              "      (bn): BatchNorm2d(192, eps=0.001, momentum=0.1, affine=True, track_running_stats=True)\n",
              "    )\n",
              "  )\n",
              "  (Mixed_7b): InceptionE(\n",
              "    (branch1x1): BasicConv2d(\n",
              "      (conv): Conv2d(1280, 320, kernel_size=(1, 1), stride=(1, 1), bias=False)\n",
              "      (bn): BatchNorm2d(320, eps=0.001, momentum=0.1, affine=True, track_running_stats=True)\n",
              "    )\n",
              "    (branch3x3_1): BasicConv2d(\n",
              "      (conv): Conv2d(1280, 384, kernel_size=(1, 1), stride=(1, 1), bias=False)\n",
              "      (bn): BatchNorm2d(384, eps=0.001, momentum=0.1, affine=True, track_running_stats=True)\n",
              "    )\n",
              "    (branch3x3_2a): BasicConv2d(\n",
              "      (conv): Conv2d(384, 384, kernel_size=(1, 3), stride=(1, 1), padding=(0, 1), bias=False)\n",
              "      (bn): BatchNorm2d(384, eps=0.001, momentum=0.1, affine=True, track_running_stats=True)\n",
              "    )\n",
              "    (branch3x3_2b): BasicConv2d(\n",
              "      (conv): Conv2d(384, 384, kernel_size=(3, 1), stride=(1, 1), padding=(1, 0), bias=False)\n",
              "      (bn): BatchNorm2d(384, eps=0.001, momentum=0.1, affine=True, track_running_stats=True)\n",
              "    )\n",
              "    (branch3x3dbl_1): BasicConv2d(\n",
              "      (conv): Conv2d(1280, 448, kernel_size=(1, 1), stride=(1, 1), bias=False)\n",
              "      (bn): BatchNorm2d(448, eps=0.001, momentum=0.1, affine=True, track_running_stats=True)\n",
              "    )\n",
              "    (branch3x3dbl_2): BasicConv2d(\n",
              "      (conv): Conv2d(448, 384, kernel_size=(3, 3), stride=(1, 1), padding=(1, 1), bias=False)\n",
              "      (bn): BatchNorm2d(384, eps=0.001, momentum=0.1, affine=True, track_running_stats=True)\n",
              "    )\n",
              "    (branch3x3dbl_3a): BasicConv2d(\n",
              "      (conv): Conv2d(384, 384, kernel_size=(1, 3), stride=(1, 1), padding=(0, 1), bias=False)\n",
              "      (bn): BatchNorm2d(384, eps=0.001, momentum=0.1, affine=True, track_running_stats=True)\n",
              "    )\n",
              "    (branch3x3dbl_3b): BasicConv2d(\n",
              "      (conv): Conv2d(384, 384, kernel_size=(3, 1), stride=(1, 1), padding=(1, 0), bias=False)\n",
              "      (bn): BatchNorm2d(384, eps=0.001, momentum=0.1, affine=True, track_running_stats=True)\n",
              "    )\n",
              "    (branch_pool): BasicConv2d(\n",
              "      (conv): Conv2d(1280, 192, kernel_size=(1, 1), stride=(1, 1), bias=False)\n",
              "      (bn): BatchNorm2d(192, eps=0.001, momentum=0.1, affine=True, track_running_stats=True)\n",
              "    )\n",
              "  )\n",
              "  (Mixed_7c): InceptionE(\n",
              "    (branch1x1): BasicConv2d(\n",
              "      (conv): Conv2d(2048, 320, kernel_size=(1, 1), stride=(1, 1), bias=False)\n",
              "      (bn): BatchNorm2d(320, eps=0.001, momentum=0.1, affine=True, track_running_stats=True)\n",
              "    )\n",
              "    (branch3x3_1): BasicConv2d(\n",
              "      (conv): Conv2d(2048, 384, kernel_size=(1, 1), stride=(1, 1), bias=False)\n",
              "      (bn): BatchNorm2d(384, eps=0.001, momentum=0.1, affine=True, track_running_stats=True)\n",
              "    )\n",
              "    (branch3x3_2a): BasicConv2d(\n",
              "      (conv): Conv2d(384, 384, kernel_size=(1, 3), stride=(1, 1), padding=(0, 1), bias=False)\n",
              "      (bn): BatchNorm2d(384, eps=0.001, momentum=0.1, affine=True, track_running_stats=True)\n",
              "    )\n",
              "    (branch3x3_2b): BasicConv2d(\n",
              "      (conv): Conv2d(384, 384, kernel_size=(3, 1), stride=(1, 1), padding=(1, 0), bias=False)\n",
              "      (bn): BatchNorm2d(384, eps=0.001, momentum=0.1, affine=True, track_running_stats=True)\n",
              "    )\n",
              "    (branch3x3dbl_1): BasicConv2d(\n",
              "      (conv): Conv2d(2048, 448, kernel_size=(1, 1), stride=(1, 1), bias=False)\n",
              "      (bn): BatchNorm2d(448, eps=0.001, momentum=0.1, affine=True, track_running_stats=True)\n",
              "    )\n",
              "    (branch3x3dbl_2): BasicConv2d(\n",
              "      (conv): Conv2d(448, 384, kernel_size=(3, 3), stride=(1, 1), padding=(1, 1), bias=False)\n",
              "      (bn): BatchNorm2d(384, eps=0.001, momentum=0.1, affine=True, track_running_stats=True)\n",
              "    )\n",
              "    (branch3x3dbl_3a): BasicConv2d(\n",
              "      (conv): Conv2d(384, 384, kernel_size=(1, 3), stride=(1, 1), padding=(0, 1), bias=False)\n",
              "      (bn): BatchNorm2d(384, eps=0.001, momentum=0.1, affine=True, track_running_stats=True)\n",
              "    )\n",
              "    (branch3x3dbl_3b): BasicConv2d(\n",
              "      (conv): Conv2d(384, 384, kernel_size=(3, 1), stride=(1, 1), padding=(1, 0), bias=False)\n",
              "      (bn): BatchNorm2d(384, eps=0.001, momentum=0.1, affine=True, track_running_stats=True)\n",
              "    )\n",
              "    (branch_pool): BasicConv2d(\n",
              "      (conv): Conv2d(2048, 192, kernel_size=(1, 1), stride=(1, 1), bias=False)\n",
              "      (bn): BatchNorm2d(192, eps=0.001, momentum=0.1, affine=True, track_running_stats=True)\n",
              "    )\n",
              "  )\n",
              "  (global_pool): SelectAdaptivePool2d (pool_type=avg, flatten=Flatten(start_dim=1, end_dim=-1))\n",
              "  (fc): Linear(in_features=2048, out_features=3, bias=True)\n",
              ")"
            ]
          },
          "metadata": {},
          "execution_count": 21
        }
      ]
    },
    {
      "cell_type": "code",
      "source": [
        "# Instantiates the optimizer for the modified InceptionV3 model using the specified effective learning rate\n",
        "\n",
        "# YOUR CODE HERE\n",
        "\n",
        "base_lr = 0.0005\n",
        "learning_rate = base_lr * batch_size / 256\n",
        "opt = AdamW(inceptionV3Model.parameters(), lr=learning_rate)\n"
      ],
      "metadata": {
        "id": "xPG5MGPIMk4x"
      },
      "execution_count": null,
      "outputs": []
    },
    {
      "cell_type": "code",
      "source": [
        "# Sets up the loss function for the modified InceptionV3 model\n",
        "\n",
        "# YOUR CODE HERE\n",
        "loss_function = CrossEntropyLoss()"
      ],
      "metadata": {
        "id": "EfcMH2x-Mpjh"
      },
      "execution_count": null,
      "outputs": []
    },
    {
      "cell_type": "code",
      "source": [
        "# Fine-tunes the weights in the final layer the modified InceptionV3 model (main learning loop)\n",
        "\n",
        "# YOUR CODE HERE\n",
        "\n",
        "epochs = 25\n",
        "inceptionV3TrainMean = []  # Store the mean training loss values from each epoch\n",
        "inceptionV3ValMean = []  # Store the mean validation loss values from each epoch\n",
        "\n",
        "#below was taken from anthony's tutorial\n",
        "for epoch in range(epochs):\n",
        "  start_time = time.time()\n",
        "\n",
        "  train_loss = []\n",
        "  inceptionV3Model.train()\n",
        "  for batch in training_loader:\n",
        "    batch_imgs, batch_labels = batch\n",
        "    batch_imgs = batch_imgs.cuda()\n",
        "    batch_labels = batch_labels.cuda()\n",
        "    logits = inceptionV3Model(batch_imgs)\n",
        "    loss = loss_function(logits, batch_labels)\n",
        "    loss.backward()\n",
        "    opt.step()\n",
        "    opt.zero_grad()\n",
        "    train_loss.append(loss.item())\n",
        "\n",
        "  val_losses = []\n",
        "  inceptionV3Model.eval()  # put model in \"eval\" mode\n",
        "  with torch.no_grad():  # when evaluating, we don't need gradients\n",
        "      for batch in validation_loader:\n",
        "          batch_imgs, batch_labels = batch\n",
        "          batch_imgs = batch_imgs.cuda()  # (bsz, 3, 32, 32)\n",
        "          batch_labels = batch_labels.cuda()  # (bsz)\n",
        "\n",
        "          logits = inceptionV3Model(batch_imgs)  # (bsz, 100)\n",
        "          loss = loss_function(logits, batch_labels)\n",
        "          val_losses.append(loss.item())\n",
        "\n",
        "  train_time = time.time() - start_time\n",
        "  epoch_train_loss = torch.Tensor(train_loss).mean().item()\n",
        "  epoch_val_loss = torch.Tensor(val_losses).mean().item()\n",
        "\n",
        "  inceptionV3TrainMean.append(epoch_train_loss)\n",
        "  inceptionV3ValMean.append(epoch_val_loss)\n",
        "  print(f'Epoch: {epoch}  Train Loss: {epoch_train_loss:8.6f}   Val Loss: {epoch_val_loss:8.6f}  Time: {train_time:6.4f}')"
      ],
      "metadata": {
        "id": "D8tIT-9M-WkC",
        "colab": {
          "base_uri": "https://localhost:8080/"
        },
        "outputId": "8d169259-18fb-4a23-b82c-9acb6914e16a"
      },
      "execution_count": null,
      "outputs": [
        {
          "output_type": "stream",
          "name": "stdout",
          "text": [
            "Epoch: 0  Train Loss: 0.431590   Val Loss: 0.958650  Time: 13.9839\n",
            "Epoch: 1  Train Loss: 0.146051   Val Loss: 0.118562  Time: 10.3532\n",
            "Epoch: 2  Train Loss: 0.087482   Val Loss: 0.090354  Time: 10.2547\n",
            "Epoch: 3  Train Loss: 0.069915   Val Loss: 0.053129  Time: 10.4191\n",
            "Epoch: 4  Train Loss: 0.041009   Val Loss: 0.032283  Time: 10.4963\n",
            "Epoch: 5  Train Loss: 0.048203   Val Loss: 0.029192  Time: 10.4212\n",
            "Epoch: 6  Train Loss: 0.046471   Val Loss: 0.023052  Time: 10.3681\n",
            "Epoch: 7  Train Loss: 0.042797   Val Loss: 0.053499  Time: 10.3696\n",
            "Epoch: 8  Train Loss: 0.031839   Val Loss: 0.020437  Time: 10.3094\n",
            "Epoch: 9  Train Loss: 0.025683   Val Loss: 0.020162  Time: 10.3527\n",
            "Epoch: 10  Train Loss: 0.021905   Val Loss: 0.005838  Time: 10.3518\n",
            "Epoch: 11  Train Loss: 0.028921   Val Loss: 0.016792  Time: 10.2539\n",
            "Epoch: 12  Train Loss: 0.037239   Val Loss: 0.027712  Time: 10.3567\n",
            "Epoch: 13  Train Loss: 0.018520   Val Loss: 0.006079  Time: 10.3424\n",
            "Epoch: 14  Train Loss: 0.009737   Val Loss: 0.012546  Time: 10.3492\n",
            "Epoch: 15  Train Loss: 0.011875   Val Loss: 0.012498  Time: 10.2682\n",
            "Epoch: 16  Train Loss: 0.014295   Val Loss: 0.008683  Time: 10.2398\n",
            "Epoch: 17  Train Loss: 0.009066   Val Loss: 0.020889  Time: 10.3182\n",
            "Epoch: 18  Train Loss: 0.015970   Val Loss: 0.014083  Time: 10.3397\n",
            "Epoch: 19  Train Loss: 0.009128   Val Loss: 0.006004  Time: 10.3929\n",
            "Epoch: 20  Train Loss: 0.010788   Val Loss: 0.011093  Time: 10.2741\n",
            "Epoch: 21  Train Loss: 0.022019   Val Loss: 0.012916  Time: 10.2879\n",
            "Epoch: 22  Train Loss: 0.012232   Val Loss: 0.003525  Time: 10.4189\n",
            "Epoch: 23  Train Loss: 0.009023   Val Loss: 0.008998  Time: 10.2989\n",
            "Epoch: 24  Train Loss: 0.009248   Val Loss: 0.003329  Time: 10.2916\n"
          ]
        }
      ]
    },
    {
      "cell_type": "code",
      "source": [
        "# Moves the modified ResNet50 model to GPU\n",
        "\n",
        "# YOUR CODE HERE\n",
        "ResNet50Model.cuda()"
      ],
      "metadata": {
        "id": "O4OZyXmHxkFn",
        "colab": {
          "base_uri": "https://localhost:8080/"
        },
        "outputId": "3e0d1d73-8fe9-4f2a-c714-f4aa51c21466"
      },
      "execution_count": null,
      "outputs": [
        {
          "output_type": "execute_result",
          "data": {
            "text/plain": [
              "ResNet(\n",
              "  (conv1): Sequential(\n",
              "    (0): Conv2d(3, 32, kernel_size=(3, 3), stride=(2, 2), padding=(1, 1), bias=False)\n",
              "    (1): BatchNorm2d(32, eps=1e-05, momentum=0.1, affine=True, track_running_stats=True)\n",
              "    (2): ReLU(inplace=True)\n",
              "    (3): Conv2d(32, 32, kernel_size=(3, 3), stride=(1, 1), padding=(1, 1), bias=False)\n",
              "    (4): BatchNorm2d(32, eps=1e-05, momentum=0.1, affine=True, track_running_stats=True)\n",
              "    (5): ReLU(inplace=True)\n",
              "    (6): Conv2d(32, 64, kernel_size=(3, 3), stride=(1, 1), padding=(1, 1), bias=False)\n",
              "  )\n",
              "  (bn1): BatchNorm2d(64, eps=1e-05, momentum=0.1, affine=True, track_running_stats=True)\n",
              "  (act1): ReLU(inplace=True)\n",
              "  (maxpool): MaxPool2d(kernel_size=3, stride=2, padding=1, dilation=1, ceil_mode=False)\n",
              "  (layer1): Sequential(\n",
              "    (0): Bottleneck(\n",
              "      (conv1): Conv2d(64, 64, kernel_size=(1, 1), stride=(1, 1), bias=False)\n",
              "      (bn1): BatchNorm2d(64, eps=1e-05, momentum=0.1, affine=True, track_running_stats=True)\n",
              "      (act1): ReLU(inplace=True)\n",
              "      (conv2): Conv2d(64, 64, kernel_size=(3, 3), stride=(1, 1), padding=(1, 1), bias=False)\n",
              "      (bn2): BatchNorm2d(64, eps=1e-05, momentum=0.1, affine=True, track_running_stats=True)\n",
              "      (drop_block): Identity()\n",
              "      (act2): ReLU(inplace=True)\n",
              "      (aa): Identity()\n",
              "      (conv3): Conv2d(64, 256, kernel_size=(1, 1), stride=(1, 1), bias=False)\n",
              "      (bn3): BatchNorm2d(256, eps=1e-05, momentum=0.1, affine=True, track_running_stats=True)\n",
              "      (act3): ReLU(inplace=True)\n",
              "      (downsample): Sequential(\n",
              "        (0): Identity()\n",
              "        (1): Conv2d(64, 256, kernel_size=(1, 1), stride=(1, 1), bias=False)\n",
              "        (2): BatchNorm2d(256, eps=1e-05, momentum=0.1, affine=True, track_running_stats=True)\n",
              "      )\n",
              "    )\n",
              "    (1): Bottleneck(\n",
              "      (conv1): Conv2d(256, 64, kernel_size=(1, 1), stride=(1, 1), bias=False)\n",
              "      (bn1): BatchNorm2d(64, eps=1e-05, momentum=0.1, affine=True, track_running_stats=True)\n",
              "      (act1): ReLU(inplace=True)\n",
              "      (conv2): Conv2d(64, 64, kernel_size=(3, 3), stride=(1, 1), padding=(1, 1), bias=False)\n",
              "      (bn2): BatchNorm2d(64, eps=1e-05, momentum=0.1, affine=True, track_running_stats=True)\n",
              "      (drop_block): Identity()\n",
              "      (act2): ReLU(inplace=True)\n",
              "      (aa): Identity()\n",
              "      (conv3): Conv2d(64, 256, kernel_size=(1, 1), stride=(1, 1), bias=False)\n",
              "      (bn3): BatchNorm2d(256, eps=1e-05, momentum=0.1, affine=True, track_running_stats=True)\n",
              "      (act3): ReLU(inplace=True)\n",
              "    )\n",
              "    (2): Bottleneck(\n",
              "      (conv1): Conv2d(256, 64, kernel_size=(1, 1), stride=(1, 1), bias=False)\n",
              "      (bn1): BatchNorm2d(64, eps=1e-05, momentum=0.1, affine=True, track_running_stats=True)\n",
              "      (act1): ReLU(inplace=True)\n",
              "      (conv2): Conv2d(64, 64, kernel_size=(3, 3), stride=(1, 1), padding=(1, 1), bias=False)\n",
              "      (bn2): BatchNorm2d(64, eps=1e-05, momentum=0.1, affine=True, track_running_stats=True)\n",
              "      (drop_block): Identity()\n",
              "      (act2): ReLU(inplace=True)\n",
              "      (aa): Identity()\n",
              "      (conv3): Conv2d(64, 256, kernel_size=(1, 1), stride=(1, 1), bias=False)\n",
              "      (bn3): BatchNorm2d(256, eps=1e-05, momentum=0.1, affine=True, track_running_stats=True)\n",
              "      (act3): ReLU(inplace=True)\n",
              "    )\n",
              "  )\n",
              "  (layer2): Sequential(\n",
              "    (0): Bottleneck(\n",
              "      (conv1): Conv2d(256, 128, kernel_size=(1, 1), stride=(1, 1), bias=False)\n",
              "      (bn1): BatchNorm2d(128, eps=1e-05, momentum=0.1, affine=True, track_running_stats=True)\n",
              "      (act1): ReLU(inplace=True)\n",
              "      (conv2): Conv2d(128, 128, kernel_size=(3, 3), stride=(2, 2), padding=(1, 1), bias=False)\n",
              "      (bn2): BatchNorm2d(128, eps=1e-05, momentum=0.1, affine=True, track_running_stats=True)\n",
              "      (drop_block): Identity()\n",
              "      (act2): ReLU(inplace=True)\n",
              "      (aa): Identity()\n",
              "      (conv3): Conv2d(128, 512, kernel_size=(1, 1), stride=(1, 1), bias=False)\n",
              "      (bn3): BatchNorm2d(512, eps=1e-05, momentum=0.1, affine=True, track_running_stats=True)\n",
              "      (act3): ReLU(inplace=True)\n",
              "      (downsample): Sequential(\n",
              "        (0): AvgPool2d(kernel_size=2, stride=2, padding=0)\n",
              "        (1): Conv2d(256, 512, kernel_size=(1, 1), stride=(1, 1), bias=False)\n",
              "        (2): BatchNorm2d(512, eps=1e-05, momentum=0.1, affine=True, track_running_stats=True)\n",
              "      )\n",
              "    )\n",
              "    (1): Bottleneck(\n",
              "      (conv1): Conv2d(512, 128, kernel_size=(1, 1), stride=(1, 1), bias=False)\n",
              "      (bn1): BatchNorm2d(128, eps=1e-05, momentum=0.1, affine=True, track_running_stats=True)\n",
              "      (act1): ReLU(inplace=True)\n",
              "      (conv2): Conv2d(128, 128, kernel_size=(3, 3), stride=(1, 1), padding=(1, 1), bias=False)\n",
              "      (bn2): BatchNorm2d(128, eps=1e-05, momentum=0.1, affine=True, track_running_stats=True)\n",
              "      (drop_block): Identity()\n",
              "      (act2): ReLU(inplace=True)\n",
              "      (aa): Identity()\n",
              "      (conv3): Conv2d(128, 512, kernel_size=(1, 1), stride=(1, 1), bias=False)\n",
              "      (bn3): BatchNorm2d(512, eps=1e-05, momentum=0.1, affine=True, track_running_stats=True)\n",
              "      (act3): ReLU(inplace=True)\n",
              "    )\n",
              "    (2): Bottleneck(\n",
              "      (conv1): Conv2d(512, 128, kernel_size=(1, 1), stride=(1, 1), bias=False)\n",
              "      (bn1): BatchNorm2d(128, eps=1e-05, momentum=0.1, affine=True, track_running_stats=True)\n",
              "      (act1): ReLU(inplace=True)\n",
              "      (conv2): Conv2d(128, 128, kernel_size=(3, 3), stride=(1, 1), padding=(1, 1), bias=False)\n",
              "      (bn2): BatchNorm2d(128, eps=1e-05, momentum=0.1, affine=True, track_running_stats=True)\n",
              "      (drop_block): Identity()\n",
              "      (act2): ReLU(inplace=True)\n",
              "      (aa): Identity()\n",
              "      (conv3): Conv2d(128, 512, kernel_size=(1, 1), stride=(1, 1), bias=False)\n",
              "      (bn3): BatchNorm2d(512, eps=1e-05, momentum=0.1, affine=True, track_running_stats=True)\n",
              "      (act3): ReLU(inplace=True)\n",
              "    )\n",
              "    (3): Bottleneck(\n",
              "      (conv1): Conv2d(512, 128, kernel_size=(1, 1), stride=(1, 1), bias=False)\n",
              "      (bn1): BatchNorm2d(128, eps=1e-05, momentum=0.1, affine=True, track_running_stats=True)\n",
              "      (act1): ReLU(inplace=True)\n",
              "      (conv2): Conv2d(128, 128, kernel_size=(3, 3), stride=(1, 1), padding=(1, 1), bias=False)\n",
              "      (bn2): BatchNorm2d(128, eps=1e-05, momentum=0.1, affine=True, track_running_stats=True)\n",
              "      (drop_block): Identity()\n",
              "      (act2): ReLU(inplace=True)\n",
              "      (aa): Identity()\n",
              "      (conv3): Conv2d(128, 512, kernel_size=(1, 1), stride=(1, 1), bias=False)\n",
              "      (bn3): BatchNorm2d(512, eps=1e-05, momentum=0.1, affine=True, track_running_stats=True)\n",
              "      (act3): ReLU(inplace=True)\n",
              "    )\n",
              "  )\n",
              "  (layer3): Sequential(\n",
              "    (0): Bottleneck(\n",
              "      (conv1): Conv2d(512, 256, kernel_size=(1, 1), stride=(1, 1), bias=False)\n",
              "      (bn1): BatchNorm2d(256, eps=1e-05, momentum=0.1, affine=True, track_running_stats=True)\n",
              "      (act1): ReLU(inplace=True)\n",
              "      (conv2): Conv2d(256, 256, kernel_size=(3, 3), stride=(2, 2), padding=(1, 1), bias=False)\n",
              "      (bn2): BatchNorm2d(256, eps=1e-05, momentum=0.1, affine=True, track_running_stats=True)\n",
              "      (drop_block): Identity()\n",
              "      (act2): ReLU(inplace=True)\n",
              "      (aa): Identity()\n",
              "      (conv3): Conv2d(256, 1024, kernel_size=(1, 1), stride=(1, 1), bias=False)\n",
              "      (bn3): BatchNorm2d(1024, eps=1e-05, momentum=0.1, affine=True, track_running_stats=True)\n",
              "      (act3): ReLU(inplace=True)\n",
              "      (downsample): Sequential(\n",
              "        (0): AvgPool2d(kernel_size=2, stride=2, padding=0)\n",
              "        (1): Conv2d(512, 1024, kernel_size=(1, 1), stride=(1, 1), bias=False)\n",
              "        (2): BatchNorm2d(1024, eps=1e-05, momentum=0.1, affine=True, track_running_stats=True)\n",
              "      )\n",
              "    )\n",
              "    (1): Bottleneck(\n",
              "      (conv1): Conv2d(1024, 256, kernel_size=(1, 1), stride=(1, 1), bias=False)\n",
              "      (bn1): BatchNorm2d(256, eps=1e-05, momentum=0.1, affine=True, track_running_stats=True)\n",
              "      (act1): ReLU(inplace=True)\n",
              "      (conv2): Conv2d(256, 256, kernel_size=(3, 3), stride=(1, 1), padding=(1, 1), bias=False)\n",
              "      (bn2): BatchNorm2d(256, eps=1e-05, momentum=0.1, affine=True, track_running_stats=True)\n",
              "      (drop_block): Identity()\n",
              "      (act2): ReLU(inplace=True)\n",
              "      (aa): Identity()\n",
              "      (conv3): Conv2d(256, 1024, kernel_size=(1, 1), stride=(1, 1), bias=False)\n",
              "      (bn3): BatchNorm2d(1024, eps=1e-05, momentum=0.1, affine=True, track_running_stats=True)\n",
              "      (act3): ReLU(inplace=True)\n",
              "    )\n",
              "    (2): Bottleneck(\n",
              "      (conv1): Conv2d(1024, 256, kernel_size=(1, 1), stride=(1, 1), bias=False)\n",
              "      (bn1): BatchNorm2d(256, eps=1e-05, momentum=0.1, affine=True, track_running_stats=True)\n",
              "      (act1): ReLU(inplace=True)\n",
              "      (conv2): Conv2d(256, 256, kernel_size=(3, 3), stride=(1, 1), padding=(1, 1), bias=False)\n",
              "      (bn2): BatchNorm2d(256, eps=1e-05, momentum=0.1, affine=True, track_running_stats=True)\n",
              "      (drop_block): Identity()\n",
              "      (act2): ReLU(inplace=True)\n",
              "      (aa): Identity()\n",
              "      (conv3): Conv2d(256, 1024, kernel_size=(1, 1), stride=(1, 1), bias=False)\n",
              "      (bn3): BatchNorm2d(1024, eps=1e-05, momentum=0.1, affine=True, track_running_stats=True)\n",
              "      (act3): ReLU(inplace=True)\n",
              "    )\n",
              "    (3): Bottleneck(\n",
              "      (conv1): Conv2d(1024, 256, kernel_size=(1, 1), stride=(1, 1), bias=False)\n",
              "      (bn1): BatchNorm2d(256, eps=1e-05, momentum=0.1, affine=True, track_running_stats=True)\n",
              "      (act1): ReLU(inplace=True)\n",
              "      (conv2): Conv2d(256, 256, kernel_size=(3, 3), stride=(1, 1), padding=(1, 1), bias=False)\n",
              "      (bn2): BatchNorm2d(256, eps=1e-05, momentum=0.1, affine=True, track_running_stats=True)\n",
              "      (drop_block): Identity()\n",
              "      (act2): ReLU(inplace=True)\n",
              "      (aa): Identity()\n",
              "      (conv3): Conv2d(256, 1024, kernel_size=(1, 1), stride=(1, 1), bias=False)\n",
              "      (bn3): BatchNorm2d(1024, eps=1e-05, momentum=0.1, affine=True, track_running_stats=True)\n",
              "      (act3): ReLU(inplace=True)\n",
              "    )\n",
              "    (4): Bottleneck(\n",
              "      (conv1): Conv2d(1024, 256, kernel_size=(1, 1), stride=(1, 1), bias=False)\n",
              "      (bn1): BatchNorm2d(256, eps=1e-05, momentum=0.1, affine=True, track_running_stats=True)\n",
              "      (act1): ReLU(inplace=True)\n",
              "      (conv2): Conv2d(256, 256, kernel_size=(3, 3), stride=(1, 1), padding=(1, 1), bias=False)\n",
              "      (bn2): BatchNorm2d(256, eps=1e-05, momentum=0.1, affine=True, track_running_stats=True)\n",
              "      (drop_block): Identity()\n",
              "      (act2): ReLU(inplace=True)\n",
              "      (aa): Identity()\n",
              "      (conv3): Conv2d(256, 1024, kernel_size=(1, 1), stride=(1, 1), bias=False)\n",
              "      (bn3): BatchNorm2d(1024, eps=1e-05, momentum=0.1, affine=True, track_running_stats=True)\n",
              "      (act3): ReLU(inplace=True)\n",
              "    )\n",
              "    (5): Bottleneck(\n",
              "      (conv1): Conv2d(1024, 256, kernel_size=(1, 1), stride=(1, 1), bias=False)\n",
              "      (bn1): BatchNorm2d(256, eps=1e-05, momentum=0.1, affine=True, track_running_stats=True)\n",
              "      (act1): ReLU(inplace=True)\n",
              "      (conv2): Conv2d(256, 256, kernel_size=(3, 3), stride=(1, 1), padding=(1, 1), bias=False)\n",
              "      (bn2): BatchNorm2d(256, eps=1e-05, momentum=0.1, affine=True, track_running_stats=True)\n",
              "      (drop_block): Identity()\n",
              "      (act2): ReLU(inplace=True)\n",
              "      (aa): Identity()\n",
              "      (conv3): Conv2d(256, 1024, kernel_size=(1, 1), stride=(1, 1), bias=False)\n",
              "      (bn3): BatchNorm2d(1024, eps=1e-05, momentum=0.1, affine=True, track_running_stats=True)\n",
              "      (act3): ReLU(inplace=True)\n",
              "    )\n",
              "  )\n",
              "  (layer4): Sequential(\n",
              "    (0): Bottleneck(\n",
              "      (conv1): Conv2d(1024, 512, kernel_size=(1, 1), stride=(1, 1), bias=False)\n",
              "      (bn1): BatchNorm2d(512, eps=1e-05, momentum=0.1, affine=True, track_running_stats=True)\n",
              "      (act1): ReLU(inplace=True)\n",
              "      (conv2): Conv2d(512, 512, kernel_size=(3, 3), stride=(2, 2), padding=(1, 1), bias=False)\n",
              "      (bn2): BatchNorm2d(512, eps=1e-05, momentum=0.1, affine=True, track_running_stats=True)\n",
              "      (drop_block): Identity()\n",
              "      (act2): ReLU(inplace=True)\n",
              "      (aa): Identity()\n",
              "      (conv3): Conv2d(512, 2048, kernel_size=(1, 1), stride=(1, 1), bias=False)\n",
              "      (bn3): BatchNorm2d(2048, eps=1e-05, momentum=0.1, affine=True, track_running_stats=True)\n",
              "      (act3): ReLU(inplace=True)\n",
              "      (downsample): Sequential(\n",
              "        (0): AvgPool2d(kernel_size=2, stride=2, padding=0)\n",
              "        (1): Conv2d(1024, 2048, kernel_size=(1, 1), stride=(1, 1), bias=False)\n",
              "        (2): BatchNorm2d(2048, eps=1e-05, momentum=0.1, affine=True, track_running_stats=True)\n",
              "      )\n",
              "    )\n",
              "    (1): Bottleneck(\n",
              "      (conv1): Conv2d(2048, 512, kernel_size=(1, 1), stride=(1, 1), bias=False)\n",
              "      (bn1): BatchNorm2d(512, eps=1e-05, momentum=0.1, affine=True, track_running_stats=True)\n",
              "      (act1): ReLU(inplace=True)\n",
              "      (conv2): Conv2d(512, 512, kernel_size=(3, 3), stride=(1, 1), padding=(1, 1), bias=False)\n",
              "      (bn2): BatchNorm2d(512, eps=1e-05, momentum=0.1, affine=True, track_running_stats=True)\n",
              "      (drop_block): Identity()\n",
              "      (act2): ReLU(inplace=True)\n",
              "      (aa): Identity()\n",
              "      (conv3): Conv2d(512, 2048, kernel_size=(1, 1), stride=(1, 1), bias=False)\n",
              "      (bn3): BatchNorm2d(2048, eps=1e-05, momentum=0.1, affine=True, track_running_stats=True)\n",
              "      (act3): ReLU(inplace=True)\n",
              "    )\n",
              "    (2): Bottleneck(\n",
              "      (conv1): Conv2d(2048, 512, kernel_size=(1, 1), stride=(1, 1), bias=False)\n",
              "      (bn1): BatchNorm2d(512, eps=1e-05, momentum=0.1, affine=True, track_running_stats=True)\n",
              "      (act1): ReLU(inplace=True)\n",
              "      (conv2): Conv2d(512, 512, kernel_size=(3, 3), stride=(1, 1), padding=(1, 1), bias=False)\n",
              "      (bn2): BatchNorm2d(512, eps=1e-05, momentum=0.1, affine=True, track_running_stats=True)\n",
              "      (drop_block): Identity()\n",
              "      (act2): ReLU(inplace=True)\n",
              "      (aa): Identity()\n",
              "      (conv3): Conv2d(512, 2048, kernel_size=(1, 1), stride=(1, 1), bias=False)\n",
              "      (bn3): BatchNorm2d(2048, eps=1e-05, momentum=0.1, affine=True, track_running_stats=True)\n",
              "      (act3): ReLU(inplace=True)\n",
              "    )\n",
              "  )\n",
              "  (global_pool): SelectAdaptivePool2d (pool_type=avg, flatten=Flatten(start_dim=1, end_dim=-1))\n",
              "  (fc): Linear(in_features=2048, out_features=3, bias=True)\n",
              ")"
            ]
          },
          "metadata": {},
          "execution_count": 25
        }
      ]
    },
    {
      "cell_type": "code",
      "source": [
        "# Instantiates the optimizer for the modified ResNet50 model\n",
        "\n",
        "# YOUR CODE HERE\n",
        "base_lr = 0.0005\n",
        "learning_rate = base_lr * batch_size / 256\n",
        "opt = AdamW(ResNet50Model.parameters(), lr=learning_rate)"
      ],
      "metadata": {
        "id": "Fz_V6au6RbV3"
      },
      "execution_count": null,
      "outputs": []
    },
    {
      "cell_type": "code",
      "source": [
        "# Sets up the loss function for the modified ResNet50 model\n",
        "\n",
        "# YOUR CODE HERE\n",
        "\n",
        "loss_function = CrossEntropyLoss()"
      ],
      "metadata": {
        "id": "W3iE55k-RbV5"
      },
      "execution_count": null,
      "outputs": []
    },
    {
      "cell_type": "code",
      "source": [
        "# Fine-tunes the weights in the final layer the modified ResNet50 model (main learning loop)\n",
        "\n",
        "# YOUR CODE HERE\n",
        "resNet50TrainMean = [] #store the mean loss values from each epoch\n",
        "resNet50ValMean = []\n",
        "\n",
        "#below was taken from anthony's tutorial\n",
        "for epoch in range(epochs):\n",
        "  start_time = time.time()\n",
        "  train_loss = []\n",
        "  ResNet50Model.train()\n",
        "  for batch in training_loader:\n",
        "    batch_imgs, batch_labels = batch\n",
        "    batch_imgs = batch_imgs.cuda()\n",
        "    batch_labels = batch_labels.cuda()\n",
        "    logits = ResNet50Model(batch_imgs)\n",
        "    loss = loss_function(logits, batch_labels)\n",
        "    loss.backward()\n",
        "    opt.step()\n",
        "    opt.zero_grad()\n",
        "    train_loss.append(loss.item())\n",
        "\n",
        "  val_losses = []\n",
        "  ResNet50Model.eval()  # put model in \"eval\" mode\n",
        "  with torch.no_grad():\n",
        "      for batch in validation_loader:\n",
        "          batch_imgs, batch_labels = batch\n",
        "          batch_imgs = batch_imgs.cuda()\n",
        "          batch_labels = batch_labels.cuda()\n",
        "\n",
        "          logits = ResNet50Model(batch_imgs)\n",
        "          loss = loss_function(logits, batch_labels)\n",
        "          val_losses.append(loss.item())\n",
        "\n",
        "  train_time = time.time() - start_time\n",
        "  #find the mean training and validation losses for the current epoch\n",
        "  epoch_train_loss = torch.Tensor(train_loss).mean().item()\n",
        "  epoch_val_loss = torch.Tensor(val_losses).mean().item()\n",
        "\n",
        "  #append\n",
        "  resNet50TrainMean.append(epoch_train_loss)\n",
        "  resNet50ValMean.append(epoch_val_loss)\n",
        "  print(f'Epoch: {epoch}  Train Loss: {epoch_train_loss:8.6f}   Val Loss: {epoch_val_loss:8.6f}  Time: {train_time:6.4f}')"
      ],
      "metadata": {
        "id": "HOecqyEUFpnH",
        "colab": {
          "base_uri": "https://localhost:8080/"
        },
        "outputId": "1fa4f4b2-f268-45e7-d355-dbcda5a8f108"
      },
      "execution_count": null,
      "outputs": [
        {
          "output_type": "stream",
          "name": "stdout",
          "text": [
            "Epoch: 0  Train Loss: 0.960653   Val Loss: 0.946065  Time: 11.5292\n",
            "Epoch: 1  Train Loss: 0.638513   Val Loss: 0.804221  Time: 11.4284\n",
            "Epoch: 2  Train Loss: 0.391133   Val Loss: 0.430910  Time: 11.4264\n",
            "Epoch: 3  Train Loss: 0.248592   Val Loss: 0.206514  Time: 11.4148\n",
            "Epoch: 4  Train Loss: 0.166490   Val Loss: 0.138090  Time: 11.4080\n",
            "Epoch: 5  Train Loss: 0.126530   Val Loss: 0.105061  Time: 11.3938\n",
            "Epoch: 6  Train Loss: 0.107925   Val Loss: 0.082318  Time: 11.3575\n",
            "Epoch: 7  Train Loss: 0.085985   Val Loss: 0.067827  Time: 11.4241\n",
            "Epoch: 8  Train Loss: 0.069741   Val Loss: 0.048706  Time: 11.5141\n",
            "Epoch: 9  Train Loss: 0.056428   Val Loss: 0.047709  Time: 11.6426\n",
            "Epoch: 10  Train Loss: 0.051767   Val Loss: 0.035926  Time: 11.4889\n",
            "Epoch: 11  Train Loss: 0.040641   Val Loss: 0.029323  Time: 11.4432\n",
            "Epoch: 12  Train Loss: 0.041472   Val Loss: 0.023127  Time: 11.4148\n",
            "Epoch: 13  Train Loss: 0.032657   Val Loss: 0.019510  Time: 11.4928\n",
            "Epoch: 14  Train Loss: 0.033480   Val Loss: 0.021300  Time: 11.5481\n",
            "Epoch: 15  Train Loss: 0.057916   Val Loss: 0.025397  Time: 11.4582\n",
            "Epoch: 16  Train Loss: 0.031650   Val Loss: 0.024916  Time: 11.4499\n",
            "Epoch: 17  Train Loss: 0.024142   Val Loss: 0.016914  Time: 11.5808\n",
            "Epoch: 18  Train Loss: 0.015098   Val Loss: 0.013810  Time: 11.5875\n",
            "Epoch: 19  Train Loss: 0.015486   Val Loss: 0.011038  Time: 11.4600\n",
            "Epoch: 20  Train Loss: 0.015691   Val Loss: 0.014404  Time: 11.5120\n",
            "Epoch: 21  Train Loss: 0.015340   Val Loss: 0.010429  Time: 11.4703\n",
            "Epoch: 22  Train Loss: 0.009538   Val Loss: 0.007778  Time: 11.5450\n",
            "Epoch: 23  Train Loss: 0.016998   Val Loss: 0.007879  Time: 11.4089\n",
            "Epoch: 24  Train Loss: 0.024924   Val Loss: 0.007330  Time: 11.3838\n"
          ]
        }
      ]
    },
    {
      "cell_type": "markdown",
      "source": [
        "**Step 3:** In different labeled subplots, display the learning curves for each model. Each subplot should display loss on the training set and the validation set (*i.e.* 2 curves per subplot). Use matplotlib."
      ],
      "metadata": {
        "id": "hWdTW9APDrpS"
      }
    },
    {
      "cell_type": "code",
      "source": [
        "# Displays the learning curves (loss) for both models in two separate subplots\n",
        "\n",
        "# YOUR CODE HERE\n",
        "\n",
        "fig, ax = plt.subplots()\n",
        "\n",
        "ax.plot(inceptionV3TrainMean, label='Training Loss')\n",
        "ax.plot(inceptionV3ValMean, label='Validation Loss')\n",
        "\n",
        "ax.set_xlabel('Epochs')\n",
        "ax.set_ylabel('Loss')\n",
        "ax.set_title('Learning Curves')\n",
        "\n",
        "plt.legend()\n",
        "plt.show()\n"
      ],
      "metadata": {
        "id": "l-uQC4sIX6-b",
        "colab": {
          "base_uri": "https://localhost:8080/",
          "height": 295
        },
        "outputId": "4738fa33-81b3-4b7d-825b-c4f6f74acd75"
      },
      "execution_count": null,
      "outputs": [
        {
          "output_type": "display_data",
          "data": {
            "text/plain": [
              "<Figure size 432x288 with 1 Axes>"
            ],
            "image/png": "[encoded data removed]"
          },
          "metadata": {
            "needs_background": "light"
          }
        }
      ]
    },
    {
      "cell_type": "markdown",
      "source": [
        "❓ ***Question: Comment on your learning curves. What do they tell you?***\n",
        "\n",
        "The training loss and validation loss curves are very close to eachother throughout the training process. This shows us that the model has been trained well and that it is able to able to apply what it has learned to untrained data effectively"
      ],
      "metadata": {
        "id": "EvoZe_IGQJ__"
      }
    },
    {
      "cell_type": "markdown",
      "source": [
        "📝 YOUR ANSWER GOES HERE"
      ],
      "metadata": {
        "id": "UTgGmtFzQVu_"
      }
    },
    {
      "cell_type": "markdown",
      "source": [
        "## Part 5: Performance evaluation on a test set\n",
        "\n",
        "Of course, estimating the performance of your model on unseen data is a key step in machine learning methodology. Here, you will summarize model performance for your InceptionV3 model and ResNet50 model on the test set."
      ],
      "metadata": {
        "id": "GBAcg-ezIKZG"
      }
    },
    {
      "cell_type": "code",
      "source": [
        "from sklearn.metrics import confusion_matrix\n",
        "from sklearn.metrics import PrecisionRecallDisplay\n",
        "from torch import no_grad"
      ],
      "metadata": {
        "id": "qfL6yr-E32SY"
      },
      "execution_count": null,
      "outputs": []
    },
    {
      "cell_type": "markdown",
      "source": [
        "**Step 1:** Iterate through the images in the test set using the test dataloader to make predictions for the test set images and retrieve their actual label (its index). Note that this is done in a way similar to the validation step in the training loop.\n",
        "\n",
        "Append the predicted class index to a list, the actual labels to another and the probability of the SARS-CoV-3 class to another list.\n",
        "\n",
        "Do this for both fine-tuned models.\n",
        "\n",
        "Note that the indices map to the classes as follows:\n",
        "\n",
        "0: normal\n",
        "\n",
        "1: pneumonia\n",
        "\n",
        "2: sarscov3"
      ],
      "metadata": {
        "id": "yfskXdis0a8t"
      }
    },
    {
      "cell_type": "code",
      "source": [
        "# Creates a list of predictions, a list of actual labels and a list of probabilities of the SARS-CoV-3 class for the fine-tuned InceptionV3 model applied to the test set\n",
        "\n",
        "# YOUR CODE HERE\n",
        "# For InceptionV3 model\n",
        "\n",
        "# For InceptionV3 model\n",
        "inceptionV3Prediction = []\n",
        "inceptionV3Actual = []\n",
        "inceptionV3Probability = []\n",
        "\n",
        "inceptionV3Model.eval()\n",
        "with no_grad():\n",
        "  #iterate over test set\n",
        "    for batch in test_loader:\n",
        "        batch_imgs, batch_labels = batch\n",
        "\n",
        "        #load images and labels into gpu\n",
        "        batch_imgs = batch_imgs.cuda()\n",
        "        batch_labels = batch_labels.cuda()\n",
        "\n",
        "        #compute logits\n",
        "        logits = inceptionV3Model(batch_imgs)\n",
        "        #apply softmax to ensure probability distribution between [0, 1.0] adds ups to 1.0\n",
        "        probs = torch.softmax(logits, dim=1)\n",
        "        #find class with highest probability\n",
        "        preds = torch.argmax(logits, dim=1)\n",
        "\n",
        "        #append to list\n",
        "        inceptionV3Prediction.extend(preds.cpu().numpy())\n",
        "        inceptionV3Actual.extend(batch_labels.cpu().numpy())\n",
        "        inceptionV3Probability.extend(probs.cpu().numpy())\n",
        "\n",
        "#output results\n",
        "print(\"InceptionV3 Model Results:\")\n",
        "for index in range(len(inceptionV3Prediction)):\n",
        "    print(f'Index: {index} | Prediction: {inceptionV3Prediction[index]} | Actual: {inceptionV3Actual[index]} | Probability SARS-CoV-3: {inceptionV3Probability[index][2]:.2f}')\n",
        "\n",
        "\n"
      ],
      "metadata": {
        "id": "euMGErLf0i_1"
      },
      "execution_count": null,
      "outputs": []
    },
    {
      "cell_type": "code",
      "source": [
        "# Creates a list of predictions, a list of actual labels and a list of probabilities of the SARS-CoV-3 class for the fine-tuned ResNet50 model applied to the test set\n",
        "\n",
        "# YOUR CODE HERE\n",
        "\n",
        "# For ResNet50 model\n",
        "resnet50Prediction  = []\n",
        "resnet50Actual = []\n",
        "resnet50Probability = []\n",
        "\n",
        "ResNet50Model.eval()\n",
        "with no_grad():\n",
        "    #iterate over test set\n",
        "    for batch in test_loader:\n",
        "        batch_imgs, batch_labels = batch\n",
        "\n",
        "        #load images and labels into gpu\n",
        "        batch_imgs = batch_imgs.cuda()\n",
        "        batch_labels = batch_labels.cuda()\n",
        "\n",
        "        #compute logits\n",
        "        logits = ResNet50Model(batch_imgs)\n",
        "        #apply softmax to ensure probability distribution between [0, 1.0] adds ups to 1.0\n",
        "        probs = torch.softmax(logits, dim=1)\n",
        "        #find class with highest probability\n",
        "        preds = torch.argmax(logits, dim=1)\n",
        "\n",
        "        #append to list\n",
        "        resnet50Prediction.extend(preds.cpu().numpy())\n",
        "        resnet50Actual.extend(batch_labels.cpu().numpy())\n",
        "        resnet50Probability.extend(probs[:, 2].cpu().numpy())\n",
        "\n",
        "#output results\n",
        "print(\"\\nResNet50 Model Results:\")\n",
        "for index in range(len(resnet50Prediction)):\n",
        "    print(f'Index: {index} | Prediction: {resnet50Prediction[index]} | Actual: {resnet50Actual[index]} | Probability SARS-CoV-3: {resnet50Probability[index]:.2%}')\n",
        "\n"
      ],
      "metadata": {
        "id": "e6UMYl4W3FhK"
      },
      "execution_count": null,
      "outputs": []
    },
    {
      "cell_type": "markdown",
      "source": [
        "**Step 2:** Show the confusion matrices for both models. The `confusion_matrix` function from scikit-learn I imported for you is useful for this."
      ],
      "metadata": {
        "id": "xl53hgxEE6PH"
      }
    },
    {
      "cell_type": "code",
      "source": [
        "# Creates the confusion matrix for the modified InceptionV3 model\n",
        "\n",
        "# YOUR CODE HERE\n",
        "\n",
        "#NOTE: I know we are supposed to convert it to a 2x2 in the next step but I did it here just to make it easier to visualize for myself\n",
        "# and to make calculations easier for future steps\n",
        "inceptionV3CM = confusion_matrix(inceptionV3Actual, inceptionV3Prediction)\n",
        "print(\"\\nInceptionV3 Confusion Matrix:\")\n",
        "print(inceptionV3CM)\n",
        "\n",
        "tn1 = inceptionV3CM[0][0]\n",
        "fp1 = inceptionV3CM[0][1] + inceptionV3CM[0][2]\n",
        "fn1 = inceptionV3CM[1][0] + inceptionV3CM[2][0]\n",
        "tp1 = inceptionV3CM[1][1] + inceptionV3CM[1][2] + inceptionV3CM[2][1] + inceptionV3CM[2][2]\n",
        "\n",
        "print(\"\\n2x2 InceptionV3 Confusion Matrix:\")\n",
        "print(f\"TN: {tn1} | FP: {fp1}\")\n",
        "print(f\"FN: {fn1} | TP: {tp1}\")\n",
        "\n"
      ],
      "metadata": {
        "id": "Ya11twapResF",
        "colab": {
          "base_uri": "https://localhost:8080/"
        },
        "outputId": "3c06be5b-f0c1-42ec-9914-a82e00f2eb4d"
      },
      "execution_count": null,
      "outputs": [
        {
          "output_type": "stream",
          "name": "stdout",
          "text": [
            "\n",
            "InceptionV3 Confusion Matrix:\n",
            "[[1033    0    0]\n",
            " [   2  843    0]\n",
            " [   0    0  344]]\n",
            "\n",
            "2x2 InceptionV3 Confusion Matrix:\n",
            "TN: 1033 | FP: 0\n",
            "FN: 2 | TP: 1187\n"
          ]
        }
      ]
    },
    {
      "cell_type": "code",
      "source": [
        "# Creates the confusion matrix for the modified ResNet50 model\n",
        "\n",
        "# YOUR CODE HERE\n",
        "\n",
        "ResNet50CM = confusion_matrix(resnet50Actual, resnet50Prediction)\n",
        "print(\"\\nResNet50 Confusion Matrix:\")\n",
        "print(ResNet50CM)\n",
        "\n",
        "\n",
        "tn2 = ResNet50CM[0][0]\n",
        "fp2 = ResNet50CM[0][1] + ResNet50CM[0][2]\n",
        "fn2 = ResNet50CM[1][0] + ResNet50CM[2][0]\n",
        "tp2 = ResNet50CM[1][1] + ResNet50CM[1][2] + ResNet50CM[2][1] + ResNet50CM[2][2]\n",
        "\n",
        "print(\"\\n2x2 ResNet50 Confusion Matrix:\")\n",
        "print(f\"TN: {tn2} | FP: {fp2}\")\n",
        "print(f\"FN: {fn2} | TP: {tp2}\")"
      ],
      "metadata": {
        "id": "ns6s6QGz4YIe",
        "colab": {
          "base_uri": "https://localhost:8080/"
        },
        "outputId": "0d57dc96-6677-4fbb-e053-6a83d3490765"
      },
      "execution_count": null,
      "outputs": [
        {
          "output_type": "stream",
          "name": "stdout",
          "text": [
            "\n",
            "ResNet50 Confusion Matrix:\n",
            "[[1031    2    0]\n",
            " [   0  845    0]\n",
            " [   0    0  344]]\n",
            "\n",
            "2x2 ResNet50 Confusion Matrix:\n",
            "TN: 1031 | FP: 2\n",
            "FN: 0 | TP: 1189\n"
          ]
        }
      ]
    },
    {
      "cell_type": "markdown",
      "source": [
        "❓ ***Question: Based off these matrices, report the accuracy of the models.***\n",
        "\n",
        "based on these matrices we can say our models are very accurate. We are getting a high amount of true positives and true negatives and only a few false positives."
      ],
      "metadata": {
        "id": "5g_NVIx5RpOm"
      }
    },
    {
      "cell_type": "markdown",
      "source": [
        "📝 YOUR ANSWER GOES HERE"
      ],
      "metadata": {
        "id": "trfucb7V53fR"
      }
    },
    {
      "cell_type": "markdown",
      "source": [
        "**Step 3:** Use the `PrecisionRecallDisplay.from_predictions` methods documented [here](https://scikit-learn.org/stable/auto_examples/model_selection/plot_precision_recall.html#:~:text=The%20precision%2Drecall%20curve%20shows,a%20low%20false%20negative%20rate.) to plot the precision recall curves for your models. There are three classes, so convert your labels so that it becomes a binary classification scenario, ie. SARS-CoV-3 vs. not-SARS-CoV-3."
      ],
      "metadata": {
        "id": "7umfab-rFaOC"
      }
    },
    {
      "cell_type": "code",
      "source": [
        "# Plots the PR curves of your fine-tuned InceptionV3 and ResNet50 models\n",
        "\n",
        "# YOUR CODE HERE\n"
      ],
      "metadata": {
        "id": "xKoSmJAJRe6W"
      },
      "execution_count": null,
      "outputs": []
    },
    {
      "cell_type": "markdown",
      "source": [
        "❓ ***Question: Based off the results you obtained in this section, which model performs best? Why do you think (in 5 sentences or less)?***"
      ],
      "metadata": {
        "id": "CUHNYRuIylfQ"
      }
    },
    {
      "cell_type": "markdown",
      "source": [
        "📝 YOUR ANSWER GOES HERE"
      ],
      "metadata": {
        "id": "s8m6O95LylqS"
      }
    },
    {
      "cell_type": "markdown",
      "source": [
        "## Part 6: Answering questions from investors ❓\n",
        "\n",
        "Bfizer has heard about your model and are interested in investing in your technology. However, before they engage in further discussions, they want you to answer the following questions:\n",
        "\n",
        "1. Briefly provide techniques that you would explore next to further improve the performance of your model?\n",
        "\n",
        "2. A competitor has trained an SVM on the same dataset but performs worse than your model. Why do CNNs perform better than SVM for image classification? Discuss two aspects: differences in features and differences in training data.\n",
        "\n",
        "3. The investors consider investing in a very small device that can run your model. Would your best model fit on this small cost-effective device with 32 MB of storage, assuming that all parameters in the model are 16 bit floats (you can ignore everything in the model but the trainable parameters)? You can use the `torchstat` library ([link](https://github.com/Swall0w/torchstat)) to get the number of parameters. Note that the relevant function from this library was already imported for you (below).\n",
        "\n",
        "4. If your best model predict a positive SARS-CoV-3 case, how likely is it that you are correct? How likely is it that you are wrong?\n",
        "\n",
        "5. Assuming that the test data is representative of the disease status among the general population of Canada (it is not, why? hint: think of bias.), how many Canadians (Canada pop: 38M) currently have SARS-CoV-4? How much will it cost Canadians to inject all infected people if one dose of Greenraza™️ can be purchased for 13 CAD (Canadian Dollars)? How many people have pneumonia and need to be isolated? (Show your calculations.)\n",
        "\n",
        "**Note: Your confusion matrices might be useful for the last 2 questions. 😉**"
      ],
      "metadata": {
        "id": "1dfWbPP0HpnR"
      }
    },
    {
      "cell_type": "markdown",
      "source": [
        "📝 YOUR SHORT ANSWERS GO HERE (add code cells below as needed for calculations, eg. for running the `stat` function from the `torchstat` package)\n",
        "\n",
        "1) First I would try to get an improved dataset with more examples of sars-cov3. We could also look further into adjusting the hyperperameters such as learning rate or batch size in order to get better results. We can also try combining models using techniques like averaging, majority vote or stacking.\n",
        "\n",
        "2) CNNS are capable of automatically detect relevent features without human supervision. With SVMS a human would have to manually create the features. In this specific example I had trouble making out clear differences between the images in the dataset which is why svm might be problematic.\n",
        "\n",
        "3) using the torchstat we that for InceptionV3 the total memory is 36.65MB and for ResNet50 the total memory is 144.05MB. Meaning 32mb storage is not enough."
      ],
      "metadata": {
        "id": "mcIuatctITLy"
      }
    },
    {
      "cell_type": "code",
      "source": [
        "#4)\n",
        "\n",
        "#inceptionV3 calculations:\n",
        "\n",
        "precision = tp1 / (tp1 + fp1)\n",
        "print(f'The precision is: {precision}')\n",
        "print(f'The inceptionV3 model has a {precision * 100}% chance the model will accuratly predict sars-cov3')\n",
        "\n",
        "\n",
        "\n",
        "\n",
        "\n"
      ],
      "metadata": {
        "colab": {
          "base_uri": "https://localhost:8080/"
        },
        "id": "WdiIQU-TYWeC",
        "outputId": "98c729a0-a0c8-47f1-ba97-21ec675725ff"
      },
      "execution_count": null,
      "outputs": [
        {
          "output_type": "stream",
          "name": "stdout",
          "text": [
            "The precision is: 1.0\n",
            "The inceptionV3 model has a 100.0% chance the model will accuratly predict sars-cov3\n"
          ]
        }
      ]
    },
    {
      "cell_type": "markdown",
      "source": [
        "#5) This data can't represent all of canada. Canada has a population of 38M and our dataset can't represent a population that big. Our dataset may have bias frin the location it came from and may over represent groups. If it was representitive the calculation is as below."
      ],
      "metadata": {
        "id": "Cxs6qNYzd1hK"
      }
    },
    {
      "cell_type": "code",
      "source": [
        "#5)\n",
        "\n",
        "recall = tp1 / (tp1 + fn1)\n",
        "infected = recall * 38000000\n",
        "cost = infected * 13\n",
        "\n",
        "print(recall)\n",
        "print(f'there is {infected} people infected with sars-cov3')\n",
        "print(f'it will cost ${cost} to vaccinate them')\n"
      ],
      "metadata": {
        "colab": {
          "base_uri": "https://localhost:8080/"
        },
        "id": "oaiAUZIcflpm",
        "outputId": "9ed1469d-ec5d-40bc-a5b1-9bedc0bf55e9"
      },
      "execution_count": null,
      "outputs": [
        {
          "output_type": "stream",
          "name": "stdout",
          "text": [
            "0.9983179142136249\n",
            "there is 37936080.74011774 people infected with sars-cov3\n",
            "it will cost $493169049.62153065 to vaccinate them\n"
          ]
        }
      ]
    },
    {
      "cell_type": "code",
      "source": [
        "# Determines the number of trainable parameters in your best model\n",
        "from torchstat import stat\n",
        "\n",
        "# YOUR CODE HERE\n",
        "\n",
        "#convert to cpu\n",
        "inceptionV3Model.cpu()\n",
        "ResNet50Model.cpu()\n",
        "\n",
        "#taken from github\n",
        "stat(inceptionV3Model, (3, 224, 224))\n",
        "print('-------------------------------------------------------------------------------')\n",
        "stat(ResNet50Model, (3, 224, 224))\n"
      ],
      "metadata": {
        "id": "CozarykaTi5U",
        "colab": {
          "base_uri": "https://localhost:8080/"
        },
        "outputId": "4e1d1d04-a232-4710-9584-9cdd7da7cdd6"
      },
      "execution_count": null,
      "outputs": [
        {
          "output_type": "stream",
          "name": "stdout",
          "text": [
            "[MAdd]: AdaptiveAvgPool2d is not supported!\n",
            "[Flops]: AdaptiveAvgPool2d is not supported!\n",
            "[Memory]: AdaptiveAvgPool2d is not supported!\n",
            "[MAdd]: Flatten is not supported!\n",
            "[Flops]: Flatten is not supported!\n",
            "[Memory]: Flatten is not supported!\n",
            "                         module name   input shape  output shape      params memory(MB)             MAdd            Flops  MemRead(B)  MemWrite(B) duration[%]    MemR+W(B)\n",
            "0                 Conv2d_1a_3x3.conv     3 224 224    32 111 111       864.0       1.50     20,896,416.0     10,645,344.0    605568.0    1577088.0       2.46%    2182656.0\n",
            "1                   Conv2d_1a_3x3.bn    32 111 111    32 111 111        64.0       1.50      1,577,088.0        788,544.0   1577344.0    1577088.0       0.59%    3154432.0\n",
            "2                 Conv2d_2a_3x3.conv    32 111 111    32 109 109      9216.0       1.45    218,610,400.0    109,495,296.0   1613952.0    1520768.0       2.54%    3134720.0\n",
            "3                   Conv2d_2a_3x3.bn    32 109 109    32 109 109        64.0       1.45      1,520,768.0        760,384.0   1521024.0    1520768.0       0.17%    3041792.0\n",
            "4                 Conv2d_2b_3x3.conv    32 109 109    64 109 109     18432.0       2.90    437,220,800.0    218,990,592.0   1594496.0    3041536.0       4.49%    4636032.0\n",
            "5                   Conv2d_2b_3x3.bn    64 109 109    64 109 109       128.0       2.90      3,041,536.0      1,520,768.0   3042048.0    3041536.0       0.70%    6083584.0\n",
            "6                              Pool1    64 109 109    64  54  54         0.0       0.71      1,492,992.0        760,384.0   3041536.0     746496.0       1.99%    3788032.0\n",
            "7                 Conv2d_3b_1x1.conv    64  54  54    80  54  54      5120.0       0.89     29,626,560.0     14,929,920.0    766976.0     933120.0       1.39%    1700096.0\n",
            "8                   Conv2d_3b_1x1.bn    80  54  54    80  54  54       160.0       0.89        933,120.0        466,560.0    933760.0     933120.0       0.31%    1866880.0\n",
            "9                 Conv2d_4a_3x3.conv    80  54  54   192  52  52    138240.0       1.98    747,082,752.0    373,800,960.0   1486080.0    2076672.0       4.49%    3562752.0\n",
            "10                  Conv2d_4a_3x3.bn   192  52  52   192  52  52       384.0       1.98      2,076,672.0      1,038,336.0   2078208.0    2076672.0       0.51%    4154880.0\n",
            "11                             Pool2   192  52  52   192  25  25         0.0       0.46        960,000.0        519,168.0   2076672.0     480000.0       1.12%    2556672.0\n",
            "12           Mixed_5b.branch1x1.conv   192  25  25    64  25  25     12288.0       0.15     15,320,000.0      7,680,000.0    529152.0     160000.0       1.25%     689152.0\n",
            "13             Mixed_5b.branch1x1.bn    64  25  25    64  25  25       128.0       0.15        160,000.0         80,000.0    160512.0     160000.0       0.09%     320512.0\n",
            "14         Mixed_5b.branch5x5_1.conv   192  25  25    48  25  25      9216.0       0.11     11,490,000.0      5,760,000.0    516864.0     120000.0       1.11%     636864.0\n",
            "15           Mixed_5b.branch5x5_1.bn    48  25  25    48  25  25        96.0       0.11        120,000.0         60,000.0    120384.0     120000.0       0.08%     240384.0\n",
            "16         Mixed_5b.branch5x5_2.conv    48  25  25    64  25  25     76800.0       0.15     95,960,000.0     48,000,000.0    427200.0     160000.0       1.25%     587200.0\n",
            "17           Mixed_5b.branch5x5_2.bn    64  25  25    64  25  25       128.0       0.15        160,000.0         80,000.0    160512.0     160000.0       0.08%     320512.0\n",
            "18      Mixed_5b.branch3x3dbl_1.conv   192  25  25    64  25  25     12288.0       0.15     15,320,000.0      7,680,000.0    529152.0     160000.0       0.37%     689152.0\n",
            "19        Mixed_5b.branch3x3dbl_1.bn    64  25  25    64  25  25       128.0       0.15        160,000.0         80,000.0    160512.0     160000.0       0.08%     320512.0\n",
            "20      Mixed_5b.branch3x3dbl_2.conv    64  25  25    96  25  25     55296.0       0.23     69,060,000.0     34,560,000.0    381184.0     240000.0       1.09%     621184.0\n",
            "21        Mixed_5b.branch3x3dbl_2.bn    96  25  25    96  25  25       192.0       0.23        240,000.0        120,000.0    240768.0     240000.0       0.13%     480768.0\n",
            "22      Mixed_5b.branch3x3dbl_3.conv    96  25  25    96  25  25     82944.0       0.23    103,620,000.0     51,840,000.0    571776.0     240000.0       1.11%     811776.0\n",
            "23        Mixed_5b.branch3x3dbl_3.bn    96  25  25    96  25  25       192.0       0.23        240,000.0        120,000.0    240768.0     240000.0       0.09%     480768.0\n",
            "24         Mixed_5b.branch_pool.conv   192  25  25    32  25  25      6144.0       0.08      7,660,000.0      3,840,000.0    504576.0      80000.0       0.80%     584576.0\n",
            "25           Mixed_5b.branch_pool.bn    32  25  25    32  25  25        64.0       0.08         80,000.0         40,000.0     80256.0      80000.0       0.07%     160256.0\n",
            "26           Mixed_5c.branch1x1.conv   256  25  25    64  25  25     16384.0       0.15     20,440,000.0     10,240,000.0    705536.0     160000.0       1.22%     865536.0\n",
            "27             Mixed_5c.branch1x1.bn    64  25  25    64  25  25       128.0       0.15        160,000.0         80,000.0    160512.0     160000.0       0.08%     320512.0\n",
            "28         Mixed_5c.branch5x5_1.conv   256  25  25    48  25  25     12288.0       0.11     15,330,000.0      7,680,000.0    689152.0     120000.0       1.01%     809152.0\n",
            "29           Mixed_5c.branch5x5_1.bn    48  25  25    48  25  25        96.0       0.11        120,000.0         60,000.0    120384.0     120000.0       0.08%     240384.0\n",
            "30         Mixed_5c.branch5x5_2.conv    48  25  25    64  25  25     76800.0       0.15     95,960,000.0     48,000,000.0    427200.0     160000.0       0.64%     587200.0\n",
            "31           Mixed_5c.branch5x5_2.bn    64  25  25    64  25  25       128.0       0.15        160,000.0         80,000.0    160512.0     160000.0       0.08%     320512.0\n",
            "32      Mixed_5c.branch3x3dbl_1.conv   256  25  25    64  25  25     16384.0       0.15     20,440,000.0     10,240,000.0    705536.0     160000.0       0.35%     865536.0\n",
            "33        Mixed_5c.branch3x3dbl_1.bn    64  25  25    64  25  25       128.0       0.15        160,000.0         80,000.0    160512.0     160000.0       0.09%     320512.0\n",
            "34      Mixed_5c.branch3x3dbl_2.conv    64  25  25    96  25  25     55296.0       0.23     69,060,000.0     34,560,000.0    381184.0     240000.0       0.57%     621184.0\n",
            "35        Mixed_5c.branch3x3dbl_2.bn    96  25  25    96  25  25       192.0       0.23        240,000.0        120,000.0    240768.0     240000.0       0.07%     480768.0\n",
            "36      Mixed_5c.branch3x3dbl_3.conv    96  25  25    96  25  25     82944.0       0.23    103,620,000.0     51,840,000.0    571776.0     240000.0       0.78%     811776.0\n",
            "37        Mixed_5c.branch3x3dbl_3.bn    96  25  25    96  25  25       192.0       0.23        240,000.0        120,000.0    240768.0     240000.0       0.08%     480768.0\n",
            "38         Mixed_5c.branch_pool.conv   256  25  25    64  25  25     16384.0       0.15     20,440,000.0     10,240,000.0    705536.0     160000.0       0.50%     865536.0\n",
            "39           Mixed_5c.branch_pool.bn    64  25  25    64  25  25       128.0       0.15        160,000.0         80,000.0    160512.0     160000.0       0.08%     320512.0\n",
            "40           Mixed_5d.branch1x1.conv   288  25  25    64  25  25     18432.0       0.15     23,000,000.0     11,520,000.0    793728.0     160000.0       1.29%     953728.0\n",
            "41             Mixed_5d.branch1x1.bn    64  25  25    64  25  25       128.0       0.15        160,000.0         80,000.0    160512.0     160000.0       0.08%     320512.0\n",
            "42         Mixed_5d.branch5x5_1.conv   288  25  25    48  25  25     13824.0       0.11     17,250,000.0      8,640,000.0    775296.0     120000.0       1.17%     895296.0\n",
            "43           Mixed_5d.branch5x5_1.bn    48  25  25    48  25  25        96.0       0.11        120,000.0         60,000.0    120384.0     120000.0       0.09%     240384.0\n",
            "44         Mixed_5d.branch5x5_2.conv    48  25  25    64  25  25     76800.0       0.15     95,960,000.0     48,000,000.0    427200.0     160000.0       0.61%     587200.0\n",
            "45           Mixed_5d.branch5x5_2.bn    64  25  25    64  25  25       128.0       0.15        160,000.0         80,000.0    160512.0     160000.0       0.08%     320512.0\n",
            "46      Mixed_5d.branch3x3dbl_1.conv   288  25  25    64  25  25     18432.0       0.15     23,000,000.0     11,520,000.0    793728.0     160000.0       0.53%     953728.0\n",
            "47        Mixed_5d.branch3x3dbl_1.bn    64  25  25    64  25  25       128.0       0.15        160,000.0         80,000.0    160512.0     160000.0       0.08%     320512.0\n",
            "48      Mixed_5d.branch3x3dbl_2.conv    64  25  25    96  25  25     55296.0       0.23     69,060,000.0     34,560,000.0    381184.0     240000.0       0.56%     621184.0\n",
            "49        Mixed_5d.branch3x3dbl_2.bn    96  25  25    96  25  25       192.0       0.23        240,000.0        120,000.0    240768.0     240000.0       0.14%     480768.0\n",
            "50      Mixed_5d.branch3x3dbl_3.conv    96  25  25    96  25  25     82944.0       0.23    103,620,000.0     51,840,000.0    571776.0     240000.0       0.81%     811776.0\n",
            "51        Mixed_5d.branch3x3dbl_3.bn    96  25  25    96  25  25       192.0       0.23        240,000.0        120,000.0    240768.0     240000.0       0.08%     480768.0\n",
            "52         Mixed_5d.branch_pool.conv   288  25  25    64  25  25     18432.0       0.15     23,000,000.0     11,520,000.0    793728.0     160000.0       0.50%     953728.0\n",
            "53           Mixed_5d.branch_pool.bn    64  25  25    64  25  25       128.0       0.15        160,000.0         80,000.0    160512.0     160000.0       0.08%     320512.0\n",
            "54           Mixed_6a.branch3x3.conv   288  25  25   384  12  12    995328.0       0.21    286,599,168.0    143,327,232.0   4701312.0     221184.0       2.79%    4922496.0\n",
            "55             Mixed_6a.branch3x3.bn   384  12  12   384  12  12       768.0       0.21        221,184.0        110,592.0    224256.0     221184.0       0.07%     445440.0\n",
            "56      Mixed_6a.branch3x3dbl_1.conv   288  25  25    64  25  25     18432.0       0.15     23,000,000.0     11,520,000.0    793728.0     160000.0       0.44%     953728.0\n",
            "57        Mixed_6a.branch3x3dbl_1.bn    64  25  25    64  25  25       128.0       0.15        160,000.0         80,000.0    160512.0     160000.0       0.09%     320512.0\n",
            "58      Mixed_6a.branch3x3dbl_2.conv    64  25  25    96  25  25     55296.0       0.23     69,060,000.0     34,560,000.0    381184.0     240000.0       0.58%     621184.0\n",
            "59        Mixed_6a.branch3x3dbl_2.bn    96  25  25    96  25  25       192.0       0.23        240,000.0        120,000.0    240768.0     240000.0       0.07%     480768.0\n",
            "60      Mixed_6a.branch3x3dbl_3.conv    96  25  25    96  12  12     82944.0       0.05     23,874,048.0     11,943,936.0    571776.0      55296.0       0.78%     627072.0\n",
            "61        Mixed_6a.branch3x3dbl_3.bn    96  12  12    96  12  12       192.0       0.05         55,296.0         27,648.0     56064.0      55296.0       0.07%     111360.0\n",
            "62           Mixed_6b.branch1x1.conv   768  12  12   192  12  12    147456.0       0.11     42,439,680.0     21,233,664.0   1032192.0     110592.0       1.13%    1142784.0\n",
            "63             Mixed_6b.branch1x1.bn   192  12  12   192  12  12       384.0       0.11        110,592.0         55,296.0    112128.0     110592.0       0.08%     222720.0\n",
            "64         Mixed_6b.branch7x7_1.conv   768  12  12   128  12  12     98304.0       0.07     28,293,120.0     14,155,776.0    835584.0      73728.0       1.03%     909312.0\n",
            "65           Mixed_6b.branch7x7_1.bn   128  12  12   128  12  12       256.0       0.07         73,728.0         36,864.0     74752.0      73728.0       0.07%     148480.0\n",
            "66         Mixed_6b.branch7x7_2.conv   128  12  12   128  12  12    114688.0       0.07     33,011,712.0     16,515,072.0    532480.0      73728.0       0.64%     606208.0\n",
            "67           Mixed_6b.branch7x7_2.bn   128  12  12   128  12  12       256.0       0.07         73,728.0         36,864.0     74752.0      73728.0       0.08%     148480.0\n",
            "68         Mixed_6b.branch7x7_3.conv   128  12  12   192  12  12    172032.0       0.11     49,517,568.0     24,772,608.0    761856.0     110592.0       0.30%     872448.0\n",
            "69           Mixed_6b.branch7x7_3.bn   192  12  12   192  12  12       384.0       0.11        110,592.0         55,296.0    112128.0     110592.0       0.08%     222720.0\n",
            "70      Mixed_6b.branch7x7dbl_1.conv   768  12  12   128  12  12     98304.0       0.07     28,293,120.0     14,155,776.0    835584.0      73728.0       0.45%     909312.0\n",
            "71        Mixed_6b.branch7x7dbl_1.bn   128  12  12   128  12  12       256.0       0.07         73,728.0         36,864.0     74752.0      73728.0       0.08%     148480.0\n",
            "72      Mixed_6b.branch7x7dbl_2.conv   128  12  12   128  12  12    114688.0       0.07     33,011,712.0     16,515,072.0    532480.0      73728.0       0.24%     606208.0\n",
            "73        Mixed_6b.branch7x7dbl_2.bn   128  12  12   128  12  12       256.0       0.07         73,728.0         36,864.0     74752.0      73728.0       0.07%     148480.0\n",
            "74      Mixed_6b.branch7x7dbl_3.conv   128  12  12   128  12  12    114688.0       0.07     33,011,712.0     16,515,072.0    532480.0      73728.0       0.48%     606208.0\n",
            "75        Mixed_6b.branch7x7dbl_3.bn   128  12  12   128  12  12       256.0       0.07         73,728.0         36,864.0     74752.0      73728.0       0.07%     148480.0\n",
            "76      Mixed_6b.branch7x7dbl_4.conv   128  12  12   128  12  12    114688.0       0.07     33,011,712.0     16,515,072.0    532480.0      73728.0       0.47%     606208.0\n",
            "77        Mixed_6b.branch7x7dbl_4.bn   128  12  12   128  12  12       256.0       0.07         73,728.0         36,864.0     74752.0      73728.0       0.08%     148480.0\n",
            "78      Mixed_6b.branch7x7dbl_5.conv   128  12  12   192  12  12    172032.0       0.11     49,517,568.0     24,772,608.0    761856.0     110592.0       0.41%     872448.0\n",
            "79        Mixed_6b.branch7x7dbl_5.bn   192  12  12   192  12  12       384.0       0.11        110,592.0         55,296.0    112128.0     110592.0       0.08%     222720.0\n",
            "80         Mixed_6b.branch_pool.conv   768  12  12   192  12  12    147456.0       0.11     42,439,680.0     21,233,664.0   1032192.0     110592.0       0.56%    1142784.0\n",
            "81           Mixed_6b.branch_pool.bn   192  12  12   192  12  12       384.0       0.11        110,592.0         55,296.0    112128.0     110592.0       0.10%     222720.0\n",
            "82           Mixed_6c.branch1x1.conv   768  12  12   192  12  12    147456.0       0.11     42,439,680.0     21,233,664.0   1032192.0     110592.0       0.53%    1142784.0\n",
            "83             Mixed_6c.branch1x1.bn   192  12  12   192  12  12       384.0       0.11        110,592.0         55,296.0    112128.0     110592.0       0.09%     222720.0\n",
            "84         Mixed_6c.branch7x7_1.conv   768  12  12   160  12  12    122880.0       0.09     35,366,400.0     17,694,720.0    933888.0      92160.0       1.17%    1026048.0\n",
            "85           Mixed_6c.branch7x7_1.bn   160  12  12   160  12  12       320.0       0.09         92,160.0         46,080.0     93440.0      92160.0       0.09%     185600.0\n",
            "86         Mixed_6c.branch7x7_2.conv   160  12  12   160  12  12    179200.0       0.09     51,586,560.0     25,804,800.0    808960.0      92160.0       1.07%     901120.0\n",
            "87           Mixed_6c.branch7x7_2.bn   160  12  12   160  12  12       320.0       0.09         92,160.0         46,080.0     93440.0      92160.0       0.08%     185600.0\n",
            "88         Mixed_6c.branch7x7_3.conv   160  12  12   192  12  12    215040.0       0.11     61,903,872.0     30,965,760.0    952320.0     110592.0       0.90%    1062912.0\n",
            "89           Mixed_6c.branch7x7_3.bn   192  12  12   192  12  12       384.0       0.11        110,592.0         55,296.0    112128.0     110592.0       0.08%     222720.0\n",
            "90      Mixed_6c.branch7x7dbl_1.conv   768  12  12   160  12  12    122880.0       0.09     35,366,400.0     17,694,720.0    933888.0      92160.0       0.48%    1026048.0\n",
            "91        Mixed_6c.branch7x7dbl_1.bn   160  12  12   160  12  12       320.0       0.09         92,160.0         46,080.0     93440.0      92160.0       0.07%     185600.0\n",
            "92      Mixed_6c.branch7x7dbl_2.conv   160  12  12   160  12  12    179200.0       0.09     51,586,560.0     25,804,800.0    808960.0      92160.0       0.81%     901120.0\n",
            "93        Mixed_6c.branch7x7dbl_2.bn   160  12  12   160  12  12       320.0       0.09         92,160.0         46,080.0     93440.0      92160.0       0.08%     185600.0\n",
            "94      Mixed_6c.branch7x7dbl_3.conv   160  12  12   160  12  12    179200.0       0.09     51,586,560.0     25,804,800.0    808960.0      92160.0       0.54%     901120.0\n",
            "95        Mixed_6c.branch7x7dbl_3.bn   160  12  12   160  12  12       320.0       0.09         92,160.0         46,080.0     93440.0      92160.0       0.08%     185600.0\n",
            "96      Mixed_6c.branch7x7dbl_4.conv   160  12  12   160  12  12    179200.0       0.09     51,586,560.0     25,804,800.0    808960.0      92160.0       0.42%     901120.0\n",
            "97        Mixed_6c.branch7x7dbl_4.bn   160  12  12   160  12  12       320.0       0.09         92,160.0         46,080.0     93440.0      92160.0       0.08%     185600.0\n",
            "98      Mixed_6c.branch7x7dbl_5.conv   160  12  12   192  12  12    215040.0       0.11     61,903,872.0     30,965,760.0    952320.0     110592.0       1.11%    1062912.0\n",
            "99        Mixed_6c.branch7x7dbl_5.bn   192  12  12   192  12  12       384.0       0.11        110,592.0         55,296.0    112128.0     110592.0       0.07%     222720.0\n",
            "100        Mixed_6c.branch_pool.conv   768  12  12   192  12  12    147456.0       0.11     42,439,680.0     21,233,664.0   1032192.0     110592.0       0.65%    1142784.0\n",
            "101          Mixed_6c.branch_pool.bn   192  12  12   192  12  12       384.0       0.11        110,592.0         55,296.0    112128.0     110592.0       0.08%     222720.0\n",
            "102          Mixed_6d.branch1x1.conv   768  12  12   192  12  12    147456.0       0.11     42,439,680.0     21,233,664.0   1032192.0     110592.0       0.65%    1142784.0\n",
            "103            Mixed_6d.branch1x1.bn   192  12  12   192  12  12       384.0       0.11        110,592.0         55,296.0    112128.0     110592.0       0.08%     222720.0\n",
            "104        Mixed_6d.branch7x7_1.conv   768  12  12   160  12  12    122880.0       0.09     35,366,400.0     17,694,720.0    933888.0      92160.0       0.53%    1026048.0\n",
            "105          Mixed_6d.branch7x7_1.bn   160  12  12   160  12  12       320.0       0.09         92,160.0         46,080.0     93440.0      92160.0       0.07%     185600.0\n",
            "106        Mixed_6d.branch7x7_2.conv   160  12  12   160  12  12    179200.0       0.09     51,586,560.0     25,804,800.0    808960.0      92160.0       0.55%     901120.0\n",
            "107          Mixed_6d.branch7x7_2.bn   160  12  12   160  12  12       320.0       0.09         92,160.0         46,080.0     93440.0      92160.0       0.08%     185600.0\n",
            "108        Mixed_6d.branch7x7_3.conv   160  12  12   192  12  12    215040.0       0.11     61,903,872.0     30,965,760.0    952320.0     110592.0       0.67%    1062912.0\n",
            "109          Mixed_6d.branch7x7_3.bn   192  12  12   192  12  12       384.0       0.11        110,592.0         55,296.0    112128.0     110592.0       0.25%     222720.0\n",
            "110     Mixed_6d.branch7x7dbl_1.conv   768  12  12   160  12  12    122880.0       0.09     35,366,400.0     17,694,720.0    933888.0      92160.0       0.58%    1026048.0\n",
            "111       Mixed_6d.branch7x7dbl_1.bn   160  12  12   160  12  12       320.0       0.09         92,160.0         46,080.0     93440.0      92160.0       0.09%     185600.0\n",
            "112     Mixed_6d.branch7x7dbl_2.conv   160  12  12   160  12  12    179200.0       0.09     51,586,560.0     25,804,800.0    808960.0      92160.0       0.62%     901120.0\n",
            "113       Mixed_6d.branch7x7dbl_2.bn   160  12  12   160  12  12       320.0       0.09         92,160.0         46,080.0     93440.0      92160.0       0.08%     185600.0\n",
            "114     Mixed_6d.branch7x7dbl_3.conv   160  12  12   160  12  12    179200.0       0.09     51,586,560.0     25,804,800.0    808960.0      92160.0       0.57%     901120.0\n",
            "115       Mixed_6d.branch7x7dbl_3.bn   160  12  12   160  12  12       320.0       0.09         92,160.0         46,080.0     93440.0      92160.0       0.08%     185600.0\n",
            "116     Mixed_6d.branch7x7dbl_4.conv   160  12  12   160  12  12    179200.0       0.09     51,586,560.0     25,804,800.0    808960.0      92160.0       0.68%     901120.0\n",
            "117       Mixed_6d.branch7x7dbl_4.bn   160  12  12   160  12  12       320.0       0.09         92,160.0         46,080.0     93440.0      92160.0       0.08%     185600.0\n",
            "118     Mixed_6d.branch7x7dbl_5.conv   160  12  12   192  12  12    215040.0       0.11     61,903,872.0     30,965,760.0    952320.0     110592.0       0.66%    1062912.0\n",
            "119       Mixed_6d.branch7x7dbl_5.bn   192  12  12   192  12  12       384.0       0.11        110,592.0         55,296.0    112128.0     110592.0       0.08%     222720.0\n",
            "120        Mixed_6d.branch_pool.conv   768  12  12   192  12  12    147456.0       0.11     42,439,680.0     21,233,664.0   1032192.0     110592.0       0.64%    1142784.0\n",
            "121          Mixed_6d.branch_pool.bn   192  12  12   192  12  12       384.0       0.11        110,592.0         55,296.0    112128.0     110592.0       0.09%     222720.0\n",
            "122          Mixed_6e.branch1x1.conv   768  12  12   192  12  12    147456.0       0.11     42,439,680.0     21,233,664.0   1032192.0     110592.0       0.69%    1142784.0\n",
            "123            Mixed_6e.branch1x1.bn   192  12  12   192  12  12       384.0       0.11        110,592.0         55,296.0    112128.0     110592.0       0.07%     222720.0\n",
            "124        Mixed_6e.branch7x7_1.conv   768  12  12   192  12  12    147456.0       0.11     42,439,680.0     21,233,664.0   1032192.0     110592.0       0.62%    1142784.0\n",
            "125          Mixed_6e.branch7x7_1.bn   192  12  12   192  12  12       384.0       0.11        110,592.0         55,296.0    112128.0     110592.0       0.08%     222720.0\n",
            "126        Mixed_6e.branch7x7_2.conv   192  12  12   192  12  12    258048.0       0.11     74,290,176.0     37,158,912.0   1142784.0     110592.0       1.34%    1253376.0\n",
            "127          Mixed_6e.branch7x7_2.bn   192  12  12   192  12  12       384.0       0.11        110,592.0         55,296.0    112128.0     110592.0       0.09%     222720.0\n",
            "128        Mixed_6e.branch7x7_3.conv   192  12  12   192  12  12    258048.0       0.11     74,290,176.0     37,158,912.0   1142784.0     110592.0       1.03%    1253376.0\n",
            "129          Mixed_6e.branch7x7_3.bn   192  12  12   192  12  12       384.0       0.11        110,592.0         55,296.0    112128.0     110592.0       0.08%     222720.0\n",
            "130     Mixed_6e.branch7x7dbl_1.conv   768  12  12   192  12  12    147456.0       0.11     42,439,680.0     21,233,664.0   1032192.0     110592.0       0.49%    1142784.0\n",
            "131       Mixed_6e.branch7x7dbl_1.bn   192  12  12   192  12  12       384.0       0.11        110,592.0         55,296.0    112128.0     110592.0       0.11%     222720.0\n",
            "132     Mixed_6e.branch7x7dbl_2.conv   192  12  12   192  12  12    258048.0       0.11     74,290,176.0     37,158,912.0   1142784.0     110592.0       0.77%    1253376.0\n",
            "133       Mixed_6e.branch7x7dbl_2.bn   192  12  12   192  12  12       384.0       0.11        110,592.0         55,296.0    112128.0     110592.0       0.11%     222720.0\n",
            "134     Mixed_6e.branch7x7dbl_3.conv   192  12  12   192  12  12    258048.0       0.11     74,290,176.0     37,158,912.0   1142784.0     110592.0       0.82%    1253376.0\n",
            "135       Mixed_6e.branch7x7dbl_3.bn   192  12  12   192  12  12       384.0       0.11        110,592.0         55,296.0    112128.0     110592.0       0.12%     222720.0\n",
            "136     Mixed_6e.branch7x7dbl_4.conv   192  12  12   192  12  12    258048.0       0.11     74,290,176.0     37,158,912.0   1142784.0     110592.0       0.82%    1253376.0\n",
            "137       Mixed_6e.branch7x7dbl_4.bn   192  12  12   192  12  12       384.0       0.11        110,592.0         55,296.0    112128.0     110592.0       0.12%     222720.0\n",
            "138     Mixed_6e.branch7x7dbl_5.conv   192  12  12   192  12  12    258048.0       0.11     74,290,176.0     37,158,912.0   1142784.0     110592.0       0.60%    1253376.0\n",
            "139       Mixed_6e.branch7x7dbl_5.bn   192  12  12   192  12  12       384.0       0.11        110,592.0         55,296.0    112128.0     110592.0       0.08%     222720.0\n",
            "140        Mixed_6e.branch_pool.conv   768  12  12   192  12  12    147456.0       0.11     42,439,680.0     21,233,664.0   1032192.0     110592.0       0.55%    1142784.0\n",
            "141          Mixed_6e.branch_pool.bn   192  12  12   192  12  12       384.0       0.11        110,592.0         55,296.0    112128.0     110592.0       0.08%     222720.0\n",
            "142        Mixed_7a.branch3x3_1.conv   768  12  12   192  12  12    147456.0       0.11     42,439,680.0     21,233,664.0   1032192.0     110592.0       0.61%    1142784.0\n",
            "143          Mixed_7a.branch3x3_1.bn   192  12  12   192  12  12       384.0       0.11        110,592.0         55,296.0    112128.0     110592.0       0.11%     222720.0\n",
            "144        Mixed_7a.branch3x3_2.conv   192  12  12   320   5   5    552960.0       0.03     27,640,000.0     13,824,000.0   2322432.0      32000.0       1.42%    2354432.0\n",
            "145          Mixed_7a.branch3x3_2.bn   320   5   5   320   5   5       640.0       0.03         32,000.0         16,000.0     34560.0      32000.0       0.08%      66560.0\n",
            "146      Mixed_7a.branch7x7x3_1.conv   768  12  12   192  12  12    147456.0       0.11     42,439,680.0     21,233,664.0   1032192.0     110592.0       0.51%    1142784.0\n",
            "147        Mixed_7a.branch7x7x3_1.bn   192  12  12   192  12  12       384.0       0.11        110,592.0         55,296.0    112128.0     110592.0       0.07%     222720.0\n",
            "148      Mixed_7a.branch7x7x3_2.conv   192  12  12   192  12  12    258048.0       0.11     74,290,176.0     37,158,912.0   1142784.0     110592.0       0.67%    1253376.0\n",
            "149        Mixed_7a.branch7x7x3_2.bn   192  12  12   192  12  12       384.0       0.11        110,592.0         55,296.0    112128.0     110592.0       0.08%     222720.0\n",
            "150      Mixed_7a.branch7x7x3_3.conv   192  12  12   192  12  12    258048.0       0.11     74,290,176.0     37,158,912.0   1142784.0     110592.0       0.69%    1253376.0\n",
            "151        Mixed_7a.branch7x7x3_3.bn   192  12  12   192  12  12       384.0       0.11        110,592.0         55,296.0    112128.0     110592.0       0.08%     222720.0\n",
            "152      Mixed_7a.branch7x7x3_4.conv   192  12  12   192   5   5    331776.0       0.02     16,584,000.0      8,294,400.0   1437696.0      19200.0       1.01%    1456896.0\n",
            "153        Mixed_7a.branch7x7x3_4.bn   192   5   5   192   5   5       384.0       0.02         19,200.0          9,600.0     20736.0      19200.0       0.09%      39936.0\n",
            "154          Mixed_7b.branch1x1.conv  1280   5   5   320   5   5    409600.0       0.03     20,472,000.0     10,240,000.0   1766400.0      32000.0       1.47%    1798400.0\n",
            "155            Mixed_7b.branch1x1.bn   320   5   5   320   5   5       640.0       0.03         32,000.0         16,000.0     34560.0      32000.0       0.08%      66560.0\n",
            "156        Mixed_7b.branch3x3_1.conv  1280   5   5   384   5   5    491520.0       0.04     24,566,400.0     12,288,000.0   2094080.0      38400.0       1.62%    2132480.0\n",
            "157          Mixed_7b.branch3x3_1.bn   384   5   5   384   5   5       768.0       0.04         38,400.0         19,200.0     41472.0      38400.0       0.08%      79872.0\n",
            "158       Mixed_7b.branch3x3_2a.conv   384   5   5   384   5   5    442368.0       0.04     22,108,800.0     11,059,200.0   1807872.0      38400.0       0.41%    1846272.0\n",
            "159         Mixed_7b.branch3x3_2a.bn   384   5   5   384   5   5       768.0       0.04         38,400.0         19,200.0     41472.0      38400.0       0.08%      79872.0\n",
            "160       Mixed_7b.branch3x3_2b.conv   384   5   5   384   5   5    442368.0       0.04     22,108,800.0     11,059,200.0   1807872.0      38400.0       0.23%    1846272.0\n",
            "161         Mixed_7b.branch3x3_2b.bn   384   5   5   384   5   5       768.0       0.04         38,400.0         19,200.0     41472.0      38400.0       0.08%      79872.0\n",
            "162     Mixed_7b.branch3x3dbl_1.conv  1280   5   5   448   5   5    573440.0       0.04     28,660,800.0     14,336,000.0   2421760.0      44800.0       1.69%    2466560.0\n",
            "163       Mixed_7b.branch3x3dbl_1.bn   448   5   5   448   5   5       896.0       0.04         44,800.0         22,400.0     48384.0      44800.0       0.10%      93184.0\n",
            "164     Mixed_7b.branch3x3dbl_2.conv   448   5   5   384   5   5   1548288.0       0.04     77,404,800.0     38,707,200.0   6237952.0      38400.0       0.73%    6276352.0\n",
            "165       Mixed_7b.branch3x3dbl_2.bn   384   5   5   384   5   5       768.0       0.04         38,400.0         19,200.0     41472.0      38400.0       0.08%      79872.0\n",
            "166    Mixed_7b.branch3x3dbl_3a.conv   384   5   5   384   5   5    442368.0       0.04     22,108,800.0     11,059,200.0   1807872.0      38400.0       0.27%    1846272.0\n",
            "167      Mixed_7b.branch3x3dbl_3a.bn   384   5   5   384   5   5       768.0       0.04         38,400.0         19,200.0     41472.0      38400.0       0.08%      79872.0\n",
            "168    Mixed_7b.branch3x3dbl_3b.conv   384   5   5   384   5   5    442368.0       0.04     22,108,800.0     11,059,200.0   1807872.0      38400.0       0.23%    1846272.0\n",
            "169      Mixed_7b.branch3x3dbl_3b.bn   384   5   5   384   5   5       768.0       0.04         38,400.0         19,200.0     41472.0      38400.0       0.08%      79872.0\n",
            "170        Mixed_7b.branch_pool.conv  1280   5   5   192   5   5    245760.0       0.02     12,283,200.0      6,144,000.0   1111040.0      19200.0       1.17%    1130240.0\n",
            "171          Mixed_7b.branch_pool.bn   192   5   5   192   5   5       384.0       0.02         19,200.0          9,600.0     20736.0      19200.0       0.08%      39936.0\n",
            "172          Mixed_7c.branch1x1.conv  2048   5   5   320   5   5    655360.0       0.03     32,760,000.0     16,384,000.0   2826240.0      32000.0       1.68%    2858240.0\n",
            "173            Mixed_7c.branch1x1.bn   320   5   5   320   5   5       640.0       0.03         32,000.0         16,000.0     34560.0      32000.0       0.08%      66560.0\n",
            "174        Mixed_7c.branch3x3_1.conv  2048   5   5   384   5   5    786432.0       0.04     39,312,000.0     19,660,800.0   3350528.0      38400.0       1.92%    3388928.0\n",
            "175          Mixed_7c.branch3x3_1.bn   384   5   5   384   5   5       768.0       0.04         38,400.0         19,200.0     41472.0      38400.0       0.12%      79872.0\n",
            "176       Mixed_7c.branch3x3_2a.conv   384   5   5   384   5   5    442368.0       0.04     22,108,800.0     11,059,200.0   1807872.0      38400.0       0.35%    1846272.0\n",
            "177         Mixed_7c.branch3x3_2a.bn   384   5   5   384   5   5       768.0       0.04         38,400.0         19,200.0     41472.0      38400.0       0.08%      79872.0\n",
            "178       Mixed_7c.branch3x3_2b.conv   384   5   5   384   5   5    442368.0       0.04     22,108,800.0     11,059,200.0   1807872.0      38400.0       0.37%    1846272.0\n",
            "179         Mixed_7c.branch3x3_2b.bn   384   5   5   384   5   5       768.0       0.04         38,400.0         19,200.0     41472.0      38400.0       0.09%      79872.0\n",
            "180     Mixed_7c.branch3x3dbl_1.conv  2048   5   5   448   5   5    917504.0       0.04     45,864,000.0     22,937,600.0   3874816.0      44800.0       1.82%    3919616.0\n",
            "181       Mixed_7c.branch3x3dbl_1.bn   448   5   5   448   5   5       896.0       0.04         44,800.0         22,400.0     48384.0      44800.0       0.08%      93184.0\n",
            "182     Mixed_7c.branch3x3dbl_2.conv   448   5   5   384   5   5   1548288.0       0.04     77,404,800.0     38,707,200.0   6237952.0      38400.0       0.76%    6276352.0\n",
            "183       Mixed_7c.branch3x3dbl_2.bn   384   5   5   384   5   5       768.0       0.04         38,400.0         19,200.0     41472.0      38400.0       0.12%      79872.0\n",
            "184    Mixed_7c.branch3x3dbl_3a.conv   384   5   5   384   5   5    442368.0       0.04     22,108,800.0     11,059,200.0   1807872.0      38400.0       0.32%    1846272.0\n",
            "185      Mixed_7c.branch3x3dbl_3a.bn   384   5   5   384   5   5       768.0       0.04         38,400.0         19,200.0     41472.0      38400.0       0.07%      79872.0\n",
            "186    Mixed_7c.branch3x3dbl_3b.conv   384   5   5   384   5   5    442368.0       0.04     22,108,800.0     11,059,200.0   1807872.0      38400.0       0.24%    1846272.0\n",
            "187      Mixed_7c.branch3x3dbl_3b.bn   384   5   5   384   5   5       768.0       0.04         38,400.0         19,200.0     41472.0      38400.0       0.09%      79872.0\n",
            "188        Mixed_7c.branch_pool.conv  2048   5   5   192   5   5    393216.0       0.02     19,656,000.0      9,830,400.0   1777664.0      19200.0       1.20%    1796864.0\n",
            "189          Mixed_7c.branch_pool.bn   192   5   5   192   5   5       384.0       0.02         19,200.0          9,600.0     20736.0      19200.0       0.08%      39936.0\n",
            "190              global_pool.flatten  2048   1   1          2048         0.0       0.01              0.0              0.0         0.0          0.0       0.32%          0.0\n",
            "191                 global_pool.pool  2048   5   5  2048   1   1         0.0       0.01              0.0              0.0         0.0          0.0       0.21%          0.0\n",
            "192                               fc          2048             3      6147.0       0.00         12,285.0          6,144.0     32780.0         12.0       0.25%      32792.0\n",
            "total                                                             21791715.0      36.65  5,688,156,525.0  2,846,455,488.0     32780.0         12.0     100.00%  177784216.0\n",
            "===========================================================================================================================================================================\n",
            "Total params: 21,791,715\n",
            "---------------------------------------------------------------------------------------------------------------------------------------------------------------------------\n",
            "Total memory: 36.65MB\n",
            "Total MAdd: 5.69GMAdd\n",
            "Total Flops: 2.85GFlops\n",
            "Total MemR+W: 169.55MB\n",
            "\n",
            "-------------------------------------------------------------------------------\n",
            "[MAdd]: Identity is not supported!\n",
            "[Flops]: Identity is not supported!\n",
            "[Memory]: Identity is not supported!\n",
            "[MAdd]: Identity is not supported!\n",
            "[Flops]: Identity is not supported!\n",
            "[Memory]: Identity is not supported!\n",
            "[MAdd]: Identity is not supported!\n",
            "[Flops]: Identity is not supported!\n",
            "[Memory]: Identity is not supported!\n",
            "[MAdd]: Identity is not supported!\n",
            "[Flops]: Identity is not supported!\n",
            "[Memory]: Identity is not supported!\n",
            "[MAdd]: Identity is not supported!\n",
            "[Flops]: Identity is not supported!\n",
            "[Memory]: Identity is not supported!\n",
            "[MAdd]: Identity is not supported!\n",
            "[Flops]: Identity is not supported!\n",
            "[Memory]: Identity is not supported!\n",
            "[MAdd]: Identity is not supported!\n",
            "[Flops]: Identity is not supported!\n",
            "[Memory]: Identity is not supported!\n",
            "[MAdd]: Identity is not supported!\n",
            "[Flops]: Identity is not supported!\n",
            "[Memory]: Identity is not supported!\n",
            "[MAdd]: Identity is not supported!\n",
            "[Flops]: Identity is not supported!\n",
            "[Memory]: Identity is not supported!\n"
          ]
        },
        {
          "output_type": "stream",
          "name": "stderr",
          "text": [
            "/usr/local/lib/python3.9/dist-packages/torchstat/reporter.py:63: FutureWarning: The frame.append method is deprecated and will be removed from pandas in a future version. Use pandas.concat instead.\n",
            "  df = df.append(total_df)\n"
          ]
        },
        {
          "output_type": "stream",
          "name": "stdout",
          "text": [
            "[MAdd]: Identity is not supported!\n",
            "[Flops]: Identity is not supported!\n",
            "[Memory]: Identity is not supported!\n",
            "[MAdd]: Identity is not supported!\n",
            "[Flops]: Identity is not supported!\n",
            "[Memory]: Identity is not supported!\n",
            "[MAdd]: Identity is not supported!\n",
            "[Flops]: Identity is not supported!\n",
            "[Memory]: Identity is not supported!\n",
            "[MAdd]: Identity is not supported!\n",
            "[Flops]: Identity is not supported!\n",
            "[Memory]: Identity is not supported!\n",
            "[MAdd]: Identity is not supported!\n",
            "[Flops]: Identity is not supported!\n",
            "[Memory]: Identity is not supported!\n",
            "[MAdd]: Identity is not supported!\n",
            "[Flops]: Identity is not supported!\n",
            "[Memory]: Identity is not supported!\n",
            "[MAdd]: Identity is not supported!\n",
            "[Flops]: Identity is not supported!\n",
            "[Memory]: Identity is not supported!\n",
            "[MAdd]: Identity is not supported!\n",
            "[Flops]: Identity is not supported!\n",
            "[Memory]: Identity is not supported!\n",
            "[MAdd]: Identity is not supported!\n",
            "[Flops]: Identity is not supported!\n",
            "[Memory]: Identity is not supported!\n",
            "[MAdd]: Identity is not supported!\n",
            "[Flops]: Identity is not supported!\n",
            "[Memory]: Identity is not supported!\n",
            "[MAdd]: Identity is not supported!\n",
            "[Flops]: Identity is not supported!\n",
            "[Memory]: Identity is not supported!\n",
            "[MAdd]: Identity is not supported!\n",
            "[Flops]: Identity is not supported!\n",
            "[Memory]: Identity is not supported!\n",
            "[MAdd]: Identity is not supported!\n",
            "[Flops]: Identity is not supported!\n",
            "[Memory]: Identity is not supported!\n",
            "[MAdd]: Identity is not supported!\n",
            "[Flops]: Identity is not supported!\n",
            "[Memory]: Identity is not supported!\n",
            "[MAdd]: Identity is not supported!\n",
            "[Flops]: Identity is not supported!\n",
            "[Memory]: Identity is not supported!\n",
            "[MAdd]: Identity is not supported!\n",
            "[Flops]: Identity is not supported!\n",
            "[Memory]: Identity is not supported!\n",
            "[MAdd]: Identity is not supported!\n",
            "[Flops]: Identity is not supported!\n",
            "[Memory]: Identity is not supported!\n",
            "[MAdd]: Identity is not supported!\n",
            "[Flops]: Identity is not supported!\n",
            "[Memory]: Identity is not supported!\n",
            "[MAdd]: Identity is not supported!\n",
            "[Flops]: Identity is not supported!\n",
            "[Memory]: Identity is not supported!\n",
            "[MAdd]: Identity is not supported!\n",
            "[Flops]: Identity is not supported!\n",
            "[Memory]: Identity is not supported!\n",
            "[MAdd]: Identity is not supported!\n",
            "[Flops]: Identity is not supported!\n",
            "[Memory]: Identity is not supported!\n",
            "[MAdd]: Identity is not supported!\n",
            "[Flops]: Identity is not supported!\n",
            "[Memory]: Identity is not supported!\n",
            "[MAdd]: Identity is not supported!\n",
            "[Flops]: Identity is not supported!\n",
            "[Memory]: Identity is not supported!\n",
            "[MAdd]: Identity is not supported!\n",
            "[Flops]: Identity is not supported!\n",
            "[Memory]: Identity is not supported!\n",
            "[MAdd]: AdaptiveAvgPool2d is not supported!\n",
            "[Flops]: AdaptiveAvgPool2d is not supported!\n",
            "[Memory]: AdaptiveAvgPool2d is not supported!\n",
            "[MAdd]: AdaptiveAvgPool2d is not supported!\n",
            "[Flops]: AdaptiveAvgPool2d is not supported!\n",
            "[Memory]: AdaptiveAvgPool2d is not supported!\n",
            "[MAdd]: Flatten is not supported!\n",
            "[Flops]: Flatten is not supported!\n",
            "[Memory]: Flatten is not supported!\n",
            "[MAdd]: Flatten is not supported!\n",
            "[Flops]: Flatten is not supported!\n",
            "[Memory]: Flatten is not supported!\n",
            "                 module name   input shape  output shape      params memory(MB)             MAdd            Flops  MemRead(B)  MemWrite(B) duration[%]    MemR+W(B)\n",
            "0                    conv1.0     3 224 224    32 112 112       864.0       1.53     21,274,624.0     10,838,016.0    605568.0    1605632.0       1.04%    2211200.0\n",
            "1                    conv1.1    32 112 112    32 112 112        64.0       1.53      1,605,632.0        802,816.0   1605888.0    1605632.0       0.39%    3211520.0\n",
            "2                    conv1.2    32 112 112    32 112 112         0.0       1.53        401,408.0        401,408.0   1605632.0    1605632.0       0.07%    3211264.0\n",
            "3                    conv1.3    32 112 112    32 112 112      9216.0       1.53    230,809,600.0    115,605,504.0   1642496.0    1605632.0       2.01%    3248128.0\n",
            "4                    conv1.4    32 112 112    32 112 112        64.0       1.53      1,605,632.0        802,816.0   1605888.0    1605632.0       0.27%    3211520.0\n",
            "5                    conv1.5    32 112 112    32 112 112         0.0       1.53        401,408.0        401,408.0   1605632.0    1605632.0       0.06%    3211264.0\n",
            "6                    conv1.6    32 112 112    64 112 112     18432.0       3.06    461,619,200.0    231,211,008.0   1679360.0    3211264.0       2.61%    4890624.0\n",
            "7                        bn1    64 112 112    64 112 112       128.0       3.06      3,211,264.0      1,605,632.0   3211776.0    3211264.0       0.46%    6423040.0\n",
            "8                       act1    64 112 112    64 112 112         0.0       3.06        802,816.0        802,816.0   3211264.0    3211264.0       0.08%    6422528.0\n",
            "9                    maxpool    64 112 112    64  56  56         0.0       0.77      1,605,632.0        802,816.0   3211264.0     802816.0       1.63%    4014080.0\n",
            "10            layer1.0.conv1    64  56  56    64  56  56      4096.0       0.77     25,489,408.0     12,845,056.0    819200.0     802816.0       1.04%    1622016.0\n",
            "11              layer1.0.bn1    64  56  56    64  56  56       128.0       0.77        802,816.0        401,408.0    803328.0     802816.0       0.24%    1606144.0\n",
            "12             layer1.0.act1    64  56  56    64  56  56         0.0       0.77        200,704.0        200,704.0    802816.0     802816.0       0.05%    1605632.0\n",
            "13            layer1.0.conv2    64  56  56    64  56  56     36864.0       0.77    231,010,304.0    115,605,504.0    950272.0     802816.0       1.75%    1753088.0\n",
            "14              layer1.0.bn2    64  56  56    64  56  56       128.0       0.77        802,816.0        401,408.0    803328.0     802816.0       0.21%    1606144.0\n",
            "15       layer1.0.drop_block    64  56  56    64  56  56         0.0       0.77              0.0              0.0         0.0          0.0       0.01%          0.0\n",
            "16             layer1.0.act2    64  56  56    64  56  56         0.0       0.77        200,704.0        200,704.0    802816.0     802816.0       0.05%    1605632.0\n",
            "17               layer1.0.aa    64  56  56    64  56  56         0.0       0.77              0.0              0.0         0.0          0.0       0.01%          0.0\n",
            "18            layer1.0.conv3    64  56  56   256  56  56     16384.0       3.06    101,957,632.0     51,380,224.0    868352.0    3211264.0       2.03%    4079616.0\n",
            "19              layer1.0.bn3   256  56  56   256  56  56       512.0       3.06      3,211,264.0      1,605,632.0   3213312.0    3211264.0       0.66%    6424576.0\n",
            "20             layer1.0.act3   256  56  56   256  56  56         0.0       3.06        802,816.0        802,816.0   3211264.0    3211264.0       0.10%    6422528.0\n",
            "21     layer1.0.downsample.0    64  56  56    64  56  56         0.0       0.77              0.0              0.0         0.0          0.0       0.01%          0.0\n",
            "22     layer1.0.downsample.1    64  56  56   256  56  56     16384.0       3.06    101,957,632.0     51,380,224.0    868352.0    3211264.0       1.64%    4079616.0\n",
            "23     layer1.0.downsample.2   256  56  56   256  56  56       512.0       3.06      3,211,264.0      1,605,632.0   3213312.0    3211264.0       0.76%    6424576.0\n",
            "24            layer1.1.conv1   256  56  56    64  56  56     16384.0       0.77    102,559,744.0     51,380,224.0   3276800.0     802816.0       1.46%    4079616.0\n",
            "25              layer1.1.bn1    64  56  56    64  56  56       128.0       0.77        802,816.0        401,408.0    803328.0     802816.0       0.30%    1606144.0\n",
            "26             layer1.1.act1    64  56  56    64  56  56         0.0       0.77        200,704.0        200,704.0    802816.0     802816.0       0.04%    1605632.0\n",
            "27            layer1.1.conv2    64  56  56    64  56  56     36864.0       0.77    231,010,304.0    115,605,504.0    950272.0     802816.0       1.26%    1753088.0\n",
            "28              layer1.1.bn2    64  56  56    64  56  56       128.0       0.77        802,816.0        401,408.0    803328.0     802816.0       0.32%    1606144.0\n",
            "29       layer1.1.drop_block    64  56  56    64  56  56         0.0       0.77              0.0              0.0         0.0          0.0       0.01%          0.0\n",
            "30             layer1.1.act2    64  56  56    64  56  56         0.0       0.77        200,704.0        200,704.0    802816.0     802816.0       0.05%    1605632.0\n",
            "31               layer1.1.aa    64  56  56    64  56  56         0.0       0.77              0.0              0.0         0.0          0.0       0.01%          0.0\n",
            "32            layer1.1.conv3    64  56  56   256  56  56     16384.0       3.06    101,957,632.0     51,380,224.0    868352.0    3211264.0       1.27%    4079616.0\n",
            "33              layer1.1.bn3   256  56  56   256  56  56       512.0       3.06      3,211,264.0      1,605,632.0   3213312.0    3211264.0       0.65%    6424576.0\n",
            "34             layer1.1.act3   256  56  56   256  56  56         0.0       3.06        802,816.0        802,816.0   3211264.0    3211264.0       0.07%    6422528.0\n",
            "35            layer1.2.conv1   256  56  56    64  56  56     16384.0       0.77    102,559,744.0     51,380,224.0   3276800.0     802816.0       1.20%    4079616.0\n",
            "36              layer1.2.bn1    64  56  56    64  56  56       128.0       0.77        802,816.0        401,408.0    803328.0     802816.0       0.25%    1606144.0\n",
            "37             layer1.2.act1    64  56  56    64  56  56         0.0       0.77        200,704.0        200,704.0    802816.0     802816.0       0.04%    1605632.0\n",
            "38            layer1.2.conv2    64  56  56    64  56  56     36864.0       0.77    231,010,304.0    115,605,504.0    950272.0     802816.0       1.08%    1753088.0\n",
            "39              layer1.2.bn2    64  56  56    64  56  56       128.0       0.77        802,816.0        401,408.0    803328.0     802816.0       0.20%    1606144.0\n",
            "40       layer1.2.drop_block    64  56  56    64  56  56         0.0       0.77              0.0              0.0         0.0          0.0       0.01%          0.0\n",
            "41             layer1.2.act2    64  56  56    64  56  56         0.0       0.77        200,704.0        200,704.0    802816.0     802816.0       0.05%    1605632.0\n",
            "42               layer1.2.aa    64  56  56    64  56  56         0.0       0.77              0.0              0.0         0.0          0.0       0.01%          0.0\n",
            "43            layer1.2.conv3    64  56  56   256  56  56     16384.0       3.06    101,957,632.0     51,380,224.0    868352.0    3211264.0       1.22%    4079616.0\n",
            "44              layer1.2.bn3   256  56  56   256  56  56       512.0       3.06      3,211,264.0      1,605,632.0   3213312.0    3211264.0       0.70%    6424576.0\n",
            "45             layer1.2.act3   256  56  56   256  56  56         0.0       3.06        802,816.0        802,816.0   3211264.0    3211264.0       0.07%    6422528.0\n",
            "46            layer2.0.conv1   256  56  56   128  56  56     32768.0       1.53    205,119,488.0    102,760,448.0   3342336.0    1605632.0       2.03%    4947968.0\n",
            "47              layer2.0.bn1   128  56  56   128  56  56       256.0       1.53      1,605,632.0        802,816.0   1606656.0    1605632.0       0.27%    3212288.0\n",
            "48             layer2.0.act1   128  56  56   128  56  56         0.0       1.53        401,408.0        401,408.0   1605632.0    1605632.0       0.06%    3211264.0\n",
            "49            layer2.0.conv2   128  56  56   128  28  28    147456.0       0.38    231,110,656.0    115,605,504.0   2195456.0     401408.0       1.67%    2596864.0\n",
            "50              layer2.0.bn2   128  28  28   128  28  28       256.0       0.38        401,408.0        200,704.0    402432.0     401408.0       0.19%     803840.0\n",
            "51       layer2.0.drop_block   128  28  28   128  28  28         0.0       0.38              0.0              0.0         0.0          0.0       0.01%          0.0\n",
            "52             layer2.0.act2   128  28  28   128  28  28         0.0       0.38        100,352.0        100,352.0    401408.0     401408.0       0.05%     802816.0\n",
            "53               layer2.0.aa   128  28  28   128  28  28         0.0       0.38              0.0              0.0         0.0          0.0       0.01%          0.0\n",
            "54            layer2.0.conv3   128  28  28   512  28  28     65536.0       1.53    102,359,040.0     51,380,224.0    663552.0    1605632.0       1.28%    2269184.0\n",
            "55              layer2.0.bn3   512  28  28   512  28  28      1024.0       1.53      1,605,632.0        802,816.0   1609728.0    1605632.0       0.26%    3215360.0\n",
            "56             layer2.0.act3   512  28  28   512  28  28         0.0       1.53        401,408.0        401,408.0   1605632.0    1605632.0       0.04%    3211264.0\n",
            "57     layer2.0.downsample.0   256  56  56   256  28  28         0.0       0.77        802,816.0        802,816.0   3211264.0     802816.0       0.96%    4014080.0\n",
            "58     layer2.0.downsample.1   256  28  28   512  28  28    131072.0       1.53    205,119,488.0    102,760,448.0   1327104.0    1605632.0       1.40%    2932736.0\n",
            "59     layer2.0.downsample.2   512  28  28   512  28  28      1024.0       1.53      1,605,632.0        802,816.0   1609728.0    1605632.0       0.51%    3215360.0\n",
            "60            layer2.1.conv1   512  28  28   128  28  28     65536.0       0.38    102,660,096.0     51,380,224.0   1867776.0     401408.0       1.18%    2269184.0\n",
            "61              layer2.1.bn1   128  28  28   128  28  28       256.0       0.38        401,408.0        200,704.0    402432.0     401408.0       0.22%     803840.0\n",
            "62             layer2.1.act1   128  28  28   128  28  28         0.0       0.38        100,352.0        100,352.0    401408.0     401408.0       0.04%     802816.0\n",
            "63            layer2.1.conv2   128  28  28   128  28  28    147456.0       0.38    231,110,656.0    115,605,504.0    991232.0     401408.0       2.03%    1392640.0\n",
            "64              layer2.1.bn2   128  28  28   128  28  28       256.0       0.38        401,408.0        200,704.0    402432.0     401408.0       0.25%     803840.0\n",
            "65       layer2.1.drop_block   128  28  28   128  28  28         0.0       0.38              0.0              0.0         0.0          0.0       0.01%          0.0\n",
            "66             layer2.1.act2   128  28  28   128  28  28         0.0       0.38        100,352.0        100,352.0    401408.0     401408.0       0.05%     802816.0\n",
            "67               layer2.1.aa   128  28  28   128  28  28         0.0       0.38              0.0              0.0         0.0          0.0       0.01%          0.0\n",
            "68            layer2.1.conv3   128  28  28   512  28  28     65536.0       1.53    102,359,040.0     51,380,224.0    663552.0    1605632.0       1.04%    2269184.0\n",
            "69              layer2.1.bn3   512  28  28   512  28  28      1024.0       1.53      1,605,632.0        802,816.0   1609728.0    1605632.0       0.64%    3215360.0\n",
            "70             layer2.1.act3   512  28  28   512  28  28         0.0       1.53        401,408.0        401,408.0   1605632.0    1605632.0       0.05%    3211264.0\n",
            "71            layer2.2.conv1   512  28  28   128  28  28     65536.0       0.38    102,660,096.0     51,380,224.0   1867776.0     401408.0       1.05%    2269184.0\n",
            "72              layer2.2.bn1   128  28  28   128  28  28       256.0       0.38        401,408.0        200,704.0    402432.0     401408.0       0.24%     803840.0\n",
            "73             layer2.2.act1   128  28  28   128  28  28         0.0       0.38        100,352.0        100,352.0    401408.0     401408.0       0.04%     802816.0\n",
            "74            layer2.2.conv2   128  28  28   128  28  28    147456.0       0.38    231,110,656.0    115,605,504.0    991232.0     401408.0       1.23%    1392640.0\n",
            "75              layer2.2.bn2   128  28  28   128  28  28       256.0       0.38        401,408.0        200,704.0    402432.0     401408.0       0.20%     803840.0\n",
            "76       layer2.2.drop_block   128  28  28   128  28  28         0.0       0.38              0.0              0.0         0.0          0.0       0.01%          0.0\n",
            "77             layer2.2.act2   128  28  28   128  28  28         0.0       0.38        100,352.0        100,352.0    401408.0     401408.0       0.05%     802816.0\n",
            "78               layer2.2.aa   128  28  28   128  28  28         0.0       0.38              0.0              0.0         0.0          0.0       0.01%          0.0\n",
            "79            layer2.2.conv3   128  28  28   512  28  28     65536.0       1.53    102,359,040.0     51,380,224.0    663552.0    1605632.0       1.00%    2269184.0\n",
            "80              layer2.2.bn3   512  28  28   512  28  28      1024.0       1.53      1,605,632.0        802,816.0   1609728.0    1605632.0       0.48%    3215360.0\n",
            "81             layer2.2.act3   512  28  28   512  28  28         0.0       1.53        401,408.0        401,408.0   1605632.0    1605632.0       0.04%    3211264.0\n",
            "82            layer2.3.conv1   512  28  28   128  28  28     65536.0       0.38    102,660,096.0     51,380,224.0   1867776.0     401408.0       0.97%    2269184.0\n",
            "83              layer2.3.bn1   128  28  28   128  28  28       256.0       0.38        401,408.0        200,704.0    402432.0     401408.0       0.24%     803840.0\n",
            "84             layer2.3.act1   128  28  28   128  28  28         0.0       0.38        100,352.0        100,352.0    401408.0     401408.0       0.04%     802816.0\n",
            "85            layer2.3.conv2   128  28  28   128  28  28    147456.0       0.38    231,110,656.0    115,605,504.0    991232.0     401408.0       1.02%    1392640.0\n",
            "86              layer2.3.bn2   128  28  28   128  28  28       256.0       0.38        401,408.0        200,704.0    402432.0     401408.0       0.22%     803840.0\n",
            "87       layer2.3.drop_block   128  28  28   128  28  28         0.0       0.38              0.0              0.0         0.0          0.0       0.01%          0.0\n",
            "88             layer2.3.act2   128  28  28   128  28  28         0.0       0.38        100,352.0        100,352.0    401408.0     401408.0       0.05%     802816.0\n",
            "89               layer2.3.aa   128  28  28   128  28  28         0.0       0.38              0.0              0.0         0.0          0.0       0.01%          0.0\n",
            "90            layer2.3.conv3   128  28  28   512  28  28     65536.0       1.53    102,359,040.0     51,380,224.0    663552.0    1605632.0       1.04%    2269184.0\n",
            "91              layer2.3.bn3   512  28  28   512  28  28      1024.0       1.53      1,605,632.0        802,816.0   1609728.0    1605632.0       0.46%    3215360.0\n",
            "92             layer2.3.act3   512  28  28   512  28  28         0.0       1.53        401,408.0        401,408.0   1605632.0    1605632.0       0.04%    3211264.0\n",
            "93            layer3.0.conv1   512  28  28   256  28  28    131072.0       0.77    205,320,192.0    102,760,448.0   2129920.0     802816.0       2.12%    2932736.0\n",
            "94              layer3.0.bn1   256  28  28   256  28  28       512.0       0.77        802,816.0        401,408.0    804864.0     802816.0       0.24%    1607680.0\n",
            "95             layer3.0.act1   256  28  28   256  28  28         0.0       0.77        200,704.0        200,704.0    802816.0     802816.0       0.04%    1605632.0\n",
            "96            layer3.0.conv2   256  28  28   256  14  14    589824.0       0.19    231,160,832.0    115,605,504.0   3162112.0     200704.0       1.80%    3362816.0\n",
            "97              layer3.0.bn2   256  14  14   256  14  14       512.0       0.19        200,704.0        100,352.0    202752.0     200704.0       0.17%     403456.0\n",
            "98       layer3.0.drop_block   256  14  14   256  14  14         0.0       0.19              0.0              0.0         0.0          0.0       0.01%          0.0\n",
            "99             layer3.0.act2   256  14  14   256  14  14         0.0       0.19         50,176.0         50,176.0    200704.0     200704.0       0.04%     401408.0\n",
            "100              layer3.0.aa   256  14  14   256  14  14         0.0       0.19              0.0              0.0         0.0          0.0       0.01%          0.0\n",
            "101           layer3.0.conv3   256  14  14  1024  14  14    262144.0       0.77    102,559,744.0     51,380,224.0   1249280.0     802816.0       1.30%    2052096.0\n",
            "102             layer3.0.bn3  1024  14  14  1024  14  14      2048.0       0.77        802,816.0        401,408.0    811008.0     802816.0       0.24%    1613824.0\n",
            "103            layer3.0.act3  1024  14  14  1024  14  14         0.0       0.77        200,704.0        200,704.0    802816.0     802816.0       0.03%    1605632.0\n",
            "104    layer3.0.downsample.0   512  28  28   512  14  14         0.0       0.38        401,408.0        401,408.0   1605632.0     401408.0       0.47%    2007040.0\n",
            "105    layer3.0.downsample.1   512  14  14  1024  14  14    524288.0       0.77    205,320,192.0    102,760,448.0   2498560.0     802816.0       1.47%    3301376.0\n",
            "106    layer3.0.downsample.2  1024  14  14  1024  14  14      2048.0       0.77        802,816.0        401,408.0    811008.0     802816.0       0.20%    1613824.0\n",
            "107           layer3.1.conv1  1024  14  14   256  14  14    262144.0       0.19    102,710,272.0     51,380,224.0   1851392.0     200704.0       1.14%    2052096.0\n",
            "108             layer3.1.bn1   256  14  14   256  14  14       512.0       0.19        200,704.0        100,352.0    202752.0     200704.0       0.19%     403456.0\n",
            "109            layer3.1.act1   256  14  14   256  14  14         0.0       0.19         50,176.0         50,176.0    200704.0     200704.0       0.03%     401408.0\n",
            "110           layer3.1.conv2   256  14  14   256  14  14    589824.0       0.19    231,160,832.0    115,605,504.0   2560000.0     200704.0       1.45%    2760704.0\n",
            "111             layer3.1.bn2   256  14  14   256  14  14       512.0       0.19        200,704.0        100,352.0    202752.0     200704.0       0.19%     403456.0\n",
            "112      layer3.1.drop_block   256  14  14   256  14  14         0.0       0.19              0.0              0.0         0.0          0.0       0.01%          0.0\n",
            "113            layer3.1.act2   256  14  14   256  14  14         0.0       0.19         50,176.0         50,176.0    200704.0     200704.0       0.04%     401408.0\n",
            "114              layer3.1.aa   256  14  14   256  14  14         0.0       0.19              0.0              0.0         0.0          0.0       0.01%          0.0\n",
            "115           layer3.1.conv3   256  14  14  1024  14  14    262144.0       0.77    102,559,744.0     51,380,224.0   1249280.0     802816.0       0.80%    2052096.0\n",
            "116             layer3.1.bn3  1024  14  14  1024  14  14      2048.0       0.77        802,816.0        401,408.0    811008.0     802816.0       0.27%    1613824.0\n",
            "117            layer3.1.act3  1024  14  14  1024  14  14         0.0       0.77        200,704.0        200,704.0    802816.0     802816.0       0.03%    1605632.0\n",
            "118           layer3.2.conv1  1024  14  14   256  14  14    262144.0       0.19    102,710,272.0     51,380,224.0   1851392.0     200704.0       0.97%    2052096.0\n",
            "119             layer3.2.bn1   256  14  14   256  14  14       512.0       0.19        200,704.0        100,352.0    202752.0     200704.0       0.20%     403456.0\n",
            "120            layer3.2.act1   256  14  14   256  14  14         0.0       0.19         50,176.0         50,176.0    200704.0     200704.0       0.03%     401408.0\n",
            "121           layer3.2.conv2   256  14  14   256  14  14    589824.0       0.19    231,160,832.0    115,605,504.0   2560000.0     200704.0       1.30%    2760704.0\n",
            "122             layer3.2.bn2   256  14  14   256  14  14       512.0       0.19        200,704.0        100,352.0    202752.0     200704.0       0.25%     403456.0\n",
            "123      layer3.2.drop_block   256  14  14   256  14  14         0.0       0.19              0.0              0.0         0.0          0.0       0.01%          0.0\n",
            "124            layer3.2.act2   256  14  14   256  14  14         0.0       0.19         50,176.0         50,176.0    200704.0     200704.0       0.05%     401408.0\n",
            "125              layer3.2.aa   256  14  14   256  14  14         0.0       0.19              0.0              0.0         0.0          0.0       0.01%          0.0\n",
            "126           layer3.2.conv3   256  14  14  1024  14  14    262144.0       0.77    102,559,744.0     51,380,224.0   1249280.0     802816.0       0.77%    2052096.0\n",
            "127             layer3.2.bn3  1024  14  14  1024  14  14      2048.0       0.77        802,816.0        401,408.0    811008.0     802816.0       0.32%    1613824.0\n",
            "128            layer3.2.act3  1024  14  14  1024  14  14         0.0       0.77        200,704.0        200,704.0    802816.0     802816.0       0.05%    1605632.0\n",
            "129           layer3.3.conv1  1024  14  14   256  14  14    262144.0       0.19    102,710,272.0     51,380,224.0   1851392.0     200704.0       0.94%    2052096.0\n",
            "130             layer3.3.bn1   256  14  14   256  14  14       512.0       0.19        200,704.0        100,352.0    202752.0     200704.0       0.21%     403456.0\n",
            "131            layer3.3.act1   256  14  14   256  14  14         0.0       0.19         50,176.0         50,176.0    200704.0     200704.0       0.03%     401408.0\n",
            "132           layer3.3.conv2   256  14  14   256  14  14    589824.0       0.19    231,160,832.0    115,605,504.0   2560000.0     200704.0       1.26%    2760704.0\n",
            "133             layer3.3.bn2   256  14  14   256  14  14       512.0       0.19        200,704.0        100,352.0    202752.0     200704.0       0.19%     403456.0\n",
            "134      layer3.3.drop_block   256  14  14   256  14  14         0.0       0.19              0.0              0.0         0.0          0.0       0.01%          0.0\n",
            "135            layer3.3.act2   256  14  14   256  14  14         0.0       0.19         50,176.0         50,176.0    200704.0     200704.0       0.05%     401408.0\n",
            "136              layer3.3.aa   256  14  14   256  14  14         0.0       0.19              0.0              0.0         0.0          0.0       0.01%          0.0\n",
            "137           layer3.3.conv3   256  14  14  1024  14  14    262144.0       0.77    102,559,744.0     51,380,224.0   1249280.0     802816.0       0.77%    2052096.0\n",
            "138             layer3.3.bn3  1024  14  14  1024  14  14      2048.0       0.77        802,816.0        401,408.0    811008.0     802816.0       0.22%    1613824.0\n",
            "139            layer3.3.act3  1024  14  14  1024  14  14         0.0       0.77        200,704.0        200,704.0    802816.0     802816.0       0.03%    1605632.0\n",
            "140           layer3.4.conv1  1024  14  14   256  14  14    262144.0       0.19    102,710,272.0     51,380,224.0   1851392.0     200704.0       0.95%    2052096.0\n",
            "141             layer3.4.bn1   256  14  14   256  14  14       512.0       0.19        200,704.0        100,352.0    202752.0     200704.0       0.21%     403456.0\n",
            "142            layer3.4.act1   256  14  14   256  14  14         0.0       0.19         50,176.0         50,176.0    200704.0     200704.0       0.03%     401408.0\n",
            "143           layer3.4.conv2   256  14  14   256  14  14    589824.0       0.19    231,160,832.0    115,605,504.0   2560000.0     200704.0       1.23%    2760704.0\n",
            "144             layer3.4.bn2   256  14  14   256  14  14       512.0       0.19        200,704.0        100,352.0    202752.0     200704.0       0.20%     403456.0\n",
            "145      layer3.4.drop_block   256  14  14   256  14  14         0.0       0.19              0.0              0.0         0.0          0.0       0.01%          0.0\n",
            "146            layer3.4.act2   256  14  14   256  14  14         0.0       0.19         50,176.0         50,176.0    200704.0     200704.0       0.04%     401408.0\n",
            "147              layer3.4.aa   256  14  14   256  14  14         0.0       0.19              0.0              0.0         0.0          0.0       0.01%          0.0\n",
            "148           layer3.4.conv3   256  14  14  1024  14  14    262144.0       0.77    102,559,744.0     51,380,224.0   1249280.0     802816.0       0.77%    2052096.0\n",
            "149             layer3.4.bn3  1024  14  14  1024  14  14      2048.0       0.77        802,816.0        401,408.0    811008.0     802816.0       0.23%    1613824.0\n",
            "150            layer3.4.act3  1024  14  14  1024  14  14         0.0       0.77        200,704.0        200,704.0    802816.0     802816.0       0.04%    1605632.0\n",
            "151           layer3.5.conv1  1024  14  14   256  14  14    262144.0       0.19    102,710,272.0     51,380,224.0   1851392.0     200704.0       0.94%    2052096.0\n",
            "152             layer3.5.bn1   256  14  14   256  14  14       512.0       0.19        200,704.0        100,352.0    202752.0     200704.0       0.22%     403456.0\n",
            "153            layer3.5.act1   256  14  14   256  14  14         0.0       0.19         50,176.0         50,176.0    200704.0     200704.0       0.03%     401408.0\n",
            "154           layer3.5.conv2   256  14  14   256  14  14    589824.0       0.19    231,160,832.0    115,605,504.0   2560000.0     200704.0       1.23%    2760704.0\n",
            "155             layer3.5.bn2   256  14  14   256  14  14       512.0       0.19        200,704.0        100,352.0    202752.0     200704.0       0.19%     403456.0\n",
            "156      layer3.5.drop_block   256  14  14   256  14  14         0.0       0.19              0.0              0.0         0.0          0.0       0.01%          0.0\n",
            "157            layer3.5.act2   256  14  14   256  14  14         0.0       0.19         50,176.0         50,176.0    200704.0     200704.0       0.04%     401408.0\n",
            "158              layer3.5.aa   256  14  14   256  14  14         0.0       0.19              0.0              0.0         0.0          0.0       0.01%          0.0\n",
            "159           layer3.5.conv3   256  14  14  1024  14  14    262144.0       0.77    102,559,744.0     51,380,224.0   1249280.0     802816.0       0.77%    2052096.0\n",
            "160             layer3.5.bn3  1024  14  14  1024  14  14      2048.0       0.77        802,816.0        401,408.0    811008.0     802816.0       0.24%    1613824.0\n",
            "161            layer3.5.act3  1024  14  14  1024  14  14         0.0       0.77        200,704.0        200,704.0    802816.0     802816.0       0.04%    1605632.0\n",
            "162           layer4.0.conv1  1024  14  14   512  14  14    524288.0       0.38    205,420,544.0    102,760,448.0   2899968.0     401408.0       1.88%    3301376.0\n",
            "163             layer4.0.bn1   512  14  14   512  14  14      1024.0       0.38        401,408.0        200,704.0    405504.0     401408.0       0.18%     806912.0\n",
            "164            layer4.0.act1   512  14  14   512  14  14         0.0       0.38        100,352.0        100,352.0    401408.0     401408.0       0.04%     802816.0\n",
            "165           layer4.0.conv2   512  14  14   512   7   7   2359296.0       0.10    231,185,920.0    115,605,504.0   9838592.0     100352.0       2.68%    9938944.0\n",
            "166             layer4.0.bn2   512   7   7   512   7   7      1024.0       0.10        100,352.0         50,176.0    104448.0     100352.0       0.26%     204800.0\n",
            "167      layer4.0.drop_block   512   7   7   512   7   7         0.0       0.10              0.0              0.0         0.0          0.0       0.01%          0.0\n",
            "168            layer4.0.act2   512   7   7   512   7   7         0.0       0.10         25,088.0         25,088.0    100352.0     100352.0       0.04%     200704.0\n",
            "169              layer4.0.aa   512   7   7   512   7   7         0.0       0.10              0.0              0.0         0.0          0.0       0.01%          0.0\n",
            "170           layer4.0.conv3   512   7   7  2048   7   7   1048576.0       0.38    102,660,096.0     51,380,224.0   4294656.0     401408.0       1.16%    4696064.0\n",
            "171             layer4.0.bn3  2048   7   7  2048   7   7      4096.0       0.38        401,408.0        200,704.0    417792.0     401408.0       5.17%     819200.0\n",
            "172            layer4.0.act3  2048   7   7  2048   7   7         0.0       0.38        100,352.0        100,352.0    401408.0     401408.0       0.04%     802816.0\n",
            "173    layer4.0.downsample.0  1024  14  14  1024   7   7         0.0       0.19        200,704.0        200,704.0    802816.0     200704.0       0.27%    1003520.0\n",
            "174    layer4.0.downsample.1  1024   7   7  2048   7   7   2097152.0       0.38    205,420,544.0    102,760,448.0   8589312.0     401408.0       1.47%    8990720.0\n",
            "175    layer4.0.downsample.2  2048   7   7  2048   7   7      4096.0       0.38        401,408.0        200,704.0    417792.0     401408.0       0.21%     819200.0\n",
            "176           layer4.1.conv1  2048   7   7   512   7   7   1048576.0       0.10    102,735,360.0     51,380,224.0   4595712.0     100352.0       0.92%    4696064.0\n",
            "177             layer4.1.bn1   512   7   7   512   7   7      1024.0       0.10        100,352.0         50,176.0    104448.0     100352.0       0.21%     204800.0\n",
            "178            layer4.1.act1   512   7   7   512   7   7         0.0       0.10         25,088.0         25,088.0    100352.0     100352.0       0.03%     200704.0\n",
            "179           layer4.1.conv2   512   7   7   512   7   7   2359296.0       0.10    231,185,920.0    115,605,504.0   9537536.0     100352.0       1.50%    9637888.0\n",
            "180             layer4.1.bn2   512   7   7   512   7   7      1024.0       0.10        100,352.0         50,176.0    104448.0     100352.0       0.18%     204800.0\n",
            "181      layer4.1.drop_block   512   7   7   512   7   7         0.0       0.10              0.0              0.0         0.0          0.0       0.01%          0.0\n",
            "182            layer4.1.act2   512   7   7   512   7   7         0.0       0.10         25,088.0         25,088.0    100352.0     100352.0       0.04%     200704.0\n",
            "183              layer4.1.aa   512   7   7   512   7   7         0.0       0.10              0.0              0.0         0.0          0.0       0.01%          0.0\n",
            "184           layer4.1.conv3   512   7   7  2048   7   7   1048576.0       0.38    102,660,096.0     51,380,224.0   4294656.0     401408.0       0.91%    4696064.0\n",
            "185             layer4.1.bn3  2048   7   7  2048   7   7      4096.0       0.38        401,408.0        200,704.0    417792.0     401408.0       0.24%     819200.0\n",
            "186            layer4.1.act3  2048   7   7  2048   7   7         0.0       0.38        100,352.0        100,352.0    401408.0     401408.0       0.04%     802816.0\n",
            "187           layer4.2.conv1  2048   7   7   512   7   7   1048576.0       0.10    102,735,360.0     51,380,224.0   4595712.0     100352.0       0.98%    4696064.0\n",
            "188             layer4.2.bn1   512   7   7   512   7   7      1024.0       0.10        100,352.0         50,176.0    104448.0     100352.0       0.24%     204800.0\n",
            "189            layer4.2.act1   512   7   7   512   7   7         0.0       0.10         25,088.0         25,088.0    100352.0     100352.0       0.04%     200704.0\n",
            "190           layer4.2.conv2   512   7   7   512   7   7   2359296.0       0.10    231,185,920.0    115,605,504.0   9537536.0     100352.0       1.43%    9637888.0\n",
            "191             layer4.2.bn2   512   7   7   512   7   7      1024.0       0.10        100,352.0         50,176.0    104448.0     100352.0       0.23%     204800.0\n",
            "192      layer4.2.drop_block   512   7   7   512   7   7         0.0       0.10              0.0              0.0         0.0          0.0       0.01%          0.0\n",
            "193            layer4.2.act2   512   7   7   512   7   7         0.0       0.10         25,088.0         25,088.0    100352.0     100352.0       0.04%     200704.0\n",
            "194              layer4.2.aa   512   7   7   512   7   7         0.0       0.10              0.0              0.0         0.0          0.0       0.01%          0.0\n",
            "195           layer4.2.conv3   512   7   7  2048   7   7   1048576.0       0.38    102,660,096.0     51,380,224.0   4294656.0     401408.0       0.95%    4696064.0\n",
            "196             layer4.2.bn3  2048   7   7  2048   7   7      4096.0       0.38        401,408.0        200,704.0    417792.0     401408.0       0.30%     819200.0\n",
            "197            layer4.2.act3  2048   7   7  2048   7   7         0.0       0.38        100,352.0        100,352.0    401408.0     401408.0       0.04%     802816.0\n",
            "198      global_pool.flatten  2048   1   1          2048         0.0       0.01              0.0              0.0         0.0          0.0       0.24%          0.0\n",
            "199         global_pool.pool  2048   7   7  2048   1   1         0.0       0.01              0.0              0.0         0.0          0.0       0.32%          0.0\n",
            "200                       fc          2048             3      6147.0       0.00         12,285.0          6,144.0     32780.0         12.0       0.24%      32792.0\n",
            "total                                                     23533411.0     144.05  8,702,738,429.0  4,363,235,840.0     32780.0         12.0     100.00%  373120408.0\n",
            "===================================================================================================================================================================\n",
            "Total params: 23,533,411\n",
            "-------------------------------------------------------------------------------------------------------------------------------------------------------------------\n",
            "Total memory: 144.05MB\n",
            "Total MAdd: 8.7GMAdd\n",
            "Total Flops: 4.36GFlops\n",
            "Total MemR+W: 355.84MB\n",
            "\n"
          ]
        },
        {
          "output_type": "stream",
          "name": "stderr",
          "text": [
            "/usr/local/lib/python3.9/dist-packages/torchstat/reporter.py:63: FutureWarning: The frame.append method is deprecated and will be removed from pandas in a future version. Use pandas.concat instead.\n",
            "  df = df.append(total_df)\n"
          ]
        }
      ]
    },
    {
      "cell_type": "markdown",
      "source": [
        "See? It wasn't that hard, was it?! 😉"
      ],
      "metadata": {
        "id": "2cN1EF53Xj9Q"
      }
    }
  ]
}